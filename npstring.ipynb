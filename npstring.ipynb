{
  "nbformat": 4,
  "nbformat_minor": 0,
  "metadata": {
    "colab": {
      "provenance": [],
      "mount_file_id": "1-TLc8H3031adQw0mK4mqJCtXZxxpRt8D",
      "authorship_tag": "ABX9TyOcrKqPKsCKOba2reTmV6D5",
      "include_colab_link": true
    },
    "kernelspec": {
      "name": "python3",
      "display_name": "Python 3"
    },
    "language_info": {
      "name": "python"
    }
  },
  "cells": [
    {
      "cell_type": "markdown",
      "metadata": {
        "id": "view-in-github",
        "colab_type": "text"
      },
      "source": [
        "<a href=\"https://colab.research.google.com/github/gfeyzakorkmaz/Tries/blob/main/npstring.ipynb\" target=\"_parent\"><img src=\"https://colab.research.google.com/assets/colab-badge.svg\" alt=\"Open In Colab\"/></a>"
      ]
    },
    {
      "cell_type": "code",
      "execution_count": 2,
      "metadata": {
        "colab": {
          "base_uri": "https://localhost:8080/",
          "height": 568
        },
        "id": "EZnYP9GtmePg",
        "outputId": "07fdb819-9536-48e1-a757-9ae44bfd0b1c"
      },
      "outputs": [
        {
          "output_type": "stream",
          "name": "stderr",
          "text": [
            "/usr/local/lib/python3.11/dist-packages/openpyxl/worksheet/header_footer.py:48: UserWarning: Cannot parse header or footer so it will be ignored\n",
            "  warn(\"\"\"Cannot parse header or footer so it will be ignored\"\"\")\n"
          ]
        },
        {
          "output_type": "execute_result",
          "data": {
            "text/plain": [
              "   Row Order Priority Order Date  Order  Discount  Unit Price  Order Quantity  \\\n",
              "0    1           High 2017-01-01  28774      0.10           6              32   \n",
              "1    2  Not Specified 2017-01-01  88028      0.08          96               2   \n",
              "2    3       Critical 2017-01-02   9285      0.06          41               3   \n",
              "3    4            Low 2017-01-02  37537      0.00         292               4   \n",
              "4    5            Low 2017-01-02  37537      0.07         101              43   \n",
              "\n",
              "     Sales   Profit  Shipping Cost  ...  Customer Customer Name  \\\n",
              "0   172.80   106.36              5  ...      1656   Joy Corbett   \n",
              "1   176.64    45.64             35  ...      2211    Anita Hahn   \n",
              "2   115.62    33.90              3  ...       949     Ernest Oh   \n",
              "3  1168.00   605.08             49  ...        68    Scott Bunn   \n",
              "4  4038.99  2647.66             45  ...        68    Scott Bunn   \n",
              "\n",
              "          Region       State          Country / Region           City  \\\n",
              "0        AsiaPac     Central                      Fiji           Suva   \n",
              "1  North America    Maryland  United States of America          Bowie   \n",
              "2  North America  California  United States of America    Los Angeles   \n",
              "3  North America    New York  United States of America  New York City   \n",
              "4  North America    New York  United States of America  New York City   \n",
              "\n",
              "   Postal Code            Ship Date       Ship Mode  \\\n",
              "0          NaN  2017-01-02 00:00:00     Regular Air   \n",
              "1      20715.0  2017-01-03 00:00:00     Express Air   \n",
              "2      90049.0  2017-01-04 00:00:00     Regular Air   \n",
              "3      10177.0  2017-01-02 00:00:00  Delivery Truck   \n",
              "4      10177.0  2017-01-04 00:00:00  Delivery Truck   \n",
              "\n",
              "                                           SubRegion  \n",
              "0                                                NaN  \n",
              "1  East                                          ...  \n",
              "2  West                                          ...  \n",
              "3  East                                          ...  \n",
              "4  East                                          ...  \n",
              "\n",
              "[5 rows x 26 columns]"
            ],
            "text/html": [
              "\n",
              "  <div id=\"df-d22dd793-77ce-4aa6-912b-2a643c6475e7\" class=\"colab-df-container\">\n",
              "    <div>\n",
              "<style scoped>\n",
              "    .dataframe tbody tr th:only-of-type {\n",
              "        vertical-align: middle;\n",
              "    }\n",
              "\n",
              "    .dataframe tbody tr th {\n",
              "        vertical-align: top;\n",
              "    }\n",
              "\n",
              "    .dataframe thead th {\n",
              "        text-align: right;\n",
              "    }\n",
              "</style>\n",
              "<table border=\"1\" class=\"dataframe\">\n",
              "  <thead>\n",
              "    <tr style=\"text-align: right;\">\n",
              "      <th></th>\n",
              "      <th>Row</th>\n",
              "      <th>Order Priority</th>\n",
              "      <th>Order Date</th>\n",
              "      <th>Order</th>\n",
              "      <th>Discount</th>\n",
              "      <th>Unit Price</th>\n",
              "      <th>Order Quantity</th>\n",
              "      <th>Sales</th>\n",
              "      <th>Profit</th>\n",
              "      <th>Shipping Cost</th>\n",
              "      <th>...</th>\n",
              "      <th>Customer</th>\n",
              "      <th>Customer Name</th>\n",
              "      <th>Region</th>\n",
              "      <th>State</th>\n",
              "      <th>Country / Region</th>\n",
              "      <th>City</th>\n",
              "      <th>Postal Code</th>\n",
              "      <th>Ship Date</th>\n",
              "      <th>Ship Mode</th>\n",
              "      <th>SubRegion</th>\n",
              "    </tr>\n",
              "  </thead>\n",
              "  <tbody>\n",
              "    <tr>\n",
              "      <th>0</th>\n",
              "      <td>1</td>\n",
              "      <td>High</td>\n",
              "      <td>2017-01-01</td>\n",
              "      <td>28774</td>\n",
              "      <td>0.10</td>\n",
              "      <td>6</td>\n",
              "      <td>32</td>\n",
              "      <td>172.80</td>\n",
              "      <td>106.36</td>\n",
              "      <td>5</td>\n",
              "      <td>...</td>\n",
              "      <td>1656</td>\n",
              "      <td>Joy Corbett</td>\n",
              "      <td>AsiaPac</td>\n",
              "      <td>Central</td>\n",
              "      <td>Fiji</td>\n",
              "      <td>Suva</td>\n",
              "      <td>NaN</td>\n",
              "      <td>2017-01-02 00:00:00</td>\n",
              "      <td>Regular Air</td>\n",
              "      <td>NaN</td>\n",
              "    </tr>\n",
              "    <tr>\n",
              "      <th>1</th>\n",
              "      <td>2</td>\n",
              "      <td>Not Specified</td>\n",
              "      <td>2017-01-01</td>\n",
              "      <td>88028</td>\n",
              "      <td>0.08</td>\n",
              "      <td>96</td>\n",
              "      <td>2</td>\n",
              "      <td>176.64</td>\n",
              "      <td>45.64</td>\n",
              "      <td>35</td>\n",
              "      <td>...</td>\n",
              "      <td>2211</td>\n",
              "      <td>Anita Hahn</td>\n",
              "      <td>North America</td>\n",
              "      <td>Maryland</td>\n",
              "      <td>United States of America</td>\n",
              "      <td>Bowie</td>\n",
              "      <td>20715.0</td>\n",
              "      <td>2017-01-03 00:00:00</td>\n",
              "      <td>Express Air</td>\n",
              "      <td>East                                          ...</td>\n",
              "    </tr>\n",
              "    <tr>\n",
              "      <th>2</th>\n",
              "      <td>3</td>\n",
              "      <td>Critical</td>\n",
              "      <td>2017-01-02</td>\n",
              "      <td>9285</td>\n",
              "      <td>0.06</td>\n",
              "      <td>41</td>\n",
              "      <td>3</td>\n",
              "      <td>115.62</td>\n",
              "      <td>33.90</td>\n",
              "      <td>3</td>\n",
              "      <td>...</td>\n",
              "      <td>949</td>\n",
              "      <td>Ernest Oh</td>\n",
              "      <td>North America</td>\n",
              "      <td>California</td>\n",
              "      <td>United States of America</td>\n",
              "      <td>Los Angeles</td>\n",
              "      <td>90049.0</td>\n",
              "      <td>2017-01-04 00:00:00</td>\n",
              "      <td>Regular Air</td>\n",
              "      <td>West                                          ...</td>\n",
              "    </tr>\n",
              "    <tr>\n",
              "      <th>3</th>\n",
              "      <td>4</td>\n",
              "      <td>Low</td>\n",
              "      <td>2017-01-02</td>\n",
              "      <td>37537</td>\n",
              "      <td>0.00</td>\n",
              "      <td>292</td>\n",
              "      <td>4</td>\n",
              "      <td>1168.00</td>\n",
              "      <td>605.08</td>\n",
              "      <td>49</td>\n",
              "      <td>...</td>\n",
              "      <td>68</td>\n",
              "      <td>Scott Bunn</td>\n",
              "      <td>North America</td>\n",
              "      <td>New York</td>\n",
              "      <td>United States of America</td>\n",
              "      <td>New York City</td>\n",
              "      <td>10177.0</td>\n",
              "      <td>2017-01-02 00:00:00</td>\n",
              "      <td>Delivery Truck</td>\n",
              "      <td>East                                          ...</td>\n",
              "    </tr>\n",
              "    <tr>\n",
              "      <th>4</th>\n",
              "      <td>5</td>\n",
              "      <td>Low</td>\n",
              "      <td>2017-01-02</td>\n",
              "      <td>37537</td>\n",
              "      <td>0.07</td>\n",
              "      <td>101</td>\n",
              "      <td>43</td>\n",
              "      <td>4038.99</td>\n",
              "      <td>2647.66</td>\n",
              "      <td>45</td>\n",
              "      <td>...</td>\n",
              "      <td>68</td>\n",
              "      <td>Scott Bunn</td>\n",
              "      <td>North America</td>\n",
              "      <td>New York</td>\n",
              "      <td>United States of America</td>\n",
              "      <td>New York City</td>\n",
              "      <td>10177.0</td>\n",
              "      <td>2017-01-04 00:00:00</td>\n",
              "      <td>Delivery Truck</td>\n",
              "      <td>East                                          ...</td>\n",
              "    </tr>\n",
              "  </tbody>\n",
              "</table>\n",
              "<p>5 rows × 26 columns</p>\n",
              "</div>\n",
              "    <div class=\"colab-df-buttons\">\n",
              "\n",
              "  <div class=\"colab-df-container\">\n",
              "    <button class=\"colab-df-convert\" onclick=\"convertToInteractive('df-d22dd793-77ce-4aa6-912b-2a643c6475e7')\"\n",
              "            title=\"Convert this dataframe to an interactive table.\"\n",
              "            style=\"display:none;\">\n",
              "\n",
              "  <svg xmlns=\"http://www.w3.org/2000/svg\" height=\"24px\" viewBox=\"0 -960 960 960\">\n",
              "    <path d=\"M120-120v-720h720v720H120Zm60-500h600v-160H180v160Zm220 220h160v-160H400v160Zm0 220h160v-160H400v160ZM180-400h160v-160H180v160Zm440 0h160v-160H620v160ZM180-180h160v-160H180v160Zm440 0h160v-160H620v160Z\"/>\n",
              "  </svg>\n",
              "    </button>\n",
              "\n",
              "  <style>\n",
              "    .colab-df-container {\n",
              "      display:flex;\n",
              "      gap: 12px;\n",
              "    }\n",
              "\n",
              "    .colab-df-convert {\n",
              "      background-color: #E8F0FE;\n",
              "      border: none;\n",
              "      border-radius: 50%;\n",
              "      cursor: pointer;\n",
              "      display: none;\n",
              "      fill: #1967D2;\n",
              "      height: 32px;\n",
              "      padding: 0 0 0 0;\n",
              "      width: 32px;\n",
              "    }\n",
              "\n",
              "    .colab-df-convert:hover {\n",
              "      background-color: #E2EBFA;\n",
              "      box-shadow: 0px 1px 2px rgba(60, 64, 67, 0.3), 0px 1px 3px 1px rgba(60, 64, 67, 0.15);\n",
              "      fill: #174EA6;\n",
              "    }\n",
              "\n",
              "    .colab-df-buttons div {\n",
              "      margin-bottom: 4px;\n",
              "    }\n",
              "\n",
              "    [theme=dark] .colab-df-convert {\n",
              "      background-color: #3B4455;\n",
              "      fill: #D2E3FC;\n",
              "    }\n",
              "\n",
              "    [theme=dark] .colab-df-convert:hover {\n",
              "      background-color: #434B5C;\n",
              "      box-shadow: 0px 1px 3px 1px rgba(0, 0, 0, 0.15);\n",
              "      filter: drop-shadow(0px 1px 2px rgba(0, 0, 0, 0.3));\n",
              "      fill: #FFFFFF;\n",
              "    }\n",
              "  </style>\n",
              "\n",
              "    <script>\n",
              "      const buttonEl =\n",
              "        document.querySelector('#df-d22dd793-77ce-4aa6-912b-2a643c6475e7 button.colab-df-convert');\n",
              "      buttonEl.style.display =\n",
              "        google.colab.kernel.accessAllowed ? 'block' : 'none';\n",
              "\n",
              "      async function convertToInteractive(key) {\n",
              "        const element = document.querySelector('#df-d22dd793-77ce-4aa6-912b-2a643c6475e7');\n",
              "        const dataTable =\n",
              "          await google.colab.kernel.invokeFunction('convertToInteractive',\n",
              "                                                    [key], {});\n",
              "        if (!dataTable) return;\n",
              "\n",
              "        const docLinkHtml = 'Like what you see? Visit the ' +\n",
              "          '<a target=\"_blank\" href=https://colab.research.google.com/notebooks/data_table.ipynb>data table notebook</a>'\n",
              "          + ' to learn more about interactive tables.';\n",
              "        element.innerHTML = '';\n",
              "        dataTable['output_type'] = 'display_data';\n",
              "        await google.colab.output.renderOutput(dataTable, element);\n",
              "        const docLink = document.createElement('div');\n",
              "        docLink.innerHTML = docLinkHtml;\n",
              "        element.appendChild(docLink);\n",
              "      }\n",
              "    </script>\n",
              "  </div>\n",
              "\n",
              "\n",
              "<div id=\"df-84f8bb6c-f02a-4b00-bba3-16bd051106ac\">\n",
              "  <button class=\"colab-df-quickchart\" onclick=\"quickchart('df-84f8bb6c-f02a-4b00-bba3-16bd051106ac')\"\n",
              "            title=\"Suggest charts\"\n",
              "            style=\"display:none;\">\n",
              "\n",
              "<svg xmlns=\"http://www.w3.org/2000/svg\" height=\"24px\"viewBox=\"0 0 24 24\"\n",
              "     width=\"24px\">\n",
              "    <g>\n",
              "        <path d=\"M19 3H5c-1.1 0-2 .9-2 2v14c0 1.1.9 2 2 2h14c1.1 0 2-.9 2-2V5c0-1.1-.9-2-2-2zM9 17H7v-7h2v7zm4 0h-2V7h2v10zm4 0h-2v-4h2v4z\"/>\n",
              "    </g>\n",
              "</svg>\n",
              "  </button>\n",
              "\n",
              "<style>\n",
              "  .colab-df-quickchart {\n",
              "      --bg-color: #E8F0FE;\n",
              "      --fill-color: #1967D2;\n",
              "      --hover-bg-color: #E2EBFA;\n",
              "      --hover-fill-color: #174EA6;\n",
              "      --disabled-fill-color: #AAA;\n",
              "      --disabled-bg-color: #DDD;\n",
              "  }\n",
              "\n",
              "  [theme=dark] .colab-df-quickchart {\n",
              "      --bg-color: #3B4455;\n",
              "      --fill-color: #D2E3FC;\n",
              "      --hover-bg-color: #434B5C;\n",
              "      --hover-fill-color: #FFFFFF;\n",
              "      --disabled-bg-color: #3B4455;\n",
              "      --disabled-fill-color: #666;\n",
              "  }\n",
              "\n",
              "  .colab-df-quickchart {\n",
              "    background-color: var(--bg-color);\n",
              "    border: none;\n",
              "    border-radius: 50%;\n",
              "    cursor: pointer;\n",
              "    display: none;\n",
              "    fill: var(--fill-color);\n",
              "    height: 32px;\n",
              "    padding: 0;\n",
              "    width: 32px;\n",
              "  }\n",
              "\n",
              "  .colab-df-quickchart:hover {\n",
              "    background-color: var(--hover-bg-color);\n",
              "    box-shadow: 0 1px 2px rgba(60, 64, 67, 0.3), 0 1px 3px 1px rgba(60, 64, 67, 0.15);\n",
              "    fill: var(--button-hover-fill-color);\n",
              "  }\n",
              "\n",
              "  .colab-df-quickchart-complete:disabled,\n",
              "  .colab-df-quickchart-complete:disabled:hover {\n",
              "    background-color: var(--disabled-bg-color);\n",
              "    fill: var(--disabled-fill-color);\n",
              "    box-shadow: none;\n",
              "  }\n",
              "\n",
              "  .colab-df-spinner {\n",
              "    border: 2px solid var(--fill-color);\n",
              "    border-color: transparent;\n",
              "    border-bottom-color: var(--fill-color);\n",
              "    animation:\n",
              "      spin 1s steps(1) infinite;\n",
              "  }\n",
              "\n",
              "  @keyframes spin {\n",
              "    0% {\n",
              "      border-color: transparent;\n",
              "      border-bottom-color: var(--fill-color);\n",
              "      border-left-color: var(--fill-color);\n",
              "    }\n",
              "    20% {\n",
              "      border-color: transparent;\n",
              "      border-left-color: var(--fill-color);\n",
              "      border-top-color: var(--fill-color);\n",
              "    }\n",
              "    30% {\n",
              "      border-color: transparent;\n",
              "      border-left-color: var(--fill-color);\n",
              "      border-top-color: var(--fill-color);\n",
              "      border-right-color: var(--fill-color);\n",
              "    }\n",
              "    40% {\n",
              "      border-color: transparent;\n",
              "      border-right-color: var(--fill-color);\n",
              "      border-top-color: var(--fill-color);\n",
              "    }\n",
              "    60% {\n",
              "      border-color: transparent;\n",
              "      border-right-color: var(--fill-color);\n",
              "    }\n",
              "    80% {\n",
              "      border-color: transparent;\n",
              "      border-right-color: var(--fill-color);\n",
              "      border-bottom-color: var(--fill-color);\n",
              "    }\n",
              "    90% {\n",
              "      border-color: transparent;\n",
              "      border-bottom-color: var(--fill-color);\n",
              "    }\n",
              "  }\n",
              "</style>\n",
              "\n",
              "  <script>\n",
              "    async function quickchart(key) {\n",
              "      const quickchartButtonEl =\n",
              "        document.querySelector('#' + key + ' button');\n",
              "      quickchartButtonEl.disabled = true;  // To prevent multiple clicks.\n",
              "      quickchartButtonEl.classList.add('colab-df-spinner');\n",
              "      try {\n",
              "        const charts = await google.colab.kernel.invokeFunction(\n",
              "            'suggestCharts', [key], {});\n",
              "      } catch (error) {\n",
              "        console.error('Error during call to suggestCharts:', error);\n",
              "      }\n",
              "      quickchartButtonEl.classList.remove('colab-df-spinner');\n",
              "      quickchartButtonEl.classList.add('colab-df-quickchart-complete');\n",
              "    }\n",
              "    (() => {\n",
              "      let quickchartButtonEl =\n",
              "        document.querySelector('#df-84f8bb6c-f02a-4b00-bba3-16bd051106ac button');\n",
              "      quickchartButtonEl.style.display =\n",
              "        google.colab.kernel.accessAllowed ? 'block' : 'none';\n",
              "    })();\n",
              "  </script>\n",
              "</div>\n",
              "\n",
              "    </div>\n",
              "  </div>\n"
            ],
            "application/vnd.google.colaboratory.intrinsic+json": {
              "type": "dataframe",
              "variable_name": "df"
            }
          },
          "metadata": {},
          "execution_count": 2
        }
      ],
      "source": [
        "import pandas as pd\n",
        "import numpy as np\n",
        "\n",
        "path = '/content/drive/MyDrive/Dataset/Orders.xlsx'\n",
        "\n",
        "df = pd.read_excel(path)\n",
        "df.head()"
      ]
    },
    {
      "cell_type": "code",
      "source": [
        "sub_category_profits = df.groupby('SubRegion')['Profit'].sum().to_numpy()\n",
        "sub_categories = df['SubRegion'].unique()\n",
        "\n",
        "most_profitable_index = np.argmax(sub_category_profits)\n",
        "most_profitable_sub_category = sub_categories[most_profitable_index]\n",
        "\n",
        "print(\"Most profitable Sub-Category:\", most_profitable_sub_category)"
      ],
      "metadata": {
        "colab": {
          "base_uri": "https://localhost:8080/"
        },
        "id": "AlI4Q7wam0FW",
        "outputId": "99ce3099-a99e-4cee-c429-73737fa59aec"
      },
      "execution_count": 4,
      "outputs": [
        {
          "output_type": "stream",
          "name": "stdout",
          "text": [
            "Most profitable Sub-Category: East                                                                                                                                                                                                                                                           \n"
          ]
        }
      ]
    },
    {
      "cell_type": "code",
      "source": [
        "state_profits = df.groupby('State')['Profit'].sum().to_numpy()\n",
        "states = df['State'].unique()\n",
        "\n",
        "lowest_profit_index = np.argmin(state_profits)\n",
        "lowest_profit_state = states[lowest_profit_index]\n",
        "\n",
        "print(\"state with lowest Profit:\", lowest_profit_state)"
      ],
      "metadata": {
        "colab": {
          "base_uri": "https://localhost:8080/"
        },
        "id": "v3lAZUfwnfHL",
        "outputId": "04b47760-aa08-488c-d8cb-3f0a7b39c5f8"
      },
      "execution_count": 6,
      "outputs": [
        {
          "output_type": "stream",
          "name": "stdout",
          "text": [
            "state with lowest Profit: São Paulo\n"
          ]
        }
      ]
    },
    {
      "cell_type": "code",
      "source": [
        "segment_profits = df.groupby('Order Priority')['Profit'].sum().to_numpy()\n",
        "segments = df['Order Priority'].unique()\n",
        "\n",
        "max_profit_segment_index = np.argmax(segment_profits)\n",
        "most_profitable_segment = segments[max_profit_segment_index]\n",
        "\n",
        "print(\"Most Profitable Order Priority:\", most_profitable_segment)\n"
      ],
      "metadata": {
        "colab": {
          "base_uri": "https://localhost:8080/"
        },
        "id": "KwuxlWsQn_Ze",
        "outputId": "1c961161-1845-462d-ff98-ee5a3b5c2a2d"
      },
      "execution_count": 8,
      "outputs": [
        {
          "output_type": "stream",
          "name": "stdout",
          "text": [
            "Most Profitable Order Priority: Not Specified\n"
          ]
        }
      ]
    },
    {
      "cell_type": "code",
      "source": [
        "state_profits = df.groupby('City')['Profit'].sum().to_numpy()\n",
        "states = df['City'].unique()\n",
        "\n",
        "lowest_profit_index = np.argmin(state_profits)\n",
        "lowest_profit_state = states[lowest_profit_index]\n",
        "\n",
        "print(\"state with lowest Profit:\", lowest_profit_state)"
      ],
      "metadata": {
        "colab": {
          "base_uri": "https://localhost:8080/"
        },
        "id": "or72xIgEoMoE",
        "outputId": "8a53407a-fc98-42a3-8295-e3f984b0f714"
      },
      "execution_count": 9,
      "outputs": [
        {
          "output_type": "stream",
          "name": "stdout",
          "text": [
            "state with lowest Profit: Essex Junction\n"
          ]
        }
      ]
    },
    {
      "cell_type": "code",
      "source": [
        "state_profits = df.groupby('Country / Region')['Profit'].sum().to_numpy()\n",
        "states = df['Country / Region'].unique()\n",
        "\n",
        "lowest_profit_index = np.argmin(state_profits)\n",
        "lowest_profit_state = states[lowest_profit_index]\n",
        "\n",
        "print(\"state with lowest Profit:\", lowest_profit_state)"
      ],
      "metadata": {
        "colab": {
          "base_uri": "https://localhost:8080/"
        },
        "id": "uExSdD2soW_R",
        "outputId": "2ed24f7d-b0c1-464a-f778-3e30e5d66b41"
      },
      "execution_count": 10,
      "outputs": [
        {
          "output_type": "stream",
          "name": "stdout",
          "text": [
            "state with lowest Profit: Pakistan\n"
          ]
        }
      ]
    },
    {
      "cell_type": "code",
      "source": [
        "state_profits = df.groupby('Region')['Profit'].sum().to_numpy()\n",
        "states = df['Region'].unique()\n",
        "\n",
        "lowest_profit_index = np.argmin(state_profits)\n",
        "lowest_profit_state = states[lowest_profit_index]\n",
        "\n",
        "print(\"state with lowest Profit:\", lowest_profit_state)"
      ],
      "metadata": {
        "colab": {
          "base_uri": "https://localhost:8080/"
        },
        "id": "Zl3t3cS8og8o",
        "outputId": "68432ce7-0e80-4959-8577-adf797d8a90d"
      },
      "execution_count": 11,
      "outputs": [
        {
          "output_type": "stream",
          "name": "stdout",
          "text": [
            "state with lowest Profit: EMEA\n"
          ]
        }
      ]
    },
    {
      "cell_type": "code",
      "source": [
        "state_profits = df.groupby('Region')['Profit'].sum().to_numpy()\n",
        "states = df['Region'].unique()\n",
        "\n",
        "highest_profit_index = np.argmax(state_profits)\n",
        "highest_profit_state = states[highest_profit_index]\n",
        "\n",
        "print(\"region with highest Profit:\", highest_profit_state)"
      ],
      "metadata": {
        "colab": {
          "base_uri": "https://localhost:8080/"
        },
        "id": "FBdxzQl8oox0",
        "outputId": "f626490f-a290-4bed-bf44-2a7bc472c262"
      },
      "execution_count": 14,
      "outputs": [
        {
          "output_type": "stream",
          "name": "stdout",
          "text": [
            "region with highest Profit: AsiaPac\n"
          ]
        }
      ]
    },
    {
      "cell_type": "code",
      "source": [
        "state_profits = df.groupby('Country / Region')['Profit'].sum().to_numpy()\n",
        "states = df['Country / Region'].unique()\n",
        "\n",
        "highest_profit_index = np.argmax(state_profits)\n",
        "highest_profit_state = states[highest_profit_index]\n",
        "\n",
        "print(\"region with highest Profit:\", highest_profit_state)"
      ],
      "metadata": {
        "colab": {
          "base_uri": "https://localhost:8080/"
        },
        "id": "9k1frN1epEsV",
        "outputId": "a14ab443-c815-4582-b87a-1e7a192fca74"
      },
      "execution_count": 15,
      "outputs": [
        {
          "output_type": "stream",
          "name": "stdout",
          "text": [
            "region with highest Profit: New Zealand\n"
          ]
        }
      ]
    },
    {
      "cell_type": "code",
      "source": [
        "state_profits = df.groupby('City')['Profit'].sum().to_numpy()\n",
        "states = df['City'].unique()\n",
        "\n",
        "highest_profit_index = np.argmax(state_profits)\n",
        "highest_profit_state = states[highest_profit_index]\n",
        "\n",
        "print(\"region with highest Profit:\", highest_profit_state)"
      ],
      "metadata": {
        "colab": {
          "base_uri": "https://localhost:8080/"
        },
        "id": "CSkT2871pNC7",
        "outputId": "6d920e7a-a0ae-499d-a659-7f707e542f72"
      },
      "execution_count": 16,
      "outputs": [
        {
          "output_type": "stream",
          "name": "stdout",
          "text": [
            "region with highest Profit: Jakarta\n"
          ]
        }
      ]
    }
  ]
}