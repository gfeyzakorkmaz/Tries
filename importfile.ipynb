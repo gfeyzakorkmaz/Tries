{
  "nbformat": 4,
  "nbformat_minor": 0,
  "metadata": {
    "colab": {
      "provenance": [],
      "mount_file_id": "1dOGd1kxV5oLEKTvSPfca8ZosDhWq9MWO",
      "authorship_tag": "ABX9TyMJZp15Tc9SbKL35FLJxawq",
      "include_colab_link": true
    },
    "kernelspec": {
      "name": "python3",
      "display_name": "Python 3"
    },
    "language_info": {
      "name": "python"
    }
  },
  "cells": [
    {
      "cell_type": "markdown",
      "metadata": {
        "id": "view-in-github",
        "colab_type": "text"
      },
      "source": [
        "<a href=\"https://colab.research.google.com/github/gfeyzakorkmaz/Tries/blob/main/importfile.ipynb\" target=\"_parent\"><img src=\"https://colab.research.google.com/assets/colab-badge.svg\" alt=\"Open In Colab\"/></a>"
      ]
    },
    {
      "cell_type": "code",
      "execution_count": 2,
      "metadata": {
        "colab": {
          "base_uri": "https://localhost:8080/",
          "height": 17
        },
        "id": "37YDdVi-1LeK",
        "outputId": "f770d394-b428-42b6-9f82-900d7b6d6a75"
      },
      "outputs": [
        {
          "output_type": "display_data",
          "data": {
            "text/plain": [
              "<IPython.core.display.Javascript object>"
            ],
            "application/javascript": [
              "\n",
              "    async function download(id, filename, size) {\n",
              "      if (!google.colab.kernel.accessAllowed) {\n",
              "        return;\n",
              "      }\n",
              "      const div = document.createElement('div');\n",
              "      const label = document.createElement('label');\n",
              "      label.textContent = `Downloading \"${filename}\": `;\n",
              "      div.appendChild(label);\n",
              "      const progress = document.createElement('progress');\n",
              "      progress.max = size;\n",
              "      div.appendChild(progress);\n",
              "      document.body.appendChild(div);\n",
              "\n",
              "      const buffers = [];\n",
              "      let downloaded = 0;\n",
              "\n",
              "      const channel = await google.colab.kernel.comms.open(id);\n",
              "      // Send a message to notify the kernel that we're ready.\n",
              "      channel.send({})\n",
              "\n",
              "      for await (const message of channel.messages) {\n",
              "        // Send a message to notify the kernel that we're ready.\n",
              "        channel.send({})\n",
              "        if (message.buffers) {\n",
              "          for (const buffer of message.buffers) {\n",
              "            buffers.push(buffer);\n",
              "            downloaded += buffer.byteLength;\n",
              "            progress.value = downloaded;\n",
              "          }\n",
              "        }\n",
              "      }\n",
              "      const blob = new Blob(buffers, {type: 'application/binary'});\n",
              "      const a = document.createElement('a');\n",
              "      a.href = window.URL.createObjectURL(blob);\n",
              "      a.download = filename;\n",
              "      div.appendChild(a);\n",
              "      a.click();\n",
              "      div.remove();\n",
              "    }\n",
              "  "
            ]
          },
          "metadata": {}
        },
        {
          "output_type": "display_data",
          "data": {
            "text/plain": [
              "<IPython.core.display.Javascript object>"
            ],
            "application/javascript": [
              "download(\"download_a41bfe16-f6dc-4940-b97f-9b00a4b35f86\", \"high_visitors_cleaned.xlsx\", 6446)"
            ]
          },
          "metadata": {}
        }
      ],
      "source": [
        "import pandas as pd\n",
        "from google.colab import files\n",
        "\n",
        "\n",
        "path = '/content/drive/MyDrive/Dataset/complex_marketing_data_enriched.xlsx'\n",
        "df = pd.read_excel(path)\n",
        "\n",
        "\n",
        "high_visitors = df[df['Website Visit Frequency'] > df['Website Visit Frequency'].mean()]\n",
        "\n",
        "\n",
        "for column in high_visitors.columns:\n",
        "    if high_visitors[column].apply(lambda x: isinstance(x, (dict, list))).any():\n",
        "        high_visitors[column] = high_visitors[column].apply(lambda x: str(x))\n",
        "\n",
        "\n",
        "high_visitors_cleaned = high_visitors.reset_index(drop=True)\n",
        "high_visitors_cleaned.to_excel('high_visitors_cleaned.xlsx', index=False)\n",
        "\n",
        "\n",
        "files.download('high_visitors_cleaned.xlsx')\n"
      ]
    }
  ]
}