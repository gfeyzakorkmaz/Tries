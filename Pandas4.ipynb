{
  "nbformat": 4,
  "nbformat_minor": 0,
  "metadata": {
    "colab": {
      "provenance": [],
      "mount_file_id": "1QbEgAISQCLZWhYZoPEdi9VAjAskOOhY2",
      "authorship_tag": "ABX9TyNUBXSLs5dNt9f3PvGItJjq",
      "include_colab_link": true
    },
    "kernelspec": {
      "name": "python3",
      "display_name": "Python 3"
    },
    "language_info": {
      "name": "python"
    }
  },
  "cells": [
    {
      "cell_type": "markdown",
      "metadata": {
        "id": "view-in-github",
        "colab_type": "text"
      },
      "source": [
        "<a href=\"https://colab.research.google.com/github/gfeyzakorkmaz/Tries/blob/main/Pandas4.ipynb\" target=\"_parent\"><img src=\"https://colab.research.google.com/assets/colab-badge.svg\" alt=\"Open In Colab\"/></a>"
      ]
    },
    {
      "cell_type": "code",
      "execution_count": 1,
      "metadata": {
        "id": "-zlFrEPeOXUr"
      },
      "outputs": [],
      "source": [
        "import pandas as pd"
      ]
    },
    {
      "cell_type": "code",
      "source": [
        "path = '/content/drive/MyDrive/Dataset/complex_marketing_data_enriched.xlsx'\n",
        "\n",
        "df = pd.read_excel(path)"
      ],
      "metadata": {
        "id": "In6DdtSdOgZX"
      },
      "execution_count": 2,
      "outputs": []
    },
    {
      "cell_type": "code",
      "source": [
        "complex_aggregation = df.groupby('Region').agg(\n",
        "    Total_Spent=('Total Spent', 'sum'),\n",
        "    Avg_Discount_Long_Tenure=('Discount Availed', lambda x: x[df['Customer Tenure (Years)'] > 5].mean()),\n",
        "    Conversion_Rate_High_Spending=('Converted', lambda x: x[df['Total Spent'] > 500].mean())\n",
        ")\n",
        "print(complex_aggregation)\n"
      ],
      "metadata": {
        "colab": {
          "base_uri": "https://localhost:8080/"
        },
        "id": "BdZPDzHLOtm5",
        "outputId": "ead4fc06-4f2b-4824-b715-1452275c0d50"
      },
      "execution_count": 3,
      "outputs": [
        {
          "output_type": "stream",
          "name": "stdout",
          "text": [
            "        Total_Spent  Avg_Discount_Long_Tenure  Conversion_Rate_High_Spending\n",
            "Region                                                                      \n",
            "East           3170                 35.000000                           1.00\n",
            "North          1940                 37.666667                           0.50\n",
            "South           750                       NaN                           1.00\n",
            "West           3060                 42.400000                           0.75\n"
          ]
        }
      ]
    },
    {
      "cell_type": "code",
      "source": [
        "weighted_cart_by_campaign = df[df['Return Rate (%)'] < 5].groupby('Campaign').apply(\n",
        "    lambda x: (x['Average Cart Value'] * x['Total Spent']).sum() / x['Total Spent'].sum()\n",
        ")\n",
        "print(weighted_cart_by_campaign)\n"
      ],
      "metadata": {
        "colab": {
          "base_uri": "https://localhost:8080/"
        },
        "id": "mPgBFIqsOzZH",
        "outputId": "b26b5165-0862-4e6c-9d79-7b70f970e468"
      },
      "execution_count": 4,
      "outputs": [
        {
          "output_type": "stream",
          "name": "stdout",
          "text": [
            "Campaign\n",
            "Black Friday    330.007701\n",
            "Summer Sale     315.520000\n",
            "Winter Sale     278.545407\n",
            "dtype: float64\n"
          ]
        },
        {
          "output_type": "stream",
          "name": "stderr",
          "text": [
            "<ipython-input-4-07eac2f7315a>:1: DeprecationWarning: DataFrameGroupBy.apply operated on the grouping columns. This behavior is deprecated, and in a future version of pandas the grouping columns will be excluded from the operation. Either pass `include_groups=False` to exclude the groupings or explicitly select the grouping columns after groupby to silence this warning.\n",
            "  weighted_cart_by_campaign = df[df['Return Rate (%)'] < 5].groupby('Campaign').apply(\n"
          ]
        }
      ]
    },
    {
      "cell_type": "code",
      "source": [
        "df_sorted = df.sort_values('Age')\n",
        "df_sorted['Rolling_Avg_Spent'] = df_sorted['Total Spent'].rolling(window=5, min_periods=1).mean()\n",
        "print(df_sorted[['Age', 'Total Spent', 'Rolling_Avg_Spent']])\n"
      ],
      "metadata": {
        "colab": {
          "base_uri": "https://localhost:8080/"
        },
        "id": "xeuA2CSUO1_l",
        "outputId": "c6459729-7a92-44fc-e08c-45fafc7a89a5"
      },
      "execution_count": 5,
      "outputs": [
        {
          "output_type": "stream",
          "name": "stdout",
          "text": [
            "    Age  Total Spent  Rolling_Avg_Spent\n",
            "0    23          150              150.0\n",
            "11   24          290              220.0\n",
            "19   25          400              280.0\n",
            "7    27          120              240.0\n",
            "15   28          350              262.0\n",
            "4    29          300              292.0\n",
            "13   32          320              298.0\n",
            "9    33          750              368.0\n",
            "17   35          700              484.0\n",
            "1    35          600              534.0\n",
            "14   36          510              576.0\n",
            "6    38          670              646.0\n",
            "10   40          610              618.0\n",
            "5    41          450              568.0\n",
            "16   42          550              558.0\n",
            "2    45          800              616.0\n",
            "12   48          400              562.0\n",
            "8    50          500              540.0\n",
            "18   50          250              500.0\n",
            "3    52          200              430.0\n"
          ]
        }
      ]
    },
    {
      "cell_type": "code",
      "source": [
        "multi_level_analysis = df.groupby(['Region', 'Income Level']).agg(\n",
        "    Avg_Spent=('Total Spent', 'mean'),\n",
        "    Std_Spent=('Total Spent', 'std'),\n",
        "    Customer_Count=('Customer ID', 'count')\n",
        ")\n",
        "print(multi_level_analysis)\n"
      ],
      "metadata": {
        "colab": {
          "base_uri": "https://localhost:8080/"
        },
        "id": "GKWlK9-9O4Nq",
        "outputId": "dea3822b-4b04-4568-e38e-e157287509a7"
      },
      "execution_count": 6,
      "outputs": [
        {
          "output_type": "stream",
          "name": "stdout",
          "text": [
            "                      Avg_Spent   Std_Spent  Customer_Count\n",
            "Region Income Level                                        \n",
            "East   High          320.000000         NaN               1\n",
            "       Low           433.333333  162.583312               3\n",
            "       Medium        310.000000  143.178211               5\n",
            "North  High          350.000000         NaN               1\n",
            "       Low           395.000000  388.908730               2\n",
            "       Medium        800.000000         NaN               1\n",
            "South  Medium        750.000000         NaN               1\n",
            "West   High          605.000000  134.350288               2\n",
            "       Low           600.000000         NaN               1\n",
            "       Medium        416.666667  152.752523               3\n"
          ]
        }
      ]
    },
    {
      "cell_type": "code",
      "source": [
        "region_spending = df.groupby('Region')['Total Spent'].mean()\n",
        "high_spending_regions = region_spending[region_spending > 400].index\n",
        "filtered_customers = df[\n",
        "    (df['Customer Tenure (Years)'] > 10) &\n",
        "    (df['Region'].isin(high_spending_regions)) &\n",
        "    (df['Discount Availed'] > 50)\n",
        "]\n",
        "print(filtered_customers)\n"
      ],
      "metadata": {
        "colab": {
          "base_uri": "https://localhost:8080/"
        },
        "id": "mUdil57qO6IF",
        "outputId": "778d2fb1-abdc-440a-de36-a382d33e4e1f"
      },
      "execution_count": 7,
      "outputs": [
        {
          "output_type": "stream",
          "name": "stdout",
          "text": [
            "   Customer ID  Age Gender  Total Spent  Converted  \\\n",
            "1            2   35      M          600          1   \n",
            "\n",
            "                        Comments Purchased Category  Stock Region  \\\n",
            "1  Needs improvement in delivery             Beauty     86   West   \n",
            "\n",
            "  Income Level  Discount Availed  Customer Tenure (Years)     Campaign  \\\n",
            "1          Low                61                       12  Summer Sale   \n",
            "\n",
            "   Return Rate (%)  Website Visit Frequency  Average Cart Value  \n",
            "1         1.833412                        6              315.52  \n"
          ]
        }
      ]
    },
    {
      "cell_type": "code",
      "source": [
        "age_bins = pd.cut(df['Age'], bins=[0, 20, 30, 40, 50, 60, 70], labels=['0-20', '21-30', '31-40', '41-50', '51-60', '61-70'])\n",
        "binned_analysis = df.groupby(age_bins).agg(\n",
        "    Total_Conversions=('Converted', 'sum'),\n",
        "    Avg_Cart_Value=('Average Cart Value', 'mean')\n",
        ")\n",
        "print(binned_analysis)\n"
      ],
      "metadata": {
        "colab": {
          "base_uri": "https://localhost:8080/"
        },
        "id": "sagZT9voO8EG",
        "outputId": "dddb6a6b-e294-4be4-d27e-f1df3cb00ae2"
      },
      "execution_count": 8,
      "outputs": [
        {
          "output_type": "stream",
          "name": "stdout",
          "text": [
            "       Total_Conversions  Avg_Cart_Value\n",
            "Age                                     \n",
            "0-20                   0             NaN\n",
            "21-30                  5      260.951667\n",
            "31-40                  6      303.571429\n",
            "41-50                  1      251.116667\n",
            "51-60                  0      222.580000\n",
            "61-70                  0             NaN\n"
          ]
        },
        {
          "output_type": "stream",
          "name": "stderr",
          "text": [
            "<ipython-input-8-cb630e9e2ce4>:2: FutureWarning: The default of observed=False is deprecated and will be changed to True in a future version of pandas. Pass observed=False to retain current behavior or observed=True to adopt the future default and silence this warning.\n",
            "  binned_analysis = df.groupby(age_bins).agg(\n"
          ]
        }
      ]
    },
    {
      "cell_type": "code",
      "source": [
        "conversion_matrix = df.pivot_table(values='Converted', index='Gender', columns='Region', aggfunc='mean')\n",
        "print(conversion_matrix)\n"
      ],
      "metadata": {
        "colab": {
          "base_uri": "https://localhost:8080/"
        },
        "id": "fy8F0P16O9pb",
        "outputId": "854ee09c-3e93-4263-8d82-d6eaaa84a350"
      },
      "execution_count": 9,
      "outputs": [
        {
          "output_type": "stream",
          "name": "stdout",
          "text": [
            "Region      East  North  South      West\n",
            "Gender                                  \n",
            "F       0.833333    0.5    NaN  0.333333\n",
            "M       0.000000    1.0    1.0  0.666667\n"
          ]
        }
      ]
    },
    {
      "cell_type": "code",
      "source": [
        "def segment_customer(row):\n",
        "    if row['Total Spent'] > 500 and row['Customer Tenure (Years)'] > 10:\n",
        "        return 'High Value'\n",
        "    elif row['Total Spent'] > 300:\n",
        "        return 'Medium Value'\n",
        "    else:\n",
        "        return 'Low Value'\n",
        "\n",
        "df['Customer Segment'] = df.apply(segment_customer, axis=1)\n",
        "print(df[['Customer ID', 'Total Spent', 'Customer Tenure (Years)', 'Customer Segment']])\n"
      ],
      "metadata": {
        "colab": {
          "base_uri": "https://localhost:8080/"
        },
        "id": "aHltYw6uO_Il",
        "outputId": "505b207d-07ce-492c-8137-569d2d285e56"
      },
      "execution_count": 10,
      "outputs": [
        {
          "output_type": "stream",
          "name": "stdout",
          "text": [
            "    Customer ID  Total Spent  Customer Tenure (Years) Customer Segment\n",
            "0             1          150                        4        Low Value\n",
            "1             2          600                       12       High Value\n",
            "2             3          800                       12       High Value\n",
            "3             4          200                        7        Low Value\n",
            "4             5          300                       12        Low Value\n",
            "5             6          450                       13     Medium Value\n",
            "6             7          670                        8     Medium Value\n",
            "7             8          120                        3        Low Value\n",
            "8             9          500                       14     Medium Value\n",
            "9            10          750                        1     Medium Value\n",
            "10           11          610                        4     Medium Value\n",
            "11           12          290                        2        Low Value\n",
            "12           13          400                        8     Medium Value\n",
            "13           14          320                        4     Medium Value\n",
            "14           15          510                        2     Medium Value\n",
            "15           16          350                       14     Medium Value\n",
            "16           17          550                        6     Medium Value\n",
            "17           18          700                        6     Medium Value\n",
            "18           19          250                       10        Low Value\n",
            "19           20          400                        4     Medium Value\n"
          ]
        }
      ]
    },
    {
      "cell_type": "code",
      "source": [
        "import numpy as np\n",
        "\n",
        "df['Purchase Date'] = pd.to_datetime(\n",
        "    np.random.choice(pd.date_range('2022-01-01', '2024-12-01'), size=len(df))\n",
        ")\n",
        "monthly_trends = df.groupby(df['Purchase Date'].dt.to_period('M'))['Total Spent'].sum()\n",
        "print(monthly_trends)\n"
      ],
      "metadata": {
        "colab": {
          "base_uri": "https://localhost:8080/"
        },
        "id": "cVZBXbKfPBYy",
        "outputId": "b9c27580-3640-47cb-895e-8bc7ffabffbb"
      },
      "execution_count": 11,
      "outputs": [
        {
          "output_type": "stream",
          "name": "stdout",
          "text": [
            "Purchase Date\n",
            "2022-01     290\n",
            "2022-02     700\n",
            "2022-03     150\n",
            "2022-04     510\n",
            "2022-08    2050\n",
            "2022-09     750\n",
            "2022-11     400\n",
            "2022-12     320\n",
            "2023-02     400\n",
            "2023-03     670\n",
            "2023-07     600\n",
            "2023-12     120\n",
            "2024-06     800\n",
            "2024-07     810\n",
            "2024-08     350\n",
            "Freq: M, Name: Total Spent, dtype: int64\n"
          ]
        }
      ]
    },
    {
      "cell_type": "code",
      "source": [
        "from sklearn.preprocessing import MinMaxScaler\n",
        "\n",
        "scaler = MinMaxScaler()\n",
        "df[['Total Spent Normalized', 'Discount Availed Normalized']] = scaler.fit_transform(df[['Total Spent', 'Discount Availed']])\n",
        "print(df[['Total Spent', 'Total Spent Normalized', 'Discount Availed', 'Discount Availed Normalized']])\n"
      ],
      "metadata": {
        "colab": {
          "base_uri": "https://localhost:8080/"
        },
        "id": "qq-gSWnEPDLC",
        "outputId": "b0acfee7-f14f-4ec2-ef31-b6d5abced867"
      },
      "execution_count": 12,
      "outputs": [
        {
          "output_type": "stream",
          "name": "stdout",
          "text": [
            "    Total Spent  Total Spent Normalized  Discount Availed  \\\n",
            "0           150                0.044118                46   \n",
            "1           600                0.705882                61   \n",
            "2           800                1.000000                50   \n",
            "3           200                0.117647                54   \n",
            "4           300                0.264706                63   \n",
            "5           450                0.485294                 2   \n",
            "6           670                0.808824                50   \n",
            "7           120                0.000000                 6   \n",
            "8           500                0.558824                20   \n",
            "9           750                0.926471                72   \n",
            "10          610                0.720588                38   \n",
            "11          290                0.250000                17   \n",
            "12          400                0.411765                 3   \n",
            "13          320                0.294118                88   \n",
            "14          510                0.573529                59   \n",
            "15          350                0.338235                13   \n",
            "16          550                0.632353                 8   \n",
            "17          700                0.852941                89   \n",
            "18          250                0.191176                52   \n",
            "19          400                0.411765                 1   \n",
            "\n",
            "    Discount Availed Normalized  \n",
            "0                      0.511364  \n",
            "1                      0.681818  \n",
            "2                      0.556818  \n",
            "3                      0.602273  \n",
            "4                      0.704545  \n",
            "5                      0.011364  \n",
            "6                      0.556818  \n",
            "7                      0.056818  \n",
            "8                      0.215909  \n",
            "9                      0.806818  \n",
            "10                     0.420455  \n",
            "11                     0.181818  \n",
            "12                     0.022727  \n",
            "13                     0.988636  \n",
            "14                     0.659091  \n",
            "15                     0.136364  \n",
            "16                     0.079545  \n",
            "17                     1.000000  \n",
            "18                     0.579545  \n",
            "19                     0.000000  \n"
          ]
        }
      ]
    }
  ]
}