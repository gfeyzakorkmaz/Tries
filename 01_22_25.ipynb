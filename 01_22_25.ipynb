{
  "nbformat": 4,
  "nbformat_minor": 0,
  "metadata": {
    "colab": {
      "provenance": [],
      "mount_file_id": "1kRTRZHvMKS2iG6Dcsb2VfVgrkpmsZfh3",
      "authorship_tag": "ABX9TyNf03Ao7jCjBQPp7104QZFY",
      "include_colab_link": true
    },
    "kernelspec": {
      "name": "python3",
      "display_name": "Python 3"
    },
    "language_info": {
      "name": "python"
    }
  },
  "cells": [
    {
      "cell_type": "markdown",
      "metadata": {
        "id": "view-in-github",
        "colab_type": "text"
      },
      "source": [
        "<a href=\"https://colab.research.google.com/github/gfeyzakorkmaz/Tries/blob/main/01_22_25.ipynb\" target=\"_parent\"><img src=\"https://colab.research.google.com/assets/colab-badge.svg\" alt=\"Open In Colab\"/></a>"
      ]
    },
    {
      "cell_type": "code",
      "execution_count": 15,
      "metadata": {
        "colab": {
          "base_uri": "https://localhost:8080/",
          "height": 243
        },
        "id": "N3FelEY-wgCZ",
        "outputId": "c0227efa-d9f9-4aff-cd5a-e7edd57a254d"
      },
      "outputs": [
        {
          "output_type": "stream",
          "name": "stdout",
          "text": [
            "Purchased Category\n",
            "Books          2350\n",
            "Home Goods     2090\n",
            "Electronics    1680\n",
            "Clothing       1600\n",
            "Beauty         1200\n",
            "Name: Total Spent, dtype: int64\n",
            "Gender\n",
            "F    467.272727\n",
            "M    420.000000\n",
            "Name: Total Spent, dtype: float64\n",
            "East\n",
            "Summer Sale\n"
          ]
        },
        {
          "output_type": "display_data",
          "data": {
            "text/plain": [
              "<IPython.core.display.Javascript object>"
            ],
            "application/javascript": [
              "\n",
              "    async function download(id, filename, size) {\n",
              "      if (!google.colab.kernel.accessAllowed) {\n",
              "        return;\n",
              "      }\n",
              "      const div = document.createElement('div');\n",
              "      const label = document.createElement('label');\n",
              "      label.textContent = `Downloading \"${filename}\": `;\n",
              "      div.appendChild(label);\n",
              "      const progress = document.createElement('progress');\n",
              "      progress.max = size;\n",
              "      div.appendChild(progress);\n",
              "      document.body.appendChild(div);\n",
              "\n",
              "      const buffers = [];\n",
              "      let downloaded = 0;\n",
              "\n",
              "      const channel = await google.colab.kernel.comms.open(id);\n",
              "      // Send a message to notify the kernel that we're ready.\n",
              "      channel.send({})\n",
              "\n",
              "      for await (const message of channel.messages) {\n",
              "        // Send a message to notify the kernel that we're ready.\n",
              "        channel.send({})\n",
              "        if (message.buffers) {\n",
              "          for (const buffer of message.buffers) {\n",
              "            buffers.push(buffer);\n",
              "            downloaded += buffer.byteLength;\n",
              "            progress.value = downloaded;\n",
              "          }\n",
              "        }\n",
              "      }\n",
              "      const blob = new Blob(buffers, {type: 'application/binary'});\n",
              "      const a = document.createElement('a');\n",
              "      a.href = window.URL.createObjectURL(blob);\n",
              "      a.download = filename;\n",
              "      div.appendChild(a);\n",
              "      a.click();\n",
              "      div.remove();\n",
              "    }\n",
              "  "
            ]
          },
          "metadata": {}
        },
        {
          "output_type": "display_data",
          "data": {
            "text/plain": [
              "<IPython.core.display.Javascript object>"
            ],
            "application/javascript": [
              "download(\"download_a9f24359-7cdc-4bd8-b244-3d88b26c1d09\", \"marketing_data.csv\", 3103)"
            ]
          },
          "metadata": {}
        }
      ],
      "source": [
        "import pandas as pd\n",
        "from google.colab import files\n",
        "\n",
        "path = '/content/drive/MyDrive/Dataset/complex_marketing_data_enriched.xlsx'\n",
        "\n",
        "df = pd.read_excel(path)\n",
        "\n",
        "top_categories = df.groupby('Purchased Category')['Total Spent'].sum().sort_values(ascending=False).head()\n",
        "print(top_categories)\n",
        "\n",
        "avg_spending_by_gender = df.groupby('Gender')['Total Spent'].mean()\n",
        "print(avg_spending_by_gender)\n",
        "\n",
        "top_region_by_conversions = df[df['Converted'] == 1].groupby('Region').size().idxmax()\n",
        "print(top_region_by_conversions)\n",
        "\n",
        "top_campaign_cart_value = df.groupby('Campaign')['Average Cart Value'].mean().idxmax()\n",
        "print(top_campaign_cart_value)\n",
        "\n",
        "df['spending_segment'] = pd.cut(df['Total Spent'], bins=[0, 500, 1000, 5000], labels=['Low', 'Medium', 'High'])\n",
        "df[['Total Spent', 'spending_segment']].head()\n",
        "\n",
        "df.to_csv('marketing_data.csv', index=False)\n",
        "files.download('marketing_data.csv')\n"
      ]
    }
  ]
}