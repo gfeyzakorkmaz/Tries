{
  "nbformat": 4,
  "nbformat_minor": 0,
  "metadata": {
    "colab": {
      "provenance": [],
      "mount_file_id": "1NA1hdxjShpMZrvebucRbvRlRW_edsLJM",
      "authorship_tag": "ABX9TyMCevLIhphAoz6ZkQK0hOkp",
      "include_colab_link": true
    },
    "kernelspec": {
      "name": "python3",
      "display_name": "Python 3"
    },
    "language_info": {
      "name": "python"
    }
  },
  "cells": [
    {
      "cell_type": "markdown",
      "metadata": {
        "id": "view-in-github",
        "colab_type": "text"
      },
      "source": [
        "<a href=\"https://colab.research.google.com/github/gfeyzakorkmaz/Tries/blob/main/NP.ipynb\" target=\"_parent\"><img src=\"https://colab.research.google.com/assets/colab-badge.svg\" alt=\"Open In Colab\"/></a>"
      ]
    },
    {
      "cell_type": "code",
      "execution_count": 18,
      "metadata": {
        "colab": {
          "base_uri": "https://localhost:8080/",
          "height": 568
        },
        "id": "KA-W6okngqOT",
        "outputId": "2c483b8e-319e-4dbe-aa57-8b74b58a8fb2"
      },
      "outputs": [
        {
          "output_type": "stream",
          "name": "stderr",
          "text": [
            "/usr/local/lib/python3.11/dist-packages/openpyxl/worksheet/header_footer.py:48: UserWarning: Cannot parse header or footer so it will be ignored\n",
            "  warn(\"\"\"Cannot parse header or footer so it will be ignored\"\"\")\n"
          ]
        },
        {
          "output_type": "execute_result",
          "data": {
            "text/plain": [
              "   Row Order Priority Order Date  Order  Discount  Unit Price  Order Quantity  \\\n",
              "0    1           High 2017-01-01  28774      0.10           6              32   \n",
              "1    2  Not Specified 2017-01-01  88028      0.08          96               2   \n",
              "2    3       Critical 2017-01-02   9285      0.06          41               3   \n",
              "3    4            Low 2017-01-02  37537      0.00         292               4   \n",
              "4    5            Low 2017-01-02  37537      0.07         101              43   \n",
              "\n",
              "     Sales   Profit  Shipping Cost  ...  Customer Customer Name  \\\n",
              "0   172.80   106.36              5  ...      1656   Joy Corbett   \n",
              "1   176.64    45.64             35  ...      2211    Anita Hahn   \n",
              "2   115.62    33.90              3  ...       949     Ernest Oh   \n",
              "3  1168.00   605.08             49  ...        68    Scott Bunn   \n",
              "4  4038.99  2647.66             45  ...        68    Scott Bunn   \n",
              "\n",
              "          Region       State          Country / Region           City  \\\n",
              "0        AsiaPac     Central                      Fiji           Suva   \n",
              "1  North America    Maryland  United States of America          Bowie   \n",
              "2  North America  California  United States of America    Los Angeles   \n",
              "3  North America    New York  United States of America  New York City   \n",
              "4  North America    New York  United States of America  New York City   \n",
              "\n",
              "   Postal Code            Ship Date       Ship Mode  \\\n",
              "0          NaN  2017-01-02 00:00:00     Regular Air   \n",
              "1      20715.0  2017-01-03 00:00:00     Express Air   \n",
              "2      90049.0  2017-01-04 00:00:00     Regular Air   \n",
              "3      10177.0  2017-01-02 00:00:00  Delivery Truck   \n",
              "4      10177.0  2017-01-04 00:00:00  Delivery Truck   \n",
              "\n",
              "                                           SubRegion  \n",
              "0                                                NaN  \n",
              "1  East                                          ...  \n",
              "2  West                                          ...  \n",
              "3  East                                          ...  \n",
              "4  East                                          ...  \n",
              "\n",
              "[5 rows x 26 columns]"
            ],
            "text/html": [
              "\n",
              "  <div id=\"df-30fa1258-6969-4843-a720-eafbf48ed9fe\" class=\"colab-df-container\">\n",
              "    <div>\n",
              "<style scoped>\n",
              "    .dataframe tbody tr th:only-of-type {\n",
              "        vertical-align: middle;\n",
              "    }\n",
              "\n",
              "    .dataframe tbody tr th {\n",
              "        vertical-align: top;\n",
              "    }\n",
              "\n",
              "    .dataframe thead th {\n",
              "        text-align: right;\n",
              "    }\n",
              "</style>\n",
              "<table border=\"1\" class=\"dataframe\">\n",
              "  <thead>\n",
              "    <tr style=\"text-align: right;\">\n",
              "      <th></th>\n",
              "      <th>Row</th>\n",
              "      <th>Order Priority</th>\n",
              "      <th>Order Date</th>\n",
              "      <th>Order</th>\n",
              "      <th>Discount</th>\n",
              "      <th>Unit Price</th>\n",
              "      <th>Order Quantity</th>\n",
              "      <th>Sales</th>\n",
              "      <th>Profit</th>\n",
              "      <th>Shipping Cost</th>\n",
              "      <th>...</th>\n",
              "      <th>Customer</th>\n",
              "      <th>Customer Name</th>\n",
              "      <th>Region</th>\n",
              "      <th>State</th>\n",
              "      <th>Country / Region</th>\n",
              "      <th>City</th>\n",
              "      <th>Postal Code</th>\n",
              "      <th>Ship Date</th>\n",
              "      <th>Ship Mode</th>\n",
              "      <th>SubRegion</th>\n",
              "    </tr>\n",
              "  </thead>\n",
              "  <tbody>\n",
              "    <tr>\n",
              "      <th>0</th>\n",
              "      <td>1</td>\n",
              "      <td>High</td>\n",
              "      <td>2017-01-01</td>\n",
              "      <td>28774</td>\n",
              "      <td>0.10</td>\n",
              "      <td>6</td>\n",
              "      <td>32</td>\n",
              "      <td>172.80</td>\n",
              "      <td>106.36</td>\n",
              "      <td>5</td>\n",
              "      <td>...</td>\n",
              "      <td>1656</td>\n",
              "      <td>Joy Corbett</td>\n",
              "      <td>AsiaPac</td>\n",
              "      <td>Central</td>\n",
              "      <td>Fiji</td>\n",
              "      <td>Suva</td>\n",
              "      <td>NaN</td>\n",
              "      <td>2017-01-02 00:00:00</td>\n",
              "      <td>Regular Air</td>\n",
              "      <td>NaN</td>\n",
              "    </tr>\n",
              "    <tr>\n",
              "      <th>1</th>\n",
              "      <td>2</td>\n",
              "      <td>Not Specified</td>\n",
              "      <td>2017-01-01</td>\n",
              "      <td>88028</td>\n",
              "      <td>0.08</td>\n",
              "      <td>96</td>\n",
              "      <td>2</td>\n",
              "      <td>176.64</td>\n",
              "      <td>45.64</td>\n",
              "      <td>35</td>\n",
              "      <td>...</td>\n",
              "      <td>2211</td>\n",
              "      <td>Anita Hahn</td>\n",
              "      <td>North America</td>\n",
              "      <td>Maryland</td>\n",
              "      <td>United States of America</td>\n",
              "      <td>Bowie</td>\n",
              "      <td>20715.0</td>\n",
              "      <td>2017-01-03 00:00:00</td>\n",
              "      <td>Express Air</td>\n",
              "      <td>East                                          ...</td>\n",
              "    </tr>\n",
              "    <tr>\n",
              "      <th>2</th>\n",
              "      <td>3</td>\n",
              "      <td>Critical</td>\n",
              "      <td>2017-01-02</td>\n",
              "      <td>9285</td>\n",
              "      <td>0.06</td>\n",
              "      <td>41</td>\n",
              "      <td>3</td>\n",
              "      <td>115.62</td>\n",
              "      <td>33.90</td>\n",
              "      <td>3</td>\n",
              "      <td>...</td>\n",
              "      <td>949</td>\n",
              "      <td>Ernest Oh</td>\n",
              "      <td>North America</td>\n",
              "      <td>California</td>\n",
              "      <td>United States of America</td>\n",
              "      <td>Los Angeles</td>\n",
              "      <td>90049.0</td>\n",
              "      <td>2017-01-04 00:00:00</td>\n",
              "      <td>Regular Air</td>\n",
              "      <td>West                                          ...</td>\n",
              "    </tr>\n",
              "    <tr>\n",
              "      <th>3</th>\n",
              "      <td>4</td>\n",
              "      <td>Low</td>\n",
              "      <td>2017-01-02</td>\n",
              "      <td>37537</td>\n",
              "      <td>0.00</td>\n",
              "      <td>292</td>\n",
              "      <td>4</td>\n",
              "      <td>1168.00</td>\n",
              "      <td>605.08</td>\n",
              "      <td>49</td>\n",
              "      <td>...</td>\n",
              "      <td>68</td>\n",
              "      <td>Scott Bunn</td>\n",
              "      <td>North America</td>\n",
              "      <td>New York</td>\n",
              "      <td>United States of America</td>\n",
              "      <td>New York City</td>\n",
              "      <td>10177.0</td>\n",
              "      <td>2017-01-02 00:00:00</td>\n",
              "      <td>Delivery Truck</td>\n",
              "      <td>East                                          ...</td>\n",
              "    </tr>\n",
              "    <tr>\n",
              "      <th>4</th>\n",
              "      <td>5</td>\n",
              "      <td>Low</td>\n",
              "      <td>2017-01-02</td>\n",
              "      <td>37537</td>\n",
              "      <td>0.07</td>\n",
              "      <td>101</td>\n",
              "      <td>43</td>\n",
              "      <td>4038.99</td>\n",
              "      <td>2647.66</td>\n",
              "      <td>45</td>\n",
              "      <td>...</td>\n",
              "      <td>68</td>\n",
              "      <td>Scott Bunn</td>\n",
              "      <td>North America</td>\n",
              "      <td>New York</td>\n",
              "      <td>United States of America</td>\n",
              "      <td>New York City</td>\n",
              "      <td>10177.0</td>\n",
              "      <td>2017-01-04 00:00:00</td>\n",
              "      <td>Delivery Truck</td>\n",
              "      <td>East                                          ...</td>\n",
              "    </tr>\n",
              "  </tbody>\n",
              "</table>\n",
              "<p>5 rows × 26 columns</p>\n",
              "</div>\n",
              "    <div class=\"colab-df-buttons\">\n",
              "\n",
              "  <div class=\"colab-df-container\">\n",
              "    <button class=\"colab-df-convert\" onclick=\"convertToInteractive('df-30fa1258-6969-4843-a720-eafbf48ed9fe')\"\n",
              "            title=\"Convert this dataframe to an interactive table.\"\n",
              "            style=\"display:none;\">\n",
              "\n",
              "  <svg xmlns=\"http://www.w3.org/2000/svg\" height=\"24px\" viewBox=\"0 -960 960 960\">\n",
              "    <path d=\"M120-120v-720h720v720H120Zm60-500h600v-160H180v160Zm220 220h160v-160H400v160Zm0 220h160v-160H400v160ZM180-400h160v-160H180v160Zm440 0h160v-160H620v160ZM180-180h160v-160H180v160Zm440 0h160v-160H620v160Z\"/>\n",
              "  </svg>\n",
              "    </button>\n",
              "\n",
              "  <style>\n",
              "    .colab-df-container {\n",
              "      display:flex;\n",
              "      gap: 12px;\n",
              "    }\n",
              "\n",
              "    .colab-df-convert {\n",
              "      background-color: #E8F0FE;\n",
              "      border: none;\n",
              "      border-radius: 50%;\n",
              "      cursor: pointer;\n",
              "      display: none;\n",
              "      fill: #1967D2;\n",
              "      height: 32px;\n",
              "      padding: 0 0 0 0;\n",
              "      width: 32px;\n",
              "    }\n",
              "\n",
              "    .colab-df-convert:hover {\n",
              "      background-color: #E2EBFA;\n",
              "      box-shadow: 0px 1px 2px rgba(60, 64, 67, 0.3), 0px 1px 3px 1px rgba(60, 64, 67, 0.15);\n",
              "      fill: #174EA6;\n",
              "    }\n",
              "\n",
              "    .colab-df-buttons div {\n",
              "      margin-bottom: 4px;\n",
              "    }\n",
              "\n",
              "    [theme=dark] .colab-df-convert {\n",
              "      background-color: #3B4455;\n",
              "      fill: #D2E3FC;\n",
              "    }\n",
              "\n",
              "    [theme=dark] .colab-df-convert:hover {\n",
              "      background-color: #434B5C;\n",
              "      box-shadow: 0px 1px 3px 1px rgba(0, 0, 0, 0.15);\n",
              "      filter: drop-shadow(0px 1px 2px rgba(0, 0, 0, 0.3));\n",
              "      fill: #FFFFFF;\n",
              "    }\n",
              "  </style>\n",
              "\n",
              "    <script>\n",
              "      const buttonEl =\n",
              "        document.querySelector('#df-30fa1258-6969-4843-a720-eafbf48ed9fe button.colab-df-convert');\n",
              "      buttonEl.style.display =\n",
              "        google.colab.kernel.accessAllowed ? 'block' : 'none';\n",
              "\n",
              "      async function convertToInteractive(key) {\n",
              "        const element = document.querySelector('#df-30fa1258-6969-4843-a720-eafbf48ed9fe');\n",
              "        const dataTable =\n",
              "          await google.colab.kernel.invokeFunction('convertToInteractive',\n",
              "                                                    [key], {});\n",
              "        if (!dataTable) return;\n",
              "\n",
              "        const docLinkHtml = 'Like what you see? Visit the ' +\n",
              "          '<a target=\"_blank\" href=https://colab.research.google.com/notebooks/data_table.ipynb>data table notebook</a>'\n",
              "          + ' to learn more about interactive tables.';\n",
              "        element.innerHTML = '';\n",
              "        dataTable['output_type'] = 'display_data';\n",
              "        await google.colab.output.renderOutput(dataTable, element);\n",
              "        const docLink = document.createElement('div');\n",
              "        docLink.innerHTML = docLinkHtml;\n",
              "        element.appendChild(docLink);\n",
              "      }\n",
              "    </script>\n",
              "  </div>\n",
              "\n",
              "\n",
              "<div id=\"df-6f39b0fc-8d52-4d9e-a7e7-93c5a7fdf70f\">\n",
              "  <button class=\"colab-df-quickchart\" onclick=\"quickchart('df-6f39b0fc-8d52-4d9e-a7e7-93c5a7fdf70f')\"\n",
              "            title=\"Suggest charts\"\n",
              "            style=\"display:none;\">\n",
              "\n",
              "<svg xmlns=\"http://www.w3.org/2000/svg\" height=\"24px\"viewBox=\"0 0 24 24\"\n",
              "     width=\"24px\">\n",
              "    <g>\n",
              "        <path d=\"M19 3H5c-1.1 0-2 .9-2 2v14c0 1.1.9 2 2 2h14c1.1 0 2-.9 2-2V5c0-1.1-.9-2-2-2zM9 17H7v-7h2v7zm4 0h-2V7h2v10zm4 0h-2v-4h2v4z\"/>\n",
              "    </g>\n",
              "</svg>\n",
              "  </button>\n",
              "\n",
              "<style>\n",
              "  .colab-df-quickchart {\n",
              "      --bg-color: #E8F0FE;\n",
              "      --fill-color: #1967D2;\n",
              "      --hover-bg-color: #E2EBFA;\n",
              "      --hover-fill-color: #174EA6;\n",
              "      --disabled-fill-color: #AAA;\n",
              "      --disabled-bg-color: #DDD;\n",
              "  }\n",
              "\n",
              "  [theme=dark] .colab-df-quickchart {\n",
              "      --bg-color: #3B4455;\n",
              "      --fill-color: #D2E3FC;\n",
              "      --hover-bg-color: #434B5C;\n",
              "      --hover-fill-color: #FFFFFF;\n",
              "      --disabled-bg-color: #3B4455;\n",
              "      --disabled-fill-color: #666;\n",
              "  }\n",
              "\n",
              "  .colab-df-quickchart {\n",
              "    background-color: var(--bg-color);\n",
              "    border: none;\n",
              "    border-radius: 50%;\n",
              "    cursor: pointer;\n",
              "    display: none;\n",
              "    fill: var(--fill-color);\n",
              "    height: 32px;\n",
              "    padding: 0;\n",
              "    width: 32px;\n",
              "  }\n",
              "\n",
              "  .colab-df-quickchart:hover {\n",
              "    background-color: var(--hover-bg-color);\n",
              "    box-shadow: 0 1px 2px rgba(60, 64, 67, 0.3), 0 1px 3px 1px rgba(60, 64, 67, 0.15);\n",
              "    fill: var(--button-hover-fill-color);\n",
              "  }\n",
              "\n",
              "  .colab-df-quickchart-complete:disabled,\n",
              "  .colab-df-quickchart-complete:disabled:hover {\n",
              "    background-color: var(--disabled-bg-color);\n",
              "    fill: var(--disabled-fill-color);\n",
              "    box-shadow: none;\n",
              "  }\n",
              "\n",
              "  .colab-df-spinner {\n",
              "    border: 2px solid var(--fill-color);\n",
              "    border-color: transparent;\n",
              "    border-bottom-color: var(--fill-color);\n",
              "    animation:\n",
              "      spin 1s steps(1) infinite;\n",
              "  }\n",
              "\n",
              "  @keyframes spin {\n",
              "    0% {\n",
              "      border-color: transparent;\n",
              "      border-bottom-color: var(--fill-color);\n",
              "      border-left-color: var(--fill-color);\n",
              "    }\n",
              "    20% {\n",
              "      border-color: transparent;\n",
              "      border-left-color: var(--fill-color);\n",
              "      border-top-color: var(--fill-color);\n",
              "    }\n",
              "    30% {\n",
              "      border-color: transparent;\n",
              "      border-left-color: var(--fill-color);\n",
              "      border-top-color: var(--fill-color);\n",
              "      border-right-color: var(--fill-color);\n",
              "    }\n",
              "    40% {\n",
              "      border-color: transparent;\n",
              "      border-right-color: var(--fill-color);\n",
              "      border-top-color: var(--fill-color);\n",
              "    }\n",
              "    60% {\n",
              "      border-color: transparent;\n",
              "      border-right-color: var(--fill-color);\n",
              "    }\n",
              "    80% {\n",
              "      border-color: transparent;\n",
              "      border-right-color: var(--fill-color);\n",
              "      border-bottom-color: var(--fill-color);\n",
              "    }\n",
              "    90% {\n",
              "      border-color: transparent;\n",
              "      border-bottom-color: var(--fill-color);\n",
              "    }\n",
              "  }\n",
              "</style>\n",
              "\n",
              "  <script>\n",
              "    async function quickchart(key) {\n",
              "      const quickchartButtonEl =\n",
              "        document.querySelector('#' + key + ' button');\n",
              "      quickchartButtonEl.disabled = true;  // To prevent multiple clicks.\n",
              "      quickchartButtonEl.classList.add('colab-df-spinner');\n",
              "      try {\n",
              "        const charts = await google.colab.kernel.invokeFunction(\n",
              "            'suggestCharts', [key], {});\n",
              "      } catch (error) {\n",
              "        console.error('Error during call to suggestCharts:', error);\n",
              "      }\n",
              "      quickchartButtonEl.classList.remove('colab-df-spinner');\n",
              "      quickchartButtonEl.classList.add('colab-df-quickchart-complete');\n",
              "    }\n",
              "    (() => {\n",
              "      let quickchartButtonEl =\n",
              "        document.querySelector('#df-6f39b0fc-8d52-4d9e-a7e7-93c5a7fdf70f button');\n",
              "      quickchartButtonEl.style.display =\n",
              "        google.colab.kernel.accessAllowed ? 'block' : 'none';\n",
              "    })();\n",
              "  </script>\n",
              "</div>\n",
              "\n",
              "    </div>\n",
              "  </div>\n"
            ],
            "application/vnd.google.colaboratory.intrinsic+json": {
              "type": "dataframe",
              "variable_name": "df"
            }
          },
          "metadata": {},
          "execution_count": 18
        }
      ],
      "source": [
        "import pandas as pd\n",
        "import numpy as np\n",
        "\n",
        "path = '/content/drive/MyDrive/Dataset/Orders.xlsx'\n",
        "\n",
        "df = pd.read_excel(path)\n",
        "df.head()"
      ]
    },
    {
      "cell_type": "code",
      "source": [
        "sales_array = df['Sales'].to_numpy()\n",
        "profit_array = df['Profit'].to_numpy()\n",
        "\n",
        "print(sales_array)\n",
        "print(profit_array)"
      ],
      "metadata": {
        "colab": {
          "base_uri": "https://localhost:8080/"
        },
        "id": "zuDKtbMphlqv",
        "outputId": "bb608492-51d0-4b01-a6b9-a41e6c6100ca"
      },
      "execution_count": 3,
      "outputs": [
        {
          "output_type": "stream",
          "name": "stdout",
          "text": [
            "[ 172.8   176.64  115.62 ... 3162.2    61.1   123.  ]\n",
            "[ 106.36   45.64   33.9  ... 1153.6    17.1    21.02]\n"
          ]
        }
      ]
    },
    {
      "cell_type": "code",
      "source": [
        "total_revenue = np.sum(sales_array)\n",
        "print(\"Total Revenue:\", total_revenue)"
      ],
      "metadata": {
        "colab": {
          "base_uri": "https://localhost:8080/"
        },
        "id": "P2Z7Xh4uiANy",
        "outputId": "5be645d8-66bc-4594-eaac-2bae072f35fe"
      },
      "execution_count": 4,
      "outputs": [
        {
          "output_type": "stream",
          "name": "stdout",
          "text": [
            "Total Revenue: 30069581.97\n"
          ]
        }
      ]
    },
    {
      "cell_type": "code",
      "source": [
        "mean_sales = np.mean(sales_array)\n",
        "std_sales = np.std(sales_array)\n",
        "print(f\"Mean Sales:, {mean_sales}, Standard Deviation: {std_sales}\")"
      ],
      "metadata": {
        "colab": {
          "base_uri": "https://localhost:8080/"
        },
        "id": "SyzKzgW0iHip",
        "outputId": "efbe2440-0d01-4051-a548-17e1783daa75"
      },
      "execution_count": 5,
      "outputs": [
        {
          "output_type": "stream",
          "name": "stdout",
          "text": [
            "Mean Sales:, 1790.069173115847, Standard Deviation: 4645.127649398903\n"
          ]
        }
      ]
    },
    {
      "cell_type": "code",
      "source": [
        "z_scores = (sales_array - mean_sales) / std_sales\n",
        "outliers = df[np.abs(z_scores) > 3]\n",
        "print(\"Outliers in Sales:\", outliers[['Order Date', 'Sales']])"
      ],
      "metadata": {
        "colab": {
          "base_uri": "https://localhost:8080/"
        },
        "id": "5ncVM3BQiWX8",
        "outputId": "1bd7adc5-4a94-4760-8aac-2a409c61d16c"
      },
      "execution_count": 8,
      "outputs": [
        {
          "output_type": "stream",
          "name": "stdout",
          "text": [
            "Outliers in Sales:       Order Date     Sales\n",
            "13    2017-01-03  26766.25\n",
            "61    2017-01-06  25372.80\n",
            "79    2017-01-07  44157.33\n",
            "270   2017-01-22  27628.16\n",
            "339   2017-01-30  16577.25\n",
            "...          ...       ...\n",
            "16638 2020-12-18  16934.26\n",
            "16732 2020-12-26  26910.72\n",
            "16740 2020-12-27  28404.00\n",
            "16766 2020-12-29  24376.32\n",
            "16780 2020-12-30  52992.00\n",
            "\n",
            "[335 rows x 2 columns]\n"
          ]
        }
      ]
    },
    {
      "cell_type": "code",
      "source": [
        "min_sales, max_sales = np.min(sales_array), np.max(sales_array)\n",
        "df['Normalized Sales'] = (sales_array - min_sales) / (max_sales - min_sales)\n",
        "print(df[['Sales', 'Normalized Sales']].head())"
      ],
      "metadata": {
        "colab": {
          "base_uri": "https://localhost:8080/"
        },
        "id": "W-q-bCxtiqRk",
        "outputId": "57de1e04-022d-49ea-8b85-17314c507f56"
      },
      "execution_count": 10,
      "outputs": [
        {
          "output_type": "stream",
          "name": "stdout",
          "text": [
            "     Sales  Normalized Sales\n",
            "0   172.80          0.001734\n",
            "1   176.64          0.001773\n",
            "2   115.62          0.001157\n",
            "3  1168.00          0.011774\n",
            "4  4038.99          0.040736\n"
          ]
        }
      ]
    },
    {
      "cell_type": "code",
      "source": [
        "df['High Discount'] = np.where(df['Discount'] > 0.2, 1, 0)\n",
        "print(df[['Discount', 'High Discount']].head())"
      ],
      "metadata": {
        "colab": {
          "base_uri": "https://localhost:8080/"
        },
        "id": "EK6wCGIEi9Dn",
        "outputId": "7b295e88-a0e8-4558-d7b2-fce825ebe173"
      },
      "execution_count": 11,
      "outputs": [
        {
          "output_type": "stream",
          "name": "stdout",
          "text": [
            "   Discount  High Discount\n",
            "0      0.10              0\n",
            "1      0.08              0\n",
            "2      0.06              0\n",
            "3      0.00              0\n",
            "4      0.07              0\n"
          ]
        }
      ]
    },
    {
      "cell_type": "code",
      "source": [
        "df['Profit-to-Sales Ratio'] = np.divide(profit_array, sales_array, out=np.zeros_like(profit_array), where=sales_array!=0)\n",
        "print(df[['Sales', 'Profit', 'Profit-to-Sales Ratio']].head())"
      ],
      "metadata": {
        "colab": {
          "base_uri": "https://localhost:8080/"
        },
        "id": "_k0HODVNjIRJ",
        "outputId": "735e5055-7bbe-4793-c06a-cb11a36877c7"
      },
      "execution_count": 12,
      "outputs": [
        {
          "output_type": "stream",
          "name": "stdout",
          "text": [
            "     Sales   Profit  Profit-to-Sales Ratio\n",
            "0   172.80   106.36               0.615509\n",
            "1   176.64    45.64               0.258379\n",
            "2   115.62    33.90               0.293202\n",
            "3  1168.00   605.08               0.518048\n",
            "4  4038.99  2647.66               0.655525\n"
          ]
        }
      ]
    },
    {
      "cell_type": "code",
      "source": [
        "df['Cumulative Sales'] = np.cumsum(sales_array)\n",
        "print(df[['Order Date', 'Cumulative Sales']].head())"
      ],
      "metadata": {
        "colab": {
          "base_uri": "https://localhost:8080/"
        },
        "id": "4JFt-Jq0jhH6",
        "outputId": "567fc736-ff5c-4997-dff9-f2bb0bfe9514"
      },
      "execution_count": 14,
      "outputs": [
        {
          "output_type": "stream",
          "name": "stdout",
          "text": [
            "  Order Date  Cumulative Sales\n",
            "0 2017-01-01            172.80\n",
            "1 2017-01-01            349.44\n",
            "2 2017-01-02            465.06\n",
            "3 2017-01-02           1633.06\n",
            "4 2017-01-02           5672.05\n"
          ]
        }
      ]
    },
    {
      "cell_type": "code",
      "source": [
        "categories = df.groupby('Category')['Profit'].sum().to_numpy()\n",
        "most_profitable_category = df.groupby('Category')['Profit'].sum().idxmax()\n",
        "print(\"Most Profitable Category:\", most_profitable_category)"
      ],
      "metadata": {
        "colab": {
          "base_uri": "https://localhost:8080/"
        },
        "id": "H4Qi6b90jrIr",
        "outputId": "b2972630-0f1e-4e13-ee47-12a34b10e931"
      },
      "execution_count": 15,
      "outputs": [
        {
          "output_type": "stream",
          "name": "stdout",
          "text": [
            "Most Profitable Category: Telephones and Communication\n"
          ]
        }
      ]
    },
    {
      "cell_type": "code",
      "source": [
        "profit_10_percentile = np.percentile(profit_array, 10)\n",
        "print(f\"10th Percentile of Profit: {profit_10_percentile}\")"
      ],
      "metadata": {
        "colab": {
          "base_uri": "https://localhost:8080/"
        },
        "id": "Lit5Vgm-j7zf",
        "outputId": "1c532349-c6e9-4fee-ef89-787756c17f2e"
      },
      "execution_count": 16,
      "outputs": [
        {
          "output_type": "stream",
          "name": "stdout",
          "text": [
            "10th Percentile of Profit: 5.520000000000002\n"
          ]
        }
      ]
    },
    {
      "cell_type": "code",
      "source": [
        "loss_orders = df[(profit_array < 0)]\n",
        "print(\"Loss-Making Orders:\", loss_orders[['Order Date', 'Profit']])"
      ],
      "metadata": {
        "colab": {
          "base_uri": "https://localhost:8080/"
        },
        "id": "Erwn7lzKkId3",
        "outputId": "79a8ccb9-97ed-4b4f-b03b-feca5db44af2"
      },
      "execution_count": 21,
      "outputs": [
        {
          "output_type": "stream",
          "name": "stdout",
          "text": [
            "Loss-Making Orders:       Order Date   Profit\n",
            "29    2017-01-04   -1.560\n",
            "65    2017-01-06   -3.760\n",
            "75    2017-01-06   -3.400\n",
            "77    2017-01-07   -2.900\n",
            "79    2017-01-07 -736.215\n",
            "...          ...      ...\n",
            "16694 2020-12-22   -2.440\n",
            "16738 2020-12-27  -15.340\n",
            "16745 2020-12-27  -39.820\n",
            "16766 2020-12-29 -814.880\n",
            "16772 2020-12-29 -218.720\n",
            "\n",
            "[880 rows x 2 columns]\n"
          ]
        }
      ]
    },
    {
      "cell_type": "code",
      "source": [
        "correlation_sales_profit = np.corrcoef(sales_array, profit_array)[0, 1]\n",
        "print(f\"Correlation between Sales and Profit: {correlation_sales_profit}\")"
      ],
      "metadata": {
        "colab": {
          "base_uri": "https://localhost:8080/"
        },
        "id": "K0MXYIoJkfTw",
        "outputId": "15031d8e-a3c0-4aa4-b9c0-75fe19373cee"
      },
      "execution_count": 22,
      "outputs": [
        {
          "output_type": "stream",
          "name": "stdout",
          "text": [
            "Correlation between Sales and Profit: 0.8928091623995417\n"
          ]
        }
      ]
    },
    {
      "cell_type": "code",
      "source": [
        "matrix_representation = np.column_stack((sales_array, profit_array, df['Discount'].to_numpy()))\n",
        "print(\"First 5 rows of matrix representation:\\n\", matrix_representation[:5])"
      ],
      "metadata": {
        "colab": {
          "base_uri": "https://localhost:8080/"
        },
        "id": "u_Q55edUk_20",
        "outputId": "66327381-52d3-4407-9734-e4d11aad17eb"
      },
      "execution_count": 23,
      "outputs": [
        {
          "output_type": "stream",
          "name": "stdout",
          "text": [
            "First 5 rows of matrix representation:\n",
            " [[1.72800e+02 1.06360e+02 1.00000e-01]\n",
            " [1.76640e+02 4.56400e+01 8.00000e-02]\n",
            " [1.15620e+02 3.39000e+01 6.00000e-02]\n",
            " [1.16800e+03 6.05080e+02 0.00000e+00]\n",
            " [4.03899e+03 2.64766e+03 7.00000e-02]]\n"
          ]
        }
      ]
    },
    {
      "cell_type": "code",
      "source": [
        "df['Adjusted Sales'] = np.where(df['Discount'] > 0.3, sales_array * 0.9, sales_array)\n",
        "print(df[['Sales', 'Discount', 'Adjusted Sales']].head())"
      ],
      "metadata": {
        "colab": {
          "base_uri": "https://localhost:8080/"
        },
        "id": "AKjyJqlslRiz",
        "outputId": "ce7bdf99-a169-4d51-9cc4-f3e5978212af"
      },
      "execution_count": 24,
      "outputs": [
        {
          "output_type": "stream",
          "name": "stdout",
          "text": [
            "     Sales  Discount  Adjusted Sales\n",
            "0   172.80      0.10          172.80\n",
            "1   176.64      0.08          176.64\n",
            "2   115.62      0.06          115.62\n",
            "3  1168.00      0.00         1168.00\n",
            "4  4038.99      0.07         4038.99\n"
          ]
        }
      ]
    },
    {
      "cell_type": "code",
      "source": [
        "df['Rolling Average Sales'] = np.convolve(sales_array, np.ones(7)/7, mode='valid')\n",
        "print(df[['Order Date', 'Rolling Average Sales']].head(10))"
      ],
      "metadata": {
        "colab": {
          "base_uri": "https://localhost:8080/",
          "height": 339
        },
        "id": "64MfoDjFliDl",
        "outputId": "88723fae-e670-4b16-fae6-dab326a476c8"
      },
      "execution_count": 28,
      "outputs": [
        {
          "output_type": "error",
          "ename": "ValueError",
          "evalue": "Length of values (16792) does not match length of index (16798)",
          "traceback": [
            "\u001b[0;31m---------------------------------------------------------------------------\u001b[0m",
            "\u001b[0;31mValueError\u001b[0m                                Traceback (most recent call last)",
            "\u001b[0;32m<ipython-input-28-e5960027d0f0>\u001b[0m in \u001b[0;36m<cell line: 0>\u001b[0;34m()\u001b[0m\n\u001b[0;32m----> 1\u001b[0;31m \u001b[0mdf\u001b[0m\u001b[0;34m[\u001b[0m\u001b[0;34m'Rolling Average Sales'\u001b[0m\u001b[0;34m]\u001b[0m \u001b[0;34m=\u001b[0m \u001b[0mnp\u001b[0m\u001b[0;34m.\u001b[0m\u001b[0mconvolve\u001b[0m\u001b[0;34m(\u001b[0m\u001b[0msales_array\u001b[0m\u001b[0;34m,\u001b[0m \u001b[0mnp\u001b[0m\u001b[0;34m.\u001b[0m\u001b[0mones\u001b[0m\u001b[0;34m(\u001b[0m\u001b[0;36m7\u001b[0m\u001b[0;34m)\u001b[0m\u001b[0;34m/\u001b[0m\u001b[0;36m7\u001b[0m\u001b[0;34m,\u001b[0m \u001b[0mmode\u001b[0m\u001b[0;34m=\u001b[0m\u001b[0;34m'valid'\u001b[0m\u001b[0;34m)\u001b[0m\u001b[0;34m\u001b[0m\u001b[0;34m\u001b[0m\u001b[0m\n\u001b[0m\u001b[1;32m      2\u001b[0m \u001b[0mprint\u001b[0m\u001b[0;34m(\u001b[0m\u001b[0mdf\u001b[0m\u001b[0;34m[\u001b[0m\u001b[0;34m[\u001b[0m\u001b[0;34m'Order Date'\u001b[0m\u001b[0;34m,\u001b[0m \u001b[0;34m'Rolling Average Sales'\u001b[0m\u001b[0;34m]\u001b[0m\u001b[0;34m]\u001b[0m\u001b[0;34m.\u001b[0m\u001b[0mhead\u001b[0m\u001b[0;34m(\u001b[0m\u001b[0;36m10\u001b[0m\u001b[0;34m)\u001b[0m\u001b[0;34m)\u001b[0m\u001b[0;34m\u001b[0m\u001b[0;34m\u001b[0m\u001b[0m\n",
            "\u001b[0;32m/usr/local/lib/python3.11/dist-packages/pandas/core/frame.py\u001b[0m in \u001b[0;36m__setitem__\u001b[0;34m(self, key, value)\u001b[0m\n\u001b[1;32m   4309\u001b[0m         \u001b[0;32melse\u001b[0m\u001b[0;34m:\u001b[0m\u001b[0;34m\u001b[0m\u001b[0;34m\u001b[0m\u001b[0m\n\u001b[1;32m   4310\u001b[0m             \u001b[0;31m# set column\u001b[0m\u001b[0;34m\u001b[0m\u001b[0;34m\u001b[0m\u001b[0m\n\u001b[0;32m-> 4311\u001b[0;31m             \u001b[0mself\u001b[0m\u001b[0;34m.\u001b[0m\u001b[0m_set_item\u001b[0m\u001b[0;34m(\u001b[0m\u001b[0mkey\u001b[0m\u001b[0;34m,\u001b[0m \u001b[0mvalue\u001b[0m\u001b[0;34m)\u001b[0m\u001b[0;34m\u001b[0m\u001b[0;34m\u001b[0m\u001b[0m\n\u001b[0m\u001b[1;32m   4312\u001b[0m \u001b[0;34m\u001b[0m\u001b[0m\n\u001b[1;32m   4313\u001b[0m     \u001b[0;32mdef\u001b[0m \u001b[0m_setitem_slice\u001b[0m\u001b[0;34m(\u001b[0m\u001b[0mself\u001b[0m\u001b[0;34m,\u001b[0m \u001b[0mkey\u001b[0m\u001b[0;34m:\u001b[0m \u001b[0mslice\u001b[0m\u001b[0;34m,\u001b[0m \u001b[0mvalue\u001b[0m\u001b[0;34m)\u001b[0m \u001b[0;34m->\u001b[0m \u001b[0;32mNone\u001b[0m\u001b[0;34m:\u001b[0m\u001b[0;34m\u001b[0m\u001b[0;34m\u001b[0m\u001b[0m\n",
            "\u001b[0;32m/usr/local/lib/python3.11/dist-packages/pandas/core/frame.py\u001b[0m in \u001b[0;36m_set_item\u001b[0;34m(self, key, value)\u001b[0m\n\u001b[1;32m   4522\u001b[0m         \u001b[0mensure\u001b[0m \u001b[0mhomogeneity\u001b[0m\u001b[0;34m.\u001b[0m\u001b[0;34m\u001b[0m\u001b[0;34m\u001b[0m\u001b[0m\n\u001b[1;32m   4523\u001b[0m         \"\"\"\n\u001b[0;32m-> 4524\u001b[0;31m         \u001b[0mvalue\u001b[0m\u001b[0;34m,\u001b[0m \u001b[0mrefs\u001b[0m \u001b[0;34m=\u001b[0m \u001b[0mself\u001b[0m\u001b[0;34m.\u001b[0m\u001b[0m_sanitize_column\u001b[0m\u001b[0;34m(\u001b[0m\u001b[0mvalue\u001b[0m\u001b[0;34m)\u001b[0m\u001b[0;34m\u001b[0m\u001b[0;34m\u001b[0m\u001b[0m\n\u001b[0m\u001b[1;32m   4525\u001b[0m \u001b[0;34m\u001b[0m\u001b[0m\n\u001b[1;32m   4526\u001b[0m         if (\n",
            "\u001b[0;32m/usr/local/lib/python3.11/dist-packages/pandas/core/frame.py\u001b[0m in \u001b[0;36m_sanitize_column\u001b[0;34m(self, value)\u001b[0m\n\u001b[1;32m   5264\u001b[0m \u001b[0;34m\u001b[0m\u001b[0m\n\u001b[1;32m   5265\u001b[0m         \u001b[0;32mif\u001b[0m \u001b[0mis_list_like\u001b[0m\u001b[0;34m(\u001b[0m\u001b[0mvalue\u001b[0m\u001b[0;34m)\u001b[0m\u001b[0;34m:\u001b[0m\u001b[0;34m\u001b[0m\u001b[0;34m\u001b[0m\u001b[0m\n\u001b[0;32m-> 5266\u001b[0;31m             \u001b[0mcom\u001b[0m\u001b[0;34m.\u001b[0m\u001b[0mrequire_length_match\u001b[0m\u001b[0;34m(\u001b[0m\u001b[0mvalue\u001b[0m\u001b[0;34m,\u001b[0m \u001b[0mself\u001b[0m\u001b[0;34m.\u001b[0m\u001b[0mindex\u001b[0m\u001b[0;34m)\u001b[0m\u001b[0;34m\u001b[0m\u001b[0;34m\u001b[0m\u001b[0m\n\u001b[0m\u001b[1;32m   5267\u001b[0m         \u001b[0marr\u001b[0m \u001b[0;34m=\u001b[0m \u001b[0msanitize_array\u001b[0m\u001b[0;34m(\u001b[0m\u001b[0mvalue\u001b[0m\u001b[0;34m,\u001b[0m \u001b[0mself\u001b[0m\u001b[0;34m.\u001b[0m\u001b[0mindex\u001b[0m\u001b[0;34m,\u001b[0m \u001b[0mcopy\u001b[0m\u001b[0;34m=\u001b[0m\u001b[0;32mTrue\u001b[0m\u001b[0;34m,\u001b[0m \u001b[0mallow_2d\u001b[0m\u001b[0;34m=\u001b[0m\u001b[0;32mTrue\u001b[0m\u001b[0;34m)\u001b[0m\u001b[0;34m\u001b[0m\u001b[0;34m\u001b[0m\u001b[0m\n\u001b[1;32m   5268\u001b[0m         if (\n",
            "\u001b[0;32m/usr/local/lib/python3.11/dist-packages/pandas/core/common.py\u001b[0m in \u001b[0;36mrequire_length_match\u001b[0;34m(data, index)\u001b[0m\n\u001b[1;32m    571\u001b[0m     \"\"\"\n\u001b[1;32m    572\u001b[0m     \u001b[0;32mif\u001b[0m \u001b[0mlen\u001b[0m\u001b[0;34m(\u001b[0m\u001b[0mdata\u001b[0m\u001b[0;34m)\u001b[0m \u001b[0;34m!=\u001b[0m \u001b[0mlen\u001b[0m\u001b[0;34m(\u001b[0m\u001b[0mindex\u001b[0m\u001b[0;34m)\u001b[0m\u001b[0;34m:\u001b[0m\u001b[0;34m\u001b[0m\u001b[0;34m\u001b[0m\u001b[0m\n\u001b[0;32m--> 573\u001b[0;31m         raise ValueError(\n\u001b[0m\u001b[1;32m    574\u001b[0m             \u001b[0;34m\"Length of values \"\u001b[0m\u001b[0;34m\u001b[0m\u001b[0;34m\u001b[0m\u001b[0m\n\u001b[1;32m    575\u001b[0m             \u001b[0;34mf\"({len(data)}) \"\u001b[0m\u001b[0;34m\u001b[0m\u001b[0;34m\u001b[0m\u001b[0m\n",
            "\u001b[0;31mValueError\u001b[0m: Length of values (16792) does not match length of index (16798)"
          ]
        }
      ]
    },
    {
      "cell_type": "code",
      "source": [
        "df['Rolling Average Sales'] = np.pad(np.convolve(sales_array, np.ones(7)/7, mode='valid'), (3, 3), 'constant', constant_values=np.nan)\n",
        "#The np.convolve function with mode='valid' returns a shorter array.\n",
        "#The np.pad function is used here to add 3 elements to the start and 3 to the end of the convolved array,\n",
        "# making its length match the length of the DataFrame. The added elements are filled with NaN (Not a Number).\n",
        "print(df[['Order Date', 'Rolling Average Sales']].head(10))"
      ],
      "metadata": {
        "colab": {
          "base_uri": "https://localhost:8080/"
        },
        "id": "cijkDY7TmIUM",
        "outputId": "5193c301-4a53-4d24-d166-a12d9c2fda21"
      },
      "execution_count": 29,
      "outputs": [
        {
          "output_type": "stream",
          "name": "stdout",
          "text": [
            "  Order Date  Rolling Average Sales\n",
            "0 2017-01-01                    NaN\n",
            "1 2017-01-01                    NaN\n",
            "2 2017-01-02                    NaN\n",
            "3 2017-01-02            1502.155714\n",
            "4 2017-01-02            1562.241429\n",
            "5 2017-01-02            1542.512857\n",
            "6 2017-01-02            1694.281429\n",
            "7 2017-01-02            1532.104286\n",
            "8 2017-01-02             976.791429\n",
            "9 2017-01-02             319.722857\n"
          ]
        }
      ]
    }
  ]
}