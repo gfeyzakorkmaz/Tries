{
  "nbformat": 4,
  "nbformat_minor": 0,
  "metadata": {
    "colab": {
      "provenance": [],
      "authorship_tag": "ABX9TyO57vBH+eox5MTyvB7rP+Qm",
      "include_colab_link": true
    },
    "kernelspec": {
      "name": "python3",
      "display_name": "Python 3"
    },
    "language_info": {
      "name": "python"
    }
  },
  "cells": [
    {
      "cell_type": "markdown",
      "metadata": {
        "id": "view-in-github",
        "colab_type": "text"
      },
      "source": [
        "<a href=\"https://colab.research.google.com/github/gfeyzakorkmaz/Tries/blob/main/Pandas7.ipynb\" target=\"_parent\"><img src=\"https://colab.research.google.com/assets/colab-badge.svg\" alt=\"Open In Colab\"/></a>"
      ]
    },
    {
      "cell_type": "code",
      "execution_count": 2,
      "metadata": {
        "id": "1EIyVFTqDn1t"
      },
      "outputs": [],
      "source": [
        "import pandas as pd"
      ]
    },
    {
      "cell_type": "code",
      "source": [
        "path = '/content/drive/MyDrive/TechCompany_Extended_CaseStudy.xlsx'\n",
        "\n",
        "df = pd.read_excel(path)\n",
        "df.head()"
      ],
      "metadata": {
        "colab": {
          "base_uri": "https://localhost:8080/",
          "height": 206
        },
        "id": "ioHwDQs3D4HK",
        "outputId": "4137ce92-fe55-4df0-e2a1-d7d0b037cffe"
      },
      "execution_count": 3,
      "outputs": [
        {
          "output_type": "execute_result",
          "data": {
            "text/plain": [
              "   Year  Laptops  Desktops  Accessories  Total Sales ($)\n",
              "0  2024    45795     23556        23417            92768\n",
              "1  2025    30860     23890        19692            74442\n",
              "2  2026    84886     61606        16873           163365\n",
              "3  2027    36265     50740        15675           102680\n",
              "4  2028    67194     34502        10161           111857"
            ],
            "text/html": [
              "\n",
              "  <div id=\"df-4a6a465e-0a80-416f-9a97-9ce63caf823d\" class=\"colab-df-container\">\n",
              "    <div>\n",
              "<style scoped>\n",
              "    .dataframe tbody tr th:only-of-type {\n",
              "        vertical-align: middle;\n",
              "    }\n",
              "\n",
              "    .dataframe tbody tr th {\n",
              "        vertical-align: top;\n",
              "    }\n",
              "\n",
              "    .dataframe thead th {\n",
              "        text-align: right;\n",
              "    }\n",
              "</style>\n",
              "<table border=\"1\" class=\"dataframe\">\n",
              "  <thead>\n",
              "    <tr style=\"text-align: right;\">\n",
              "      <th></th>\n",
              "      <th>Year</th>\n",
              "      <th>Laptops</th>\n",
              "      <th>Desktops</th>\n",
              "      <th>Accessories</th>\n",
              "      <th>Total Sales ($)</th>\n",
              "    </tr>\n",
              "  </thead>\n",
              "  <tbody>\n",
              "    <tr>\n",
              "      <th>0</th>\n",
              "      <td>2024</td>\n",
              "      <td>45795</td>\n",
              "      <td>23556</td>\n",
              "      <td>23417</td>\n",
              "      <td>92768</td>\n",
              "    </tr>\n",
              "    <tr>\n",
              "      <th>1</th>\n",
              "      <td>2025</td>\n",
              "      <td>30860</td>\n",
              "      <td>23890</td>\n",
              "      <td>19692</td>\n",
              "      <td>74442</td>\n",
              "    </tr>\n",
              "    <tr>\n",
              "      <th>2</th>\n",
              "      <td>2026</td>\n",
              "      <td>84886</td>\n",
              "      <td>61606</td>\n",
              "      <td>16873</td>\n",
              "      <td>163365</td>\n",
              "    </tr>\n",
              "    <tr>\n",
              "      <th>3</th>\n",
              "      <td>2027</td>\n",
              "      <td>36265</td>\n",
              "      <td>50740</td>\n",
              "      <td>15675</td>\n",
              "      <td>102680</td>\n",
              "    </tr>\n",
              "    <tr>\n",
              "      <th>4</th>\n",
              "      <td>2028</td>\n",
              "      <td>67194</td>\n",
              "      <td>34502</td>\n",
              "      <td>10161</td>\n",
              "      <td>111857</td>\n",
              "    </tr>\n",
              "  </tbody>\n",
              "</table>\n",
              "</div>\n",
              "    <div class=\"colab-df-buttons\">\n",
              "\n",
              "  <div class=\"colab-df-container\">\n",
              "    <button class=\"colab-df-convert\" onclick=\"convertToInteractive('df-4a6a465e-0a80-416f-9a97-9ce63caf823d')\"\n",
              "            title=\"Convert this dataframe to an interactive table.\"\n",
              "            style=\"display:none;\">\n",
              "\n",
              "  <svg xmlns=\"http://www.w3.org/2000/svg\" height=\"24px\" viewBox=\"0 -960 960 960\">\n",
              "    <path d=\"M120-120v-720h720v720H120Zm60-500h600v-160H180v160Zm220 220h160v-160H400v160Zm0 220h160v-160H400v160ZM180-400h160v-160H180v160Zm440 0h160v-160H620v160ZM180-180h160v-160H180v160Zm440 0h160v-160H620v160Z\"/>\n",
              "  </svg>\n",
              "    </button>\n",
              "\n",
              "  <style>\n",
              "    .colab-df-container {\n",
              "      display:flex;\n",
              "      gap: 12px;\n",
              "    }\n",
              "\n",
              "    .colab-df-convert {\n",
              "      background-color: #E8F0FE;\n",
              "      border: none;\n",
              "      border-radius: 50%;\n",
              "      cursor: pointer;\n",
              "      display: none;\n",
              "      fill: #1967D2;\n",
              "      height: 32px;\n",
              "      padding: 0 0 0 0;\n",
              "      width: 32px;\n",
              "    }\n",
              "\n",
              "    .colab-df-convert:hover {\n",
              "      background-color: #E2EBFA;\n",
              "      box-shadow: 0px 1px 2px rgba(60, 64, 67, 0.3), 0px 1px 3px 1px rgba(60, 64, 67, 0.15);\n",
              "      fill: #174EA6;\n",
              "    }\n",
              "\n",
              "    .colab-df-buttons div {\n",
              "      margin-bottom: 4px;\n",
              "    }\n",
              "\n",
              "    [theme=dark] .colab-df-convert {\n",
              "      background-color: #3B4455;\n",
              "      fill: #D2E3FC;\n",
              "    }\n",
              "\n",
              "    [theme=dark] .colab-df-convert:hover {\n",
              "      background-color: #434B5C;\n",
              "      box-shadow: 0px 1px 3px 1px rgba(0, 0, 0, 0.15);\n",
              "      filter: drop-shadow(0px 1px 2px rgba(0, 0, 0, 0.3));\n",
              "      fill: #FFFFFF;\n",
              "    }\n",
              "  </style>\n",
              "\n",
              "    <script>\n",
              "      const buttonEl =\n",
              "        document.querySelector('#df-4a6a465e-0a80-416f-9a97-9ce63caf823d button.colab-df-convert');\n",
              "      buttonEl.style.display =\n",
              "        google.colab.kernel.accessAllowed ? 'block' : 'none';\n",
              "\n",
              "      async function convertToInteractive(key) {\n",
              "        const element = document.querySelector('#df-4a6a465e-0a80-416f-9a97-9ce63caf823d');\n",
              "        const dataTable =\n",
              "          await google.colab.kernel.invokeFunction('convertToInteractive',\n",
              "                                                    [key], {});\n",
              "        if (!dataTable) return;\n",
              "\n",
              "        const docLinkHtml = 'Like what you see? Visit the ' +\n",
              "          '<a target=\"_blank\" href=https://colab.research.google.com/notebooks/data_table.ipynb>data table notebook</a>'\n",
              "          + ' to learn more about interactive tables.';\n",
              "        element.innerHTML = '';\n",
              "        dataTable['output_type'] = 'display_data';\n",
              "        await google.colab.output.renderOutput(dataTable, element);\n",
              "        const docLink = document.createElement('div');\n",
              "        docLink.innerHTML = docLinkHtml;\n",
              "        element.appendChild(docLink);\n",
              "      }\n",
              "    </script>\n",
              "  </div>\n",
              "\n",
              "\n",
              "<div id=\"df-f991e4bc-72ca-402d-b193-3d3e84176d08\">\n",
              "  <button class=\"colab-df-quickchart\" onclick=\"quickchart('df-f991e4bc-72ca-402d-b193-3d3e84176d08')\"\n",
              "            title=\"Suggest charts\"\n",
              "            style=\"display:none;\">\n",
              "\n",
              "<svg xmlns=\"http://www.w3.org/2000/svg\" height=\"24px\"viewBox=\"0 0 24 24\"\n",
              "     width=\"24px\">\n",
              "    <g>\n",
              "        <path d=\"M19 3H5c-1.1 0-2 .9-2 2v14c0 1.1.9 2 2 2h14c1.1 0 2-.9 2-2V5c0-1.1-.9-2-2-2zM9 17H7v-7h2v7zm4 0h-2V7h2v10zm4 0h-2v-4h2v4z\"/>\n",
              "    </g>\n",
              "</svg>\n",
              "  </button>\n",
              "\n",
              "<style>\n",
              "  .colab-df-quickchart {\n",
              "      --bg-color: #E8F0FE;\n",
              "      --fill-color: #1967D2;\n",
              "      --hover-bg-color: #E2EBFA;\n",
              "      --hover-fill-color: #174EA6;\n",
              "      --disabled-fill-color: #AAA;\n",
              "      --disabled-bg-color: #DDD;\n",
              "  }\n",
              "\n",
              "  [theme=dark] .colab-df-quickchart {\n",
              "      --bg-color: #3B4455;\n",
              "      --fill-color: #D2E3FC;\n",
              "      --hover-bg-color: #434B5C;\n",
              "      --hover-fill-color: #FFFFFF;\n",
              "      --disabled-bg-color: #3B4455;\n",
              "      --disabled-fill-color: #666;\n",
              "  }\n",
              "\n",
              "  .colab-df-quickchart {\n",
              "    background-color: var(--bg-color);\n",
              "    border: none;\n",
              "    border-radius: 50%;\n",
              "    cursor: pointer;\n",
              "    display: none;\n",
              "    fill: var(--fill-color);\n",
              "    height: 32px;\n",
              "    padding: 0;\n",
              "    width: 32px;\n",
              "  }\n",
              "\n",
              "  .colab-df-quickchart:hover {\n",
              "    background-color: var(--hover-bg-color);\n",
              "    box-shadow: 0 1px 2px rgba(60, 64, 67, 0.3), 0 1px 3px 1px rgba(60, 64, 67, 0.15);\n",
              "    fill: var(--button-hover-fill-color);\n",
              "  }\n",
              "\n",
              "  .colab-df-quickchart-complete:disabled,\n",
              "  .colab-df-quickchart-complete:disabled:hover {\n",
              "    background-color: var(--disabled-bg-color);\n",
              "    fill: var(--disabled-fill-color);\n",
              "    box-shadow: none;\n",
              "  }\n",
              "\n",
              "  .colab-df-spinner {\n",
              "    border: 2px solid var(--fill-color);\n",
              "    border-color: transparent;\n",
              "    border-bottom-color: var(--fill-color);\n",
              "    animation:\n",
              "      spin 1s steps(1) infinite;\n",
              "  }\n",
              "\n",
              "  @keyframes spin {\n",
              "    0% {\n",
              "      border-color: transparent;\n",
              "      border-bottom-color: var(--fill-color);\n",
              "      border-left-color: var(--fill-color);\n",
              "    }\n",
              "    20% {\n",
              "      border-color: transparent;\n",
              "      border-left-color: var(--fill-color);\n",
              "      border-top-color: var(--fill-color);\n",
              "    }\n",
              "    30% {\n",
              "      border-color: transparent;\n",
              "      border-left-color: var(--fill-color);\n",
              "      border-top-color: var(--fill-color);\n",
              "      border-right-color: var(--fill-color);\n",
              "    }\n",
              "    40% {\n",
              "      border-color: transparent;\n",
              "      border-right-color: var(--fill-color);\n",
              "      border-top-color: var(--fill-color);\n",
              "    }\n",
              "    60% {\n",
              "      border-color: transparent;\n",
              "      border-right-color: var(--fill-color);\n",
              "    }\n",
              "    80% {\n",
              "      border-color: transparent;\n",
              "      border-right-color: var(--fill-color);\n",
              "      border-bottom-color: var(--fill-color);\n",
              "    }\n",
              "    90% {\n",
              "      border-color: transparent;\n",
              "      border-bottom-color: var(--fill-color);\n",
              "    }\n",
              "  }\n",
              "</style>\n",
              "\n",
              "  <script>\n",
              "    async function quickchart(key) {\n",
              "      const quickchartButtonEl =\n",
              "        document.querySelector('#' + key + ' button');\n",
              "      quickchartButtonEl.disabled = true;  // To prevent multiple clicks.\n",
              "      quickchartButtonEl.classList.add('colab-df-spinner');\n",
              "      try {\n",
              "        const charts = await google.colab.kernel.invokeFunction(\n",
              "            'suggestCharts', [key], {});\n",
              "      } catch (error) {\n",
              "        console.error('Error during call to suggestCharts:', error);\n",
              "      }\n",
              "      quickchartButtonEl.classList.remove('colab-df-spinner');\n",
              "      quickchartButtonEl.classList.add('colab-df-quickchart-complete');\n",
              "    }\n",
              "    (() => {\n",
              "      let quickchartButtonEl =\n",
              "        document.querySelector('#df-f991e4bc-72ca-402d-b193-3d3e84176d08 button');\n",
              "      quickchartButtonEl.style.display =\n",
              "        google.colab.kernel.accessAllowed ? 'block' : 'none';\n",
              "    })();\n",
              "  </script>\n",
              "</div>\n",
              "\n",
              "    </div>\n",
              "  </div>\n"
            ],
            "application/vnd.google.colaboratory.intrinsic+json": {
              "type": "dataframe",
              "variable_name": "df",
              "summary": "{\n  \"name\": \"df\",\n  \"rows\": 30,\n  \"fields\": [\n    {\n      \"column\": \"Year\",\n      \"properties\": {\n        \"dtype\": \"number\",\n        \"std\": 8,\n        \"min\": 2024,\n        \"max\": 2053,\n        \"num_unique_values\": 30,\n        \"samples\": [\n          2051,\n          2039,\n          2047\n        ],\n        \"semantic_type\": \"\",\n        \"description\": \"\"\n      }\n    },\n    {\n      \"column\": \"Laptops\",\n      \"properties\": {\n        \"dtype\": \"number\",\n        \"std\": 24193,\n        \"min\": 30769,\n        \"max\": 97969,\n        \"num_unique_values\": 30,\n        \"samples\": [\n          96803,\n          97969,\n          95725\n        ],\n        \"semantic_type\": \"\",\n        \"description\": \"\"\n      }\n    },\n    {\n      \"column\": \"Desktops\",\n      \"properties\": {\n        \"dtype\": \"number\",\n        \"std\": 15716,\n        \"min\": 21021,\n        \"max\": 68555,\n        \"num_unique_values\": 30,\n        \"samples\": [\n          21021,\n          43483,\n          21585\n        ],\n        \"semantic_type\": \"\",\n        \"description\": \"\"\n      }\n    },\n    {\n      \"column\": \"Accessories\",\n      \"properties\": {\n        \"dtype\": \"number\",\n        \"std\": 12603,\n        \"min\": 10161,\n        \"max\": 49976,\n        \"num_unique_values\": 30,\n        \"samples\": [\n          12568,\n          33247,\n          49099\n        ],\n        \"semantic_type\": \"\",\n        \"description\": \"\"\n      }\n    },\n    {\n      \"column\": \"Total Sales ($)\",\n      \"properties\": {\n        \"dtype\": \"number\",\n        \"std\": 30141,\n        \"min\": 74442,\n        \"max\": 191350,\n        \"num_unique_values\": 30,\n        \"samples\": [\n          130392,\n          174699,\n          166409\n        ],\n        \"semantic_type\": \"\",\n        \"description\": \"\"\n      }\n    }\n  ]\n}"
            }
          },
          "metadata": {},
          "execution_count": 3
        }
      ]
    },
    {
      "cell_type": "code",
      "source": [
        "category_spending = df.groupby('Laptops')['Total Sales ($)'].sum()\n",
        "print(category_spending)"
      ],
      "metadata": {
        "colab": {
          "base_uri": "https://localhost:8080/"
        },
        "id": "T75UvutkD-Re",
        "outputId": "a446a9dc-45cf-421c-b081-6c1d65950ede"
      },
      "execution_count": 7,
      "outputs": [
        {
          "output_type": "stream",
          "name": "stdout",
          "text": [
            "Laptops\n",
            "30769    129621\n",
            "30860     74442\n",
            "32747    110852\n",
            "35311    138166\n",
            "36265    102680\n",
            "41394    117662\n",
            "45795     92768\n",
            "46023    118578\n",
            "48431    114243\n",
            "55658    135920\n",
            "58693    150929\n",
            "61551    105231\n",
            "65773    108287\n",
            "67194    111857\n",
            "71090    177019\n",
            "74131    162973\n",
            "83707    139395\n",
            "84886    163365\n",
            "86886    174387\n",
            "89150    166924\n",
            "89735    131767\n",
            "90263    157447\n",
            "92955    171105\n",
            "94820    162380\n",
            "94925    151813\n",
            "95725    166409\n",
            "96803    130392\n",
            "97221    181776\n",
            "97435    191350\n",
            "97969    174699\n",
            "Name: Total Sales ($), dtype: int64\n"
          ]
        }
      ]
    },
    {
      "cell_type": "code",
      "source": [
        "df['Value Score'] = df['Total Sales ($)'] * (1 + (df['Year'] / 100))\n",
        "top_customers = df.nlargest(10, 'Value Score')\n",
        "print(top_customers)"
      ],
      "metadata": {
        "colab": {
          "base_uri": "https://localhost:8080/"
        },
        "id": "uKnQcg4IEypV",
        "outputId": "44c34b94-cef9-4429-9d08-9cce720cef8f"
      },
      "execution_count": 8,
      "outputs": [
        {
          "output_type": "stream",
          "name": "stdout",
          "text": [
            "    Year  Laptops  Desktops  Accessories  Total Sales ($)  Value Score\n",
            "25  2049    97435     43939        49976           191350   4112111.50\n",
            "9   2033    97221     63021        21534           181776   3877282.08\n",
            "8   2032    71090     63323        42606           177019   3774045.08\n",
            "26  2050    86886     39457        48044           174387   3749320.50\n",
            "15  2039    97969     43483        33247           174699   3736811.61\n",
            "13  2037    92955     43897        34253           171105   3656513.85\n",
            "22  2046    89150     46531        31243           166924   3582189.04\n",
            "23  2047    95725     21585        49099           166409   3572801.23\n",
            "2   2026    84886     61606        16873           163365   3473139.90\n",
            "5   2029    74131     41777        47065           162973   3469695.17\n"
          ]
        }
      ]
    },
    {
      "cell_type": "code",
      "source": [
        "import matplotlib.pyplot as plt\n",
        "\n",
        "year_spending = df.groupby('Year')['Total Sales ($)'].mean()\n",
        "year_spending.plot(title='Average Spending by Year', xlabel='Year', ylabel='Average Spending')"
      ],
      "metadata": {
        "colab": {
          "base_uri": "https://localhost:8080/",
          "height": 507
        },
        "id": "BncKZmTeFRLf",
        "outputId": "7c6e0708-9860-47de-8af1-94af78cc2277"
      },
      "execution_count": 9,
      "outputs": [
        {
          "output_type": "execute_result",
          "data": {
            "text/plain": [
              "<Axes: title={'center': 'Average Spending by Year'}, xlabel='Year', ylabel='Average Spending'>"
            ]
          },
          "metadata": {},
          "execution_count": 9
        },
        {
          "output_type": "display_data",
          "data": {
            "text/plain": [
              "<Figure size 640x480 with 1 Axes>"
            ],
            "image/png": "[encoded data removed]"
          },
          "metadata": {}
        }
      ]
    },
    {
      "cell_type": "code",
      "source": [
        "loyalty_analysis = df.groupby('Year')['Total Sales ($)'].mean()\n",
        "print(loyalty_analysis)"
      ],
      "metadata": {
        "colab": {
          "base_uri": "https://localhost:8080/"
        },
        "id": "27k-n5bsFrwW",
        "outputId": "6b94d608-c507-4316-e6c0-c975e5725f42"
      },
      "execution_count": 10,
      "outputs": [
        {
          "output_type": "stream",
          "name": "stdout",
          "text": [
            "Year\n",
            "2024     92768.0\n",
            "2025     74442.0\n",
            "2026    163365.0\n",
            "2027    102680.0\n",
            "2028    111857.0\n",
            "2029    162973.0\n",
            "2030    157447.0\n",
            "2031    118578.0\n",
            "2032    177019.0\n",
            "2033    181776.0\n",
            "2034    162380.0\n",
            "2035    129621.0\n",
            "2036    131767.0\n",
            "2037    171105.0\n",
            "2038    151813.0\n",
            "2039    174699.0\n",
            "2040    138166.0\n",
            "2041    139395.0\n",
            "2042    150929.0\n",
            "2043    135920.0\n",
            "2044    114243.0\n",
            "2045    110852.0\n",
            "2046    166924.0\n",
            "2047    166409.0\n",
            "2048    108287.0\n",
            "2049    191350.0\n",
            "2050    174387.0\n",
            "2051    130392.0\n",
            "2052    105231.0\n",
            "2053    117662.0\n",
            "Name: Total Sales ($), dtype: float64\n"
          ]
        }
      ]
    }
  ]
}