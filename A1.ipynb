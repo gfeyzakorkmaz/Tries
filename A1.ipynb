{
  "nbformat": 4,
  "nbformat_minor": 0,
  "metadata": {
    "colab": {
      "provenance": [],
      "mount_file_id": "1CEkvAkjUrXfTiluEMooX8kSKvCFbOUje",
      "authorship_tag": "ABX9TyMeBX9o+0MBvLr+6ZKEdrAY",
      "include_colab_link": true
    },
    "kernelspec": {
      "name": "python3",
      "display_name": "Python 3"
    },
    "language_info": {
      "name": "python"
    }
  },
  "cells": [
    {
      "cell_type": "markdown",
      "metadata": {
        "id": "view-in-github",
        "colab_type": "text"
      },
      "source": [
        "<a href=\"https://colab.research.google.com/github/gfeyzakorkmaz/Tries/blob/main/A1.ipynb\" target=\"_parent\"><img src=\"https://colab.research.google.com/assets/colab-badge.svg\" alt=\"Open In Colab\"/></a>"
      ]
    },
    {
      "cell_type": "code",
      "execution_count": 1,
      "metadata": {
        "id": "QvVIoN1Z2GzH"
      },
      "outputs": [],
      "source": [
        "import pandas as pd"
      ]
    },
    {
      "cell_type": "code",
      "source": [
        "path = '/content/drive/MyDrive/Dataset/complex_marketing_data_enriched.xlsx'"
      ],
      "metadata": {
        "id": "yXymQoef27qY"
      },
      "execution_count": 2,
      "outputs": []
    },
    {
      "cell_type": "code",
      "source": [
        "df = pd.read_excel(path)\n",
        "df.head()"
      ],
      "metadata": {
        "colab": {
          "base_uri": "https://localhost:8080/",
          "height": 411
        },
        "id": "C5aNEqKi29Jo",
        "outputId": "59ae450a-98fa-44c1-fe3e-b9ee3f6fbb3f"
      },
      "execution_count": 5,
      "outputs": [
        {
          "output_type": "execute_result",
          "data": {
            "text/plain": [
              "   Customer ID  Age Gender  Total Spent  Converted  \\\n",
              "0            1   23      F          150          1   \n",
              "1            2   35      M          600          1   \n",
              "2            3   45      F          800          0   \n",
              "3            4   52      M          200          0   \n",
              "4            5   29      F          300          1   \n",
              "\n",
              "                        Comments Purchased Category  Stock Region  \\\n",
              "0     Satisfied with the service           Clothing      4   East   \n",
              "1  Needs improvement in delivery             Beauty     86   West   \n",
              "2               Regular customer              Books     24  North   \n",
              "3               Occasional buyer             Beauty     10   East   \n",
              "4                   High spender              Books     47   East   \n",
              "\n",
              "  Income Level  ...      Campaign  Return Rate (%) Website Visit Frequency  \\\n",
              "0       Medium  ...   Winter Sale         2.981829                       3   \n",
              "1          Low  ...   Summer Sale         1.833412                       6   \n",
              "2       Medium  ...  Black Friday         6.547401                       0   \n",
              "3       Medium  ...   Winter Sale         3.923717                       1   \n",
              "4       Medium  ...   Winter Sale         2.306644                       4   \n",
              "\n",
              "   Average Cart Value  Total Spent Diff  Spending Rank  Rolling Return Rate  \\\n",
              "0              378.00               NaN           19.0                  NaN   \n",
              "1              315.52             450.0            6.0                  NaN   \n",
              "2              250.69             200.0            1.0             3.787547   \n",
              "3              222.58            -600.0           18.0             4.101510   \n",
              "4              298.68             100.0           15.0             4.259254   \n",
              "\n",
              "   High Spender  Customer Tenure Quarter Customer Word Count  \n",
              "0            No                       Q1                   0  \n",
              "1           Yes                       Q3                   0  \n",
              "2           Yes                       Q3                   1  \n",
              "3            No                       Q2                   0  \n",
              "4            No                       Q3                   0  \n",
              "\n",
              "[5 rows x 22 columns]"
            ],
            "text/html": [
              "\n",
              "  <div id=\"df-7756cb23-29a3-47ac-ac34-5b1bdedb78b4\" class=\"colab-df-container\">\n",
              "    <div>\n",
              "<style scoped>\n",
              "    .dataframe tbody tr th:only-of-type {\n",
              "        vertical-align: middle;\n",
              "    }\n",
              "\n",
              "    .dataframe tbody tr th {\n",
              "        vertical-align: top;\n",
              "    }\n",
              "\n",
              "    .dataframe thead th {\n",
              "        text-align: right;\n",
              "    }\n",
              "</style>\n",
              "<table border=\"1\" class=\"dataframe\">\n",
              "  <thead>\n",
              "    <tr style=\"text-align: right;\">\n",
              "      <th></th>\n",
              "      <th>Customer ID</th>\n",
              "      <th>Age</th>\n",
              "      <th>Gender</th>\n",
              "      <th>Total Spent</th>\n",
              "      <th>Converted</th>\n",
              "      <th>Comments</th>\n",
              "      <th>Purchased Category</th>\n",
              "      <th>Stock</th>\n",
              "      <th>Region</th>\n",
              "      <th>Income Level</th>\n",
              "      <th>...</th>\n",
              "      <th>Campaign</th>\n",
              "      <th>Return Rate (%)</th>\n",
              "      <th>Website Visit Frequency</th>\n",
              "      <th>Average Cart Value</th>\n",
              "      <th>Total Spent Diff</th>\n",
              "      <th>Spending Rank</th>\n",
              "      <th>Rolling Return Rate</th>\n",
              "      <th>High Spender</th>\n",
              "      <th>Customer Tenure Quarter</th>\n",
              "      <th>Customer Word Count</th>\n",
              "    </tr>\n",
              "  </thead>\n",
              "  <tbody>\n",
              "    <tr>\n",
              "      <th>0</th>\n",
              "      <td>1</td>\n",
              "      <td>23</td>\n",
              "      <td>F</td>\n",
              "      <td>150</td>\n",
              "      <td>1</td>\n",
              "      <td>Satisfied with the service</td>\n",
              "      <td>Clothing</td>\n",
              "      <td>4</td>\n",
              "      <td>East</td>\n",
              "      <td>Medium</td>\n",
              "      <td>...</td>\n",
              "      <td>Winter Sale</td>\n",
              "      <td>2.981829</td>\n",
              "      <td>3</td>\n",
              "      <td>378.00</td>\n",
              "      <td>NaN</td>\n",
              "      <td>19.0</td>\n",
              "      <td>NaN</td>\n",
              "      <td>No</td>\n",
              "      <td>Q1</td>\n",
              "      <td>0</td>\n",
              "    </tr>\n",
              "    <tr>\n",
              "      <th>1</th>\n",
              "      <td>2</td>\n",
              "      <td>35</td>\n",
              "      <td>M</td>\n",
              "      <td>600</td>\n",
              "      <td>1</td>\n",
              "      <td>Needs improvement in delivery</td>\n",
              "      <td>Beauty</td>\n",
              "      <td>86</td>\n",
              "      <td>West</td>\n",
              "      <td>Low</td>\n",
              "      <td>...</td>\n",
              "      <td>Summer Sale</td>\n",
              "      <td>1.833412</td>\n",
              "      <td>6</td>\n",
              "      <td>315.52</td>\n",
              "      <td>450.0</td>\n",
              "      <td>6.0</td>\n",
              "      <td>NaN</td>\n",
              "      <td>Yes</td>\n",
              "      <td>Q3</td>\n",
              "      <td>0</td>\n",
              "    </tr>\n",
              "    <tr>\n",
              "      <th>2</th>\n",
              "      <td>3</td>\n",
              "      <td>45</td>\n",
              "      <td>F</td>\n",
              "      <td>800</td>\n",
              "      <td>0</td>\n",
              "      <td>Regular customer</td>\n",
              "      <td>Books</td>\n",
              "      <td>24</td>\n",
              "      <td>North</td>\n",
              "      <td>Medium</td>\n",
              "      <td>...</td>\n",
              "      <td>Black Friday</td>\n",
              "      <td>6.547401</td>\n",
              "      <td>0</td>\n",
              "      <td>250.69</td>\n",
              "      <td>200.0</td>\n",
              "      <td>1.0</td>\n",
              "      <td>3.787547</td>\n",
              "      <td>Yes</td>\n",
              "      <td>Q3</td>\n",
              "      <td>1</td>\n",
              "    </tr>\n",
              "    <tr>\n",
              "      <th>3</th>\n",
              "      <td>4</td>\n",
              "      <td>52</td>\n",
              "      <td>M</td>\n",
              "      <td>200</td>\n",
              "      <td>0</td>\n",
              "      <td>Occasional buyer</td>\n",
              "      <td>Beauty</td>\n",
              "      <td>10</td>\n",
              "      <td>East</td>\n",
              "      <td>Medium</td>\n",
              "      <td>...</td>\n",
              "      <td>Winter Sale</td>\n",
              "      <td>3.923717</td>\n",
              "      <td>1</td>\n",
              "      <td>222.58</td>\n",
              "      <td>-600.0</td>\n",
              "      <td>18.0</td>\n",
              "      <td>4.101510</td>\n",
              "      <td>No</td>\n",
              "      <td>Q2</td>\n",
              "      <td>0</td>\n",
              "    </tr>\n",
              "    <tr>\n",
              "      <th>4</th>\n",
              "      <td>5</td>\n",
              "      <td>29</td>\n",
              "      <td>F</td>\n",
              "      <td>300</td>\n",
              "      <td>1</td>\n",
              "      <td>High spender</td>\n",
              "      <td>Books</td>\n",
              "      <td>47</td>\n",
              "      <td>East</td>\n",
              "      <td>Medium</td>\n",
              "      <td>...</td>\n",
              "      <td>Winter Sale</td>\n",
              "      <td>2.306644</td>\n",
              "      <td>4</td>\n",
              "      <td>298.68</td>\n",
              "      <td>100.0</td>\n",
              "      <td>15.0</td>\n",
              "      <td>4.259254</td>\n",
              "      <td>No</td>\n",
              "      <td>Q3</td>\n",
              "      <td>0</td>\n",
              "    </tr>\n",
              "  </tbody>\n",
              "</table>\n",
              "<p>5 rows × 22 columns</p>\n",
              "</div>\n",
              "    <div class=\"colab-df-buttons\">\n",
              "\n",
              "  <div class=\"colab-df-container\">\n",
              "    <button class=\"colab-df-convert\" onclick=\"convertToInteractive('df-7756cb23-29a3-47ac-ac34-5b1bdedb78b4')\"\n",
              "            title=\"Convert this dataframe to an interactive table.\"\n",
              "            style=\"display:none;\">\n",
              "\n",
              "  <svg xmlns=\"http://www.w3.org/2000/svg\" height=\"24px\" viewBox=\"0 -960 960 960\">\n",
              "    <path d=\"M120-120v-720h720v720H120Zm60-500h600v-160H180v160Zm220 220h160v-160H400v160Zm0 220h160v-160H400v160ZM180-400h160v-160H180v160Zm440 0h160v-160H620v160ZM180-180h160v-160H180v160Zm440 0h160v-160H620v160Z\"/>\n",
              "  </svg>\n",
              "    </button>\n",
              "\n",
              "  <style>\n",
              "    .colab-df-container {\n",
              "      display:flex;\n",
              "      gap: 12px;\n",
              "    }\n",
              "\n",
              "    .colab-df-convert {\n",
              "      background-color: #E8F0FE;\n",
              "      border: none;\n",
              "      border-radius: 50%;\n",
              "      cursor: pointer;\n",
              "      display: none;\n",
              "      fill: #1967D2;\n",
              "      height: 32px;\n",
              "      padding: 0 0 0 0;\n",
              "      width: 32px;\n",
              "    }\n",
              "\n",
              "    .colab-df-convert:hover {\n",
              "      background-color: #E2EBFA;\n",
              "      box-shadow: 0px 1px 2px rgba(60, 64, 67, 0.3), 0px 1px 3px 1px rgba(60, 64, 67, 0.15);\n",
              "      fill: #174EA6;\n",
              "    }\n",
              "\n",
              "    .colab-df-buttons div {\n",
              "      margin-bottom: 4px;\n",
              "    }\n",
              "\n",
              "    [theme=dark] .colab-df-convert {\n",
              "      background-color: #3B4455;\n",
              "      fill: #D2E3FC;\n",
              "    }\n",
              "\n",
              "    [theme=dark] .colab-df-convert:hover {\n",
              "      background-color: #434B5C;\n",
              "      box-shadow: 0px 1px 3px 1px rgba(0, 0, 0, 0.15);\n",
              "      filter: drop-shadow(0px 1px 2px rgba(0, 0, 0, 0.3));\n",
              "      fill: #FFFFFF;\n",
              "    }\n",
              "  </style>\n",
              "\n",
              "    <script>\n",
              "      const buttonEl =\n",
              "        document.querySelector('#df-7756cb23-29a3-47ac-ac34-5b1bdedb78b4 button.colab-df-convert');\n",
              "      buttonEl.style.display =\n",
              "        google.colab.kernel.accessAllowed ? 'block' : 'none';\n",
              "\n",
              "      async function convertToInteractive(key) {\n",
              "        const element = document.querySelector('#df-7756cb23-29a3-47ac-ac34-5b1bdedb78b4');\n",
              "        const dataTable =\n",
              "          await google.colab.kernel.invokeFunction('convertToInteractive',\n",
              "                                                    [key], {});\n",
              "        if (!dataTable) return;\n",
              "\n",
              "        const docLinkHtml = 'Like what you see? Visit the ' +\n",
              "          '<a target=\"_blank\" href=https://colab.research.google.com/notebooks/data_table.ipynb>data table notebook</a>'\n",
              "          + ' to learn more about interactive tables.';\n",
              "        element.innerHTML = '';\n",
              "        dataTable['output_type'] = 'display_data';\n",
              "        await google.colab.output.renderOutput(dataTable, element);\n",
              "        const docLink = document.createElement('div');\n",
              "        docLink.innerHTML = docLinkHtml;\n",
              "        element.appendChild(docLink);\n",
              "      }\n",
              "    </script>\n",
              "  </div>\n",
              "\n",
              "\n",
              "<div id=\"df-b2b8adb5-5c62-42c1-bdcd-94bb8744234b\">\n",
              "  <button class=\"colab-df-quickchart\" onclick=\"quickchart('df-b2b8adb5-5c62-42c1-bdcd-94bb8744234b')\"\n",
              "            title=\"Suggest charts\"\n",
              "            style=\"display:none;\">\n",
              "\n",
              "<svg xmlns=\"http://www.w3.org/2000/svg\" height=\"24px\"viewBox=\"0 0 24 24\"\n",
              "     width=\"24px\">\n",
              "    <g>\n",
              "        <path d=\"M19 3H5c-1.1 0-2 .9-2 2v14c0 1.1.9 2 2 2h14c1.1 0 2-.9 2-2V5c0-1.1-.9-2-2-2zM9 17H7v-7h2v7zm4 0h-2V7h2v10zm4 0h-2v-4h2v4z\"/>\n",
              "    </g>\n",
              "</svg>\n",
              "  </button>\n",
              "\n",
              "<style>\n",
              "  .colab-df-quickchart {\n",
              "      --bg-color: #E8F0FE;\n",
              "      --fill-color: #1967D2;\n",
              "      --hover-bg-color: #E2EBFA;\n",
              "      --hover-fill-color: #174EA6;\n",
              "      --disabled-fill-color: #AAA;\n",
              "      --disabled-bg-color: #DDD;\n",
              "  }\n",
              "\n",
              "  [theme=dark] .colab-df-quickchart {\n",
              "      --bg-color: #3B4455;\n",
              "      --fill-color: #D2E3FC;\n",
              "      --hover-bg-color: #434B5C;\n",
              "      --hover-fill-color: #FFFFFF;\n",
              "      --disabled-bg-color: #3B4455;\n",
              "      --disabled-fill-color: #666;\n",
              "  }\n",
              "\n",
              "  .colab-df-quickchart {\n",
              "    background-color: var(--bg-color);\n",
              "    border: none;\n",
              "    border-radius: 50%;\n",
              "    cursor: pointer;\n",
              "    display: none;\n",
              "    fill: var(--fill-color);\n",
              "    height: 32px;\n",
              "    padding: 0;\n",
              "    width: 32px;\n",
              "  }\n",
              "\n",
              "  .colab-df-quickchart:hover {\n",
              "    background-color: var(--hover-bg-color);\n",
              "    box-shadow: 0 1px 2px rgba(60, 64, 67, 0.3), 0 1px 3px 1px rgba(60, 64, 67, 0.15);\n",
              "    fill: var(--button-hover-fill-color);\n",
              "  }\n",
              "\n",
              "  .colab-df-quickchart-complete:disabled,\n",
              "  .colab-df-quickchart-complete:disabled:hover {\n",
              "    background-color: var(--disabled-bg-color);\n",
              "    fill: var(--disabled-fill-color);\n",
              "    box-shadow: none;\n",
              "  }\n",
              "\n",
              "  .colab-df-spinner {\n",
              "    border: 2px solid var(--fill-color);\n",
              "    border-color: transparent;\n",
              "    border-bottom-color: var(--fill-color);\n",
              "    animation:\n",
              "      spin 1s steps(1) infinite;\n",
              "  }\n",
              "\n",
              "  @keyframes spin {\n",
              "    0% {\n",
              "      border-color: transparent;\n",
              "      border-bottom-color: var(--fill-color);\n",
              "      border-left-color: var(--fill-color);\n",
              "    }\n",
              "    20% {\n",
              "      border-color: transparent;\n",
              "      border-left-color: var(--fill-color);\n",
              "      border-top-color: var(--fill-color);\n",
              "    }\n",
              "    30% {\n",
              "      border-color: transparent;\n",
              "      border-left-color: var(--fill-color);\n",
              "      border-top-color: var(--fill-color);\n",
              "      border-right-color: var(--fill-color);\n",
              "    }\n",
              "    40% {\n",
              "      border-color: transparent;\n",
              "      border-right-color: var(--fill-color);\n",
              "      border-top-color: var(--fill-color);\n",
              "    }\n",
              "    60% {\n",
              "      border-color: transparent;\n",
              "      border-right-color: var(--fill-color);\n",
              "    }\n",
              "    80% {\n",
              "      border-color: transparent;\n",
              "      border-right-color: var(--fill-color);\n",
              "      border-bottom-color: var(--fill-color);\n",
              "    }\n",
              "    90% {\n",
              "      border-color: transparent;\n",
              "      border-bottom-color: var(--fill-color);\n",
              "    }\n",
              "  }\n",
              "</style>\n",
              "\n",
              "  <script>\n",
              "    async function quickchart(key) {\n",
              "      const quickchartButtonEl =\n",
              "        document.querySelector('#' + key + ' button');\n",
              "      quickchartButtonEl.disabled = true;  // To prevent multiple clicks.\n",
              "      quickchartButtonEl.classList.add('colab-df-spinner');\n",
              "      try {\n",
              "        const charts = await google.colab.kernel.invokeFunction(\n",
              "            'suggestCharts', [key], {});\n",
              "      } catch (error) {\n",
              "        console.error('Error during call to suggestCharts:', error);\n",
              "      }\n",
              "      quickchartButtonEl.classList.remove('colab-df-spinner');\n",
              "      quickchartButtonEl.classList.add('colab-df-quickchart-complete');\n",
              "    }\n",
              "    (() => {\n",
              "      let quickchartButtonEl =\n",
              "        document.querySelector('#df-b2b8adb5-5c62-42c1-bdcd-94bb8744234b button');\n",
              "      quickchartButtonEl.style.display =\n",
              "        google.colab.kernel.accessAllowed ? 'block' : 'none';\n",
              "    })();\n",
              "  </script>\n",
              "</div>\n",
              "\n",
              "    </div>\n",
              "  </div>\n"
            ],
            "application/vnd.google.colaboratory.intrinsic+json": {
              "type": "dataframe",
              "variable_name": "df"
            }
          },
          "metadata": {},
          "execution_count": 5
        }
      ]
    },
    {
      "cell_type": "code",
      "source": [
        "top_categories = df.groupby('Purchased Category')['Total Spent'].sum().sort_values(ascending=False).head(5)\n",
        "print(top_categories)"
      ],
      "metadata": {
        "colab": {
          "base_uri": "https://localhost:8080/"
        },
        "id": "QiAlCgZe3AgB",
        "outputId": "de264a42-873e-4ece-95f8-5e427b4bcde8"
      },
      "execution_count": 8,
      "outputs": [
        {
          "output_type": "stream",
          "name": "stdout",
          "text": [
            "Purchased Category\n",
            "Books          2350\n",
            "Home Goods     2090\n",
            "Electronics    1680\n",
            "Clothing       1600\n",
            "Beauty         1200\n",
            "Name: Total Spent, dtype: int64\n"
          ]
        }
      ]
    },
    {
      "cell_type": "code",
      "source": [
        "avg_spending_by_gender = df.groupby('Gender')['Total Spent'].mean()\n",
        "print(avg_spending_by_gender)"
      ],
      "metadata": {
        "colab": {
          "base_uri": "https://localhost:8080/"
        },
        "id": "5OqXswZU3dlW",
        "outputId": "5b7115a1-b350-4751-d54f-c7f68cd0951b"
      },
      "execution_count": 9,
      "outputs": [
        {
          "output_type": "stream",
          "name": "stdout",
          "text": [
            "Gender\n",
            "F    467.272727\n",
            "M    420.000000\n",
            "Name: Total Spent, dtype: float64\n"
          ]
        }
      ]
    },
    {
      "cell_type": "code",
      "source": [
        "top_region_by_conversions = df[df['Converted'] == 1].groupby('Region').size().idxmax()\n",
        "print(top_region_by_conversions)"
      ],
      "metadata": {
        "colab": {
          "base_uri": "https://localhost:8080/"
        },
        "id": "ToRUYNJQ3h4C",
        "outputId": "c6564eb3-de23-46fa-a6b9-fcd5bfb92dee"
      },
      "execution_count": 10,
      "outputs": [
        {
          "output_type": "stream",
          "name": "stdout",
          "text": [
            "East\n"
          ]
        }
      ]
    },
    {
      "cell_type": "code",
      "source": [
        "discount_conversion_corr = df[['Discount Availed', 'Converted']].corr()\n",
        "print(discount_conversion_corr)"
      ],
      "metadata": {
        "colab": {
          "base_uri": "https://localhost:8080/"
        },
        "id": "nABT3BYO3nQm",
        "outputId": "f2b62257-4f01-468c-d3ae-33514045540f"
      },
      "execution_count": 11,
      "outputs": [
        {
          "output_type": "stream",
          "name": "stdout",
          "text": [
            "                  Discount Availed  Converted\n",
            "Discount Availed          1.000000   0.093659\n",
            "Converted                 0.093659   1.000000\n"
          ]
        }
      ]
    },
    {
      "cell_type": "code",
      "source": [
        "high_tenure_low_spending = df[(df['Customer Tenure (Years)'] > 10) & (df['Total Spent'] < 300)]\n",
        "print(high_tenure_low_spending )"
      ],
      "metadata": {
        "colab": {
          "base_uri": "https://localhost:8080/"
        },
        "id": "TF0-Zub43sVF",
        "outputId": "d7cbd2cf-3425-4ecc-bbd2-30f702450bd0"
      },
      "execution_count": 12,
      "outputs": [
        {
          "output_type": "stream",
          "name": "stdout",
          "text": [
            "Empty DataFrame\n",
            "Columns: [Customer ID, Age, Gender, Total Spent, Converted, Comments, Purchased Category, Stock, Region, Income Level, Discount Availed, Customer Tenure (Years), Campaign, Return Rate (%), Website Visit Frequency, Average Cart Value, Total Spent Diff, Spending Rank, Rolling Return Rate, High Spender, Customer Tenure Quarter, Customer Word Count]\n",
            "Index: []\n",
            "\n",
            "[0 rows x 22 columns]\n"
          ]
        }
      ]
    },
    {
      "cell_type": "code",
      "source": [
        "pivot_campaign_region = df.pivot_table(\n",
        "    values='Total Spent',\n",
        "    index='Campaign',\n",
        "    columns='Region',\n",
        "    aggfunc='mean',\n",
        "    fill_value=0\n",
        ")\n",
        "print(pivot_campaign_region)"
      ],
      "metadata": {
        "colab": {
          "base_uri": "https://localhost:8080/"
        },
        "id": "uLmmjEpw3zy2",
        "outputId": "42b7cea5-b7f0-4fb9-d9ba-c16e23d28965"
      },
      "execution_count": 13,
      "outputs": [
        {
          "output_type": "stream",
          "name": "stdout",
          "text": [
            "Region         East  North   West\n",
            "Campaign                         \n",
            "Black Friday  305.0  800.0  550.0\n",
            "Summer Sale     0.0    0.0  425.0\n",
            "Winter Sale   360.0  380.0    0.0\n"
          ]
        }
      ]
    },
    {
      "cell_type": "code",
      "source": [
        "return_rate_category = df.groupby('Purchased Category').apply(\n",
        "    lambda x: (x['Return Rate (%)'] * x['Total Spent']).sum() / x['Total Spent'].sum()\n",
        ")\n",
        "print(return_rate_category)"
      ],
      "metadata": {
        "colab": {
          "base_uri": "https://localhost:8080/"
        },
        "id": "3wP10yb-34DC",
        "outputId": "9482ded8-8cc6-4715-c638-dd8281306eb6"
      },
      "execution_count": 15,
      "outputs": [
        {
          "output_type": "stream",
          "name": "stdout",
          "text": [
            "Purchased Category\n",
            "Beauty         3.099215\n",
            "Books          5.013504\n",
            "Clothing       5.283975\n",
            "Electronics    4.651508\n",
            "Home Goods     4.678345\n",
            "dtype: float64\n"
          ]
        },
        {
          "output_type": "stream",
          "name": "stderr",
          "text": [
            "<ipython-input-15-cde7bc0e0a25>:1: DeprecationWarning: DataFrameGroupBy.apply operated on the grouping columns. This behavior is deprecated, and in a future version of pandas the grouping columns will be excluded from the operation. Either pass `include_groups=False` to exclude the groupings or explicitly select the grouping columns after groupby to silence this warning.\n",
            "  return_rate_category = df.groupby('Purchased Category').apply(\n"
          ]
        }
      ]
    },
    {
      "cell_type": "code",
      "source": [
        "high_visitors = df[df['Website Visit Frequency'] > df['Website Visit Frequency'].mean()]\n",
        "print(high_visitors)"
      ],
      "metadata": {
        "colab": {
          "base_uri": "https://localhost:8080/"
        },
        "id": "kVJKLqux3-ZS",
        "outputId": "90cba7c0-99cd-4a17-bbff-1bdbd183c0de"
      },
      "execution_count": 16,
      "outputs": [
        {
          "output_type": "stream",
          "name": "stdout",
          "text": [
            "    Customer ID  Age Gender  Total Spent  Converted  \\\n",
            "1             2   35      M          600          1   \n",
            "4             5   29      F          300          1   \n",
            "7             8   27      M          120          1   \n",
            "9            10   33      M          750          1   \n",
            "12           13   48      F          400          1   \n",
            "13           14   32      M          320          0   \n",
            "17           18   35      M          700          1   \n",
            "18           19   50      F          250          0   \n",
            "\n",
            "                           Comments Purchased Category  Stock Region  \\\n",
            "1     Needs improvement in delivery             Beauty     86   West   \n",
            "4                      High spender              Books     47   East   \n",
            "7                      New customer         Home Goods      0  North   \n",
            "9              High conversion rate           Clothing     45  South   \n",
            "12                 Frequent shopper             Beauty      0   East   \n",
            "13             Unhappy with returns        Electronics     85   East   \n",
            "17  Satisfied with customer service           Clothing     87   West   \n",
            "18                   Not interested              Books     21   West   \n",
            "\n",
            "   Income Level  ...      Campaign  Return Rate (%) Website Visit Frequency  \\\n",
            "1           Low  ...   Summer Sale         1.833412                       6   \n",
            "4        Medium  ...   Winter Sale         2.306644                       4   \n",
            "7           Low  ...   Winter Sale         5.268858                       7   \n",
            "9        Medium  ...           NaN         6.775497                       4   \n",
            "12          Low  ...           NaN         4.585668                       4   \n",
            "13         High  ...  Black Friday         3.753045                       4   \n",
            "17         High  ...           NaN         4.179233                       5   \n",
            "18       Medium  ...   Summer Sale         7.359433                       5   \n",
            "\n",
            "    Average Cart Value  Total Spent Diff  Spending Rank  Rolling Return Rate  \\\n",
            "1               315.52             450.0            6.0                  NaN   \n",
            "4               298.68             100.0           15.0             4.259254   \n",
            "7               181.40            -550.0           20.0             3.748857   \n",
            "9               237.93             250.0            2.0             6.069533   \n",
            "12              223.24             110.0           11.5             5.961443   \n",
            "13              291.71             -80.0           14.0             4.949570   \n",
            "17              440.44             150.0            3.0             5.341021   \n",
            "18              225.66            -450.0           17.0             5.394401   \n",
            "\n",
            "    High Spender  Customer Tenure Quarter Customer Word Count  \n",
            "1            Yes                       Q3                   0  \n",
            "4             No                       Q3                   0  \n",
            "7             No                       Q1                   1  \n",
            "9            Yes                       Q1                   0  \n",
            "12            No                       Q2                   0  \n",
            "13            No                       Q1                   0  \n",
            "17           Yes                       Q2                   1  \n",
            "18            No                       Q2                   0  \n",
            "\n",
            "[8 rows x 22 columns]\n"
          ]
        }
      ]
    },
    {
      "cell_type": "code",
      "source": [
        "top_campaign_cart_value = df.groupby('Campaign')['Average Cart Value'].mean().idxmax()\n",
        "print(top_campaign_cart_value)"
      ],
      "metadata": {
        "colab": {
          "base_uri": "https://localhost:8080/"
        },
        "id": "TKXPfqd-4DIf",
        "outputId": "6ae385c0-433f-4464-eb08-dc3ccce29582"
      },
      "execution_count": 17,
      "outputs": [
        {
          "output_type": "stream",
          "name": "stdout",
          "text": [
            "Summer Sale\n"
          ]
        }
      ]
    },
    {
      "cell_type": "code",
      "source": [
        "from sklearn.linear_model import LogisticRegression\n",
        "from sklearn.model_selection import train_test_split\n",
        "from sklearn.metrics import accuracy_score\n",
        "\n",
        "\n",
        "features = ['Age', 'Total Spent', 'Discount Availed', 'Customer Tenure (Years)']\n",
        "X = df[features]\n",
        "y = df['Converted']\n",
        "\n",
        "X_train, X_test, y_train, y_test = train_test_split(X, y, test_size=0.2, random_state=42)\n",
        "\n",
        "logistic_model = LogisticRegression(max_iter=200)\n",
        "logistic_model.fit(X_train, y_train)\n",
        "\n",
        "y_pred = logistic_model.predict(X_test)\n",
        "accuracy = accuracy_score(y_test, y_pred)\n",
        "\n",
        "print(accuracy)"
      ],
      "metadata": {
        "colab": {
          "base_uri": "https://localhost:8080/"
        },
        "id": "2Uv21Ffx4H7Z",
        "outputId": "51c1195f-da3c-47f9-ce60-9fa25de3a2ff"
      },
      "execution_count": 24,
      "outputs": [
        {
          "output_type": "stream",
          "name": "stdout",
          "text": [
            "0.5\n"
          ]
        }
      ]
    }
  ]
}