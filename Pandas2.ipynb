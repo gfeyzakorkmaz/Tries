{
  "nbformat": 4,
  "nbformat_minor": 0,
  "metadata": {
    "colab": {
      "provenance": [],
      "mount_file_id": "1GJLN3yN5-i8dicF0kyp1Wa5yXCxkogqF",
      "authorship_tag": "ABX9TyOfNkhNceisbPXC6sjtVb7f",
      "include_colab_link": true
    },
    "kernelspec": {
      "name": "python3",
      "display_name": "Python 3"
    },
    "language_info": {
      "name": "python"
    }
  },
  "cells": [
    {
      "cell_type": "markdown",
      "metadata": {
        "id": "view-in-github",
        "colab_type": "text"
      },
      "source": [
        "<a href=\"https://colab.research.google.com/github/gfeyzakorkmaz/Tries/blob/main/Pandas2.ipynb\" target=\"_parent\"><img src=\"https://colab.research.google.com/assets/colab-badge.svg\" alt=\"Open In Colab\"/></a>"
      ]
    },
    {
      "cell_type": "code",
      "execution_count": 1,
      "metadata": {
        "id": "ZgnWc9_8WOrA"
      },
      "outputs": [],
      "source": [
        "import pandas as pd"
      ]
    },
    {
      "cell_type": "code",
      "source": [
        "path = '/content/drive/MyDrive/Dataset/complex_marketing_data_enriched.xlsx'\n",
        "\n",
        "df = pd.read_excel(path)\n",
        "df.head()"
      ],
      "metadata": {
        "colab": {
          "base_uri": "https://localhost:8080/",
          "height": 382
        },
        "id": "c7FaCFB1XrVn",
        "outputId": "14b33543-bdd8-4c22-b33e-15a2adbff581"
      },
      "execution_count": 6,
      "outputs": [
        {
          "output_type": "execute_result",
          "data": {
            "text/plain": [
              "   Customer ID  Age Gender  Total Spent  Converted  \\\n",
              "0            1   23      F          150          1   \n",
              "1            2   35      M          600          1   \n",
              "2            3   45      F          800          0   \n",
              "3            4   52      M          200          0   \n",
              "4            5   29      F          300          1   \n",
              "\n",
              "                        Comments Purchased Category  Stock Region  \\\n",
              "0     Satisfied with the service           Clothing      4   East   \n",
              "1  Needs improvement in delivery             Beauty     86   West   \n",
              "2               Regular customer              Books     24  North   \n",
              "3               Occasional buyer             Beauty     10   East   \n",
              "4                   High spender              Books     47   East   \n",
              "\n",
              "  Income Level  Discount Availed  Customer Tenure (Years)      Campaign  \\\n",
              "0       Medium                46                        4   Winter Sale   \n",
              "1          Low                61                       12   Summer Sale   \n",
              "2       Medium                50                       12  Black Friday   \n",
              "3       Medium                54                        7   Winter Sale   \n",
              "4       Medium                63                       12   Winter Sale   \n",
              "\n",
              "   Return Rate (%)  Website Visit Frequency  Average Cart Value  \n",
              "0         2.981829                        3              378.00  \n",
              "1         1.833412                        6              315.52  \n",
              "2         6.547401                        0              250.69  \n",
              "3         3.923717                        1              222.58  \n",
              "4         2.306644                        4              298.68  "
            ],
            "text/html": [
              "\n",
              "  <div id=\"df-11388f88-334a-4b4a-a25a-7279d789ea84\" class=\"colab-df-container\">\n",
              "    <div>\n",
              "<style scoped>\n",
              "    .dataframe tbody tr th:only-of-type {\n",
              "        vertical-align: middle;\n",
              "    }\n",
              "\n",
              "    .dataframe tbody tr th {\n",
              "        vertical-align: top;\n",
              "    }\n",
              "\n",
              "    .dataframe thead th {\n",
              "        text-align: right;\n",
              "    }\n",
              "</style>\n",
              "<table border=\"1\" class=\"dataframe\">\n",
              "  <thead>\n",
              "    <tr style=\"text-align: right;\">\n",
              "      <th></th>\n",
              "      <th>Customer ID</th>\n",
              "      <th>Age</th>\n",
              "      <th>Gender</th>\n",
              "      <th>Total Spent</th>\n",
              "      <th>Converted</th>\n",
              "      <th>Comments</th>\n",
              "      <th>Purchased Category</th>\n",
              "      <th>Stock</th>\n",
              "      <th>Region</th>\n",
              "      <th>Income Level</th>\n",
              "      <th>Discount Availed</th>\n",
              "      <th>Customer Tenure (Years)</th>\n",
              "      <th>Campaign</th>\n",
              "      <th>Return Rate (%)</th>\n",
              "      <th>Website Visit Frequency</th>\n",
              "      <th>Average Cart Value</th>\n",
              "    </tr>\n",
              "  </thead>\n",
              "  <tbody>\n",
              "    <tr>\n",
              "      <th>0</th>\n",
              "      <td>1</td>\n",
              "      <td>23</td>\n",
              "      <td>F</td>\n",
              "      <td>150</td>\n",
              "      <td>1</td>\n",
              "      <td>Satisfied with the service</td>\n",
              "      <td>Clothing</td>\n",
              "      <td>4</td>\n",
              "      <td>East</td>\n",
              "      <td>Medium</td>\n",
              "      <td>46</td>\n",
              "      <td>4</td>\n",
              "      <td>Winter Sale</td>\n",
              "      <td>2.981829</td>\n",
              "      <td>3</td>\n",
              "      <td>378.00</td>\n",
              "    </tr>\n",
              "    <tr>\n",
              "      <th>1</th>\n",
              "      <td>2</td>\n",
              "      <td>35</td>\n",
              "      <td>M</td>\n",
              "      <td>600</td>\n",
              "      <td>1</td>\n",
              "      <td>Needs improvement in delivery</td>\n",
              "      <td>Beauty</td>\n",
              "      <td>86</td>\n",
              "      <td>West</td>\n",
              "      <td>Low</td>\n",
              "      <td>61</td>\n",
              "      <td>12</td>\n",
              "      <td>Summer Sale</td>\n",
              "      <td>1.833412</td>\n",
              "      <td>6</td>\n",
              "      <td>315.52</td>\n",
              "    </tr>\n",
              "    <tr>\n",
              "      <th>2</th>\n",
              "      <td>3</td>\n",
              "      <td>45</td>\n",
              "      <td>F</td>\n",
              "      <td>800</td>\n",
              "      <td>0</td>\n",
              "      <td>Regular customer</td>\n",
              "      <td>Books</td>\n",
              "      <td>24</td>\n",
              "      <td>North</td>\n",
              "      <td>Medium</td>\n",
              "      <td>50</td>\n",
              "      <td>12</td>\n",
              "      <td>Black Friday</td>\n",
              "      <td>6.547401</td>\n",
              "      <td>0</td>\n",
              "      <td>250.69</td>\n",
              "    </tr>\n",
              "    <tr>\n",
              "      <th>3</th>\n",
              "      <td>4</td>\n",
              "      <td>52</td>\n",
              "      <td>M</td>\n",
              "      <td>200</td>\n",
              "      <td>0</td>\n",
              "      <td>Occasional buyer</td>\n",
              "      <td>Beauty</td>\n",
              "      <td>10</td>\n",
              "      <td>East</td>\n",
              "      <td>Medium</td>\n",
              "      <td>54</td>\n",
              "      <td>7</td>\n",
              "      <td>Winter Sale</td>\n",
              "      <td>3.923717</td>\n",
              "      <td>1</td>\n",
              "      <td>222.58</td>\n",
              "    </tr>\n",
              "    <tr>\n",
              "      <th>4</th>\n",
              "      <td>5</td>\n",
              "      <td>29</td>\n",
              "      <td>F</td>\n",
              "      <td>300</td>\n",
              "      <td>1</td>\n",
              "      <td>High spender</td>\n",
              "      <td>Books</td>\n",
              "      <td>47</td>\n",
              "      <td>East</td>\n",
              "      <td>Medium</td>\n",
              "      <td>63</td>\n",
              "      <td>12</td>\n",
              "      <td>Winter Sale</td>\n",
              "      <td>2.306644</td>\n",
              "      <td>4</td>\n",
              "      <td>298.68</td>\n",
              "    </tr>\n",
              "  </tbody>\n",
              "</table>\n",
              "</div>\n",
              "    <div class=\"colab-df-buttons\">\n",
              "\n",
              "  <div class=\"colab-df-container\">\n",
              "    <button class=\"colab-df-convert\" onclick=\"convertToInteractive('df-11388f88-334a-4b4a-a25a-7279d789ea84')\"\n",
              "            title=\"Convert this dataframe to an interactive table.\"\n",
              "            style=\"display:none;\">\n",
              "\n",
              "  <svg xmlns=\"http://www.w3.org/2000/svg\" height=\"24px\" viewBox=\"0 -960 960 960\">\n",
              "    <path d=\"M120-120v-720h720v720H120Zm60-500h600v-160H180v160Zm220 220h160v-160H400v160Zm0 220h160v-160H400v160ZM180-400h160v-160H180v160Zm440 0h160v-160H620v160ZM180-180h160v-160H180v160Zm440 0h160v-160H620v160Z\"/>\n",
              "  </svg>\n",
              "    </button>\n",
              "\n",
              "  <style>\n",
              "    .colab-df-container {\n",
              "      display:flex;\n",
              "      gap: 12px;\n",
              "    }\n",
              "\n",
              "    .colab-df-convert {\n",
              "      background-color: #E8F0FE;\n",
              "      border: none;\n",
              "      border-radius: 50%;\n",
              "      cursor: pointer;\n",
              "      display: none;\n",
              "      fill: #1967D2;\n",
              "      height: 32px;\n",
              "      padding: 0 0 0 0;\n",
              "      width: 32px;\n",
              "    }\n",
              "\n",
              "    .colab-df-convert:hover {\n",
              "      background-color: #E2EBFA;\n",
              "      box-shadow: 0px 1px 2px rgba(60, 64, 67, 0.3), 0px 1px 3px 1px rgba(60, 64, 67, 0.15);\n",
              "      fill: #174EA6;\n",
              "    }\n",
              "\n",
              "    .colab-df-buttons div {\n",
              "      margin-bottom: 4px;\n",
              "    }\n",
              "\n",
              "    [theme=dark] .colab-df-convert {\n",
              "      background-color: #3B4455;\n",
              "      fill: #D2E3FC;\n",
              "    }\n",
              "\n",
              "    [theme=dark] .colab-df-convert:hover {\n",
              "      background-color: #434B5C;\n",
              "      box-shadow: 0px 1px 3px 1px rgba(0, 0, 0, 0.15);\n",
              "      filter: drop-shadow(0px 1px 2px rgba(0, 0, 0, 0.3));\n",
              "      fill: #FFFFFF;\n",
              "    }\n",
              "  </style>\n",
              "\n",
              "    <script>\n",
              "      const buttonEl =\n",
              "        document.querySelector('#df-11388f88-334a-4b4a-a25a-7279d789ea84 button.colab-df-convert');\n",
              "      buttonEl.style.display =\n",
              "        google.colab.kernel.accessAllowed ? 'block' : 'none';\n",
              "\n",
              "      async function convertToInteractive(key) {\n",
              "        const element = document.querySelector('#df-11388f88-334a-4b4a-a25a-7279d789ea84');\n",
              "        const dataTable =\n",
              "          await google.colab.kernel.invokeFunction('convertToInteractive',\n",
              "                                                    [key], {});\n",
              "        if (!dataTable) return;\n",
              "\n",
              "        const docLinkHtml = 'Like what you see? Visit the ' +\n",
              "          '<a target=\"_blank\" href=https://colab.research.google.com/notebooks/data_table.ipynb>data table notebook</a>'\n",
              "          + ' to learn more about interactive tables.';\n",
              "        element.innerHTML = '';\n",
              "        dataTable['output_type'] = 'display_data';\n",
              "        await google.colab.output.renderOutput(dataTable, element);\n",
              "        const docLink = document.createElement('div');\n",
              "        docLink.innerHTML = docLinkHtml;\n",
              "        element.appendChild(docLink);\n",
              "      }\n",
              "    </script>\n",
              "  </div>\n",
              "\n",
              "\n",
              "<div id=\"df-61ab2e13-5294-4720-8af6-fa7d71f16142\">\n",
              "  <button class=\"colab-df-quickchart\" onclick=\"quickchart('df-61ab2e13-5294-4720-8af6-fa7d71f16142')\"\n",
              "            title=\"Suggest charts\"\n",
              "            style=\"display:none;\">\n",
              "\n",
              "<svg xmlns=\"http://www.w3.org/2000/svg\" height=\"24px\"viewBox=\"0 0 24 24\"\n",
              "     width=\"24px\">\n",
              "    <g>\n",
              "        <path d=\"M19 3H5c-1.1 0-2 .9-2 2v14c0 1.1.9 2 2 2h14c1.1 0 2-.9 2-2V5c0-1.1-.9-2-2-2zM9 17H7v-7h2v7zm4 0h-2V7h2v10zm4 0h-2v-4h2v4z\"/>\n",
              "    </g>\n",
              "</svg>\n",
              "  </button>\n",
              "\n",
              "<style>\n",
              "  .colab-df-quickchart {\n",
              "      --bg-color: #E8F0FE;\n",
              "      --fill-color: #1967D2;\n",
              "      --hover-bg-color: #E2EBFA;\n",
              "      --hover-fill-color: #174EA6;\n",
              "      --disabled-fill-color: #AAA;\n",
              "      --disabled-bg-color: #DDD;\n",
              "  }\n",
              "\n",
              "  [theme=dark] .colab-df-quickchart {\n",
              "      --bg-color: #3B4455;\n",
              "      --fill-color: #D2E3FC;\n",
              "      --hover-bg-color: #434B5C;\n",
              "      --hover-fill-color: #FFFFFF;\n",
              "      --disabled-bg-color: #3B4455;\n",
              "      --disabled-fill-color: #666;\n",
              "  }\n",
              "\n",
              "  .colab-df-quickchart {\n",
              "    background-color: var(--bg-color);\n",
              "    border: none;\n",
              "    border-radius: 50%;\n",
              "    cursor: pointer;\n",
              "    display: none;\n",
              "    fill: var(--fill-color);\n",
              "    height: 32px;\n",
              "    padding: 0;\n",
              "    width: 32px;\n",
              "  }\n",
              "\n",
              "  .colab-df-quickchart:hover {\n",
              "    background-color: var(--hover-bg-color);\n",
              "    box-shadow: 0 1px 2px rgba(60, 64, 67, 0.3), 0 1px 3px 1px rgba(60, 64, 67, 0.15);\n",
              "    fill: var(--button-hover-fill-color);\n",
              "  }\n",
              "\n",
              "  .colab-df-quickchart-complete:disabled,\n",
              "  .colab-df-quickchart-complete:disabled:hover {\n",
              "    background-color: var(--disabled-bg-color);\n",
              "    fill: var(--disabled-fill-color);\n",
              "    box-shadow: none;\n",
              "  }\n",
              "\n",
              "  .colab-df-spinner {\n",
              "    border: 2px solid var(--fill-color);\n",
              "    border-color: transparent;\n",
              "    border-bottom-color: var(--fill-color);\n",
              "    animation:\n",
              "      spin 1s steps(1) infinite;\n",
              "  }\n",
              "\n",
              "  @keyframes spin {\n",
              "    0% {\n",
              "      border-color: transparent;\n",
              "      border-bottom-color: var(--fill-color);\n",
              "      border-left-color: var(--fill-color);\n",
              "    }\n",
              "    20% {\n",
              "      border-color: transparent;\n",
              "      border-left-color: var(--fill-color);\n",
              "      border-top-color: var(--fill-color);\n",
              "    }\n",
              "    30% {\n",
              "      border-color: transparent;\n",
              "      border-left-color: var(--fill-color);\n",
              "      border-top-color: var(--fill-color);\n",
              "      border-right-color: var(--fill-color);\n",
              "    }\n",
              "    40% {\n",
              "      border-color: transparent;\n",
              "      border-right-color: var(--fill-color);\n",
              "      border-top-color: var(--fill-color);\n",
              "    }\n",
              "    60% {\n",
              "      border-color: transparent;\n",
              "      border-right-color: var(--fill-color);\n",
              "    }\n",
              "    80% {\n",
              "      border-color: transparent;\n",
              "      border-right-color: var(--fill-color);\n",
              "      border-bottom-color: var(--fill-color);\n",
              "    }\n",
              "    90% {\n",
              "      border-color: transparent;\n",
              "      border-bottom-color: var(--fill-color);\n",
              "    }\n",
              "  }\n",
              "</style>\n",
              "\n",
              "  <script>\n",
              "    async function quickchart(key) {\n",
              "      const quickchartButtonEl =\n",
              "        document.querySelector('#' + key + ' button');\n",
              "      quickchartButtonEl.disabled = true;  // To prevent multiple clicks.\n",
              "      quickchartButtonEl.classList.add('colab-df-spinner');\n",
              "      try {\n",
              "        const charts = await google.colab.kernel.invokeFunction(\n",
              "            'suggestCharts', [key], {});\n",
              "      } catch (error) {\n",
              "        console.error('Error during call to suggestCharts:', error);\n",
              "      }\n",
              "      quickchartButtonEl.classList.remove('colab-df-spinner');\n",
              "      quickchartButtonEl.classList.add('colab-df-quickchart-complete');\n",
              "    }\n",
              "    (() => {\n",
              "      let quickchartButtonEl =\n",
              "        document.querySelector('#df-61ab2e13-5294-4720-8af6-fa7d71f16142 button');\n",
              "      quickchartButtonEl.style.display =\n",
              "        google.colab.kernel.accessAllowed ? 'block' : 'none';\n",
              "    })();\n",
              "  </script>\n",
              "</div>\n",
              "\n",
              "    </div>\n",
              "  </div>\n"
            ],
            "application/vnd.google.colaboratory.intrinsic+json": {
              "type": "dataframe",
              "variable_name": "df",
              "summary": "{\n  \"name\": \"df\",\n  \"rows\": 20,\n  \"fields\": [\n    {\n      \"column\": \"Customer ID\",\n      \"properties\": {\n        \"dtype\": \"number\",\n        \"std\": 5,\n        \"min\": 1,\n        \"max\": 20,\n        \"num_unique_values\": 20,\n        \"samples\": [\n          1,\n          18,\n          16\n        ],\n        \"semantic_type\": \"\",\n        \"description\": \"\"\n      }\n    },\n    {\n      \"column\": \"Age\",\n      \"properties\": {\n        \"dtype\": \"number\",\n        \"std\": 9,\n        \"min\": 23,\n        \"max\": 52,\n        \"num_unique_values\": 18,\n        \"samples\": [\n          23,\n          35,\n          50\n        ],\n        \"semantic_type\": \"\",\n        \"description\": \"\"\n      }\n    },\n    {\n      \"column\": \"Gender\",\n      \"properties\": {\n        \"dtype\": \"category\",\n        \"num_unique_values\": 2,\n        \"samples\": [\n          \"M\",\n          \"F\"\n        ],\n        \"semantic_type\": \"\",\n        \"description\": \"\"\n      }\n    },\n    {\n      \"column\": \"Total Spent\",\n      \"properties\": {\n        \"dtype\": \"number\",\n        \"std\": 201,\n        \"min\": 120,\n        \"max\": 800,\n        \"num_unique_values\": 19,\n        \"samples\": [\n          150,\n          450\n        ],\n        \"semantic_type\": \"\",\n        \"description\": \"\"\n      }\n    },\n    {\n      \"column\": \"Converted\",\n      \"properties\": {\n        \"dtype\": \"number\",\n        \"std\": 0,\n        \"min\": 0,\n        \"max\": 1,\n        \"num_unique_values\": 2,\n        \"samples\": [\n          0,\n          1\n        ],\n        \"semantic_type\": \"\",\n        \"description\": \"\"\n      }\n    },\n    {\n      \"column\": \"Comments\",\n      \"properties\": {\n        \"dtype\": \"string\",\n        \"num_unique_values\": 20,\n        \"samples\": [\n          \"Satisfied with the service\",\n          \"Satisfied with customer service\"\n        ],\n        \"semantic_type\": \"\",\n        \"description\": \"\"\n      }\n    },\n    {\n      \"column\": \"Purchased Category\",\n      \"properties\": {\n        \"dtype\": \"category\",\n        \"num_unique_values\": 5,\n        \"samples\": [\n          \"Beauty\",\n          \"Electronics\"\n        ],\n        \"semantic_type\": \"\",\n        \"description\": \"\"\n      }\n    },\n    {\n      \"column\": \"Stock\",\n      \"properties\": {\n        \"dtype\": \"number\",\n        \"std\": 33,\n        \"min\": 0,\n        \"max\": 92,\n        \"num_unique_values\": 16,\n        \"samples\": [\n          4,\n          86\n        ],\n        \"semantic_type\": \"\",\n        \"description\": \"\"\n      }\n    },\n    {\n      \"column\": \"Region\",\n      \"properties\": {\n        \"dtype\": \"category\",\n        \"num_unique_values\": 4,\n        \"samples\": [\n          \"West\",\n          \"South\"\n        ],\n        \"semantic_type\": \"\",\n        \"description\": \"\"\n      }\n    },\n    {\n      \"column\": \"Income Level\",\n      \"properties\": {\n        \"dtype\": \"category\",\n        \"num_unique_values\": 3,\n        \"samples\": [\n          \"Medium\",\n          \"Low\"\n        ],\n        \"semantic_type\": \"\",\n        \"description\": \"\"\n      }\n    },\n    {\n      \"column\": \"Discount Availed\",\n      \"properties\": {\n        \"dtype\": \"number\",\n        \"std\": 28,\n        \"min\": 1,\n        \"max\": 89,\n        \"num_unique_values\": 19,\n        \"samples\": [\n          46,\n          2\n        ],\n        \"semantic_type\": \"\",\n        \"description\": \"\"\n      }\n    },\n    {\n      \"column\": \"Customer Tenure (Years)\",\n      \"properties\": {\n        \"dtype\": \"number\",\n        \"std\": 4,\n        \"min\": 1,\n        \"max\": 14,\n        \"num_unique_values\": 11,\n        \"samples\": [\n          3,\n          4\n        ],\n        \"semantic_type\": \"\",\n        \"description\": \"\"\n      }\n    },\n    {\n      \"column\": \"Campaign\",\n      \"properties\": {\n        \"dtype\": \"category\",\n        \"num_unique_values\": 3,\n        \"samples\": [\n          \"Winter Sale\",\n          \"Summer Sale\"\n        ],\n        \"semantic_type\": \"\",\n        \"description\": \"\"\n      }\n    },\n    {\n      \"column\": \"Return Rate (%)\",\n      \"properties\": {\n        \"dtype\": \"number\",\n        \"std\": 1.852821145922519,\n        \"min\": 1.833411572926225,\n        \"max\": 7.359432689401402,\n        \"num_unique_values\": 20,\n        \"samples\": [\n          2.981829314269785,\n          4.179233382627399\n        ],\n        \"semantic_type\": \"\",\n        \"description\": \"\"\n      }\n    },\n    {\n      \"column\": \"Website Visit Frequency\",\n      \"properties\": {\n        \"dtype\": \"number\",\n        \"std\": 1,\n        \"min\": 0,\n        \"max\": 7,\n        \"num_unique_values\": 8,\n        \"samples\": [\n          6,\n          7\n        ],\n        \"semantic_type\": \"\",\n        \"description\": \"\"\n      }\n    },\n    {\n      \"column\": \"Average Cart Value\",\n      \"properties\": {\n        \"dtype\": \"number\",\n        \"std\": 70.70752907688045,\n        \"min\": 158.28,\n        \"max\": 440.44,\n        \"num_unique_values\": 20,\n        \"samples\": [\n          378.0,\n          440.44\n        ],\n        \"semantic_type\": \"\",\n        \"description\": \"\"\n      }\n    }\n  ]\n}"
            }
          },
          "metadata": {},
          "execution_count": 6
        }
      ]
    },
    {
      "cell_type": "code",
      "source": [
        "category_spending = df.groupby('Purchased Category')['Total Spent'].sum()\n",
        "print(category_spending)\n"
      ],
      "metadata": {
        "colab": {
          "base_uri": "https://localhost:8080/"
        },
        "id": "RZzwuDNXXwl2",
        "outputId": "7410e362-6db4-4932-d5fa-c7b655c01f1e"
      },
      "execution_count": 7,
      "outputs": [
        {
          "output_type": "stream",
          "name": "stdout",
          "text": [
            "Purchased Category\n",
            "Beauty         1200\n",
            "Books          2350\n",
            "Clothing       1600\n",
            "Electronics    1680\n",
            "Home Goods     2090\n",
            "Name: Total Spent, dtype: int64\n"
          ]
        }
      ]
    },
    {
      "cell_type": "code",
      "source": [
        "income_analysis = df.groupby('Income Level')['Total Spent'].agg(['mean', 'sum', 'count'])\n",
        "print(income_analysis)\n"
      ],
      "metadata": {
        "colab": {
          "base_uri": "https://localhost:8080/"
        },
        "id": "mzzLfgkXZNFS",
        "outputId": "75dcad8e-97b1-46c7-a444-9ab0a0d0bc25"
      },
      "execution_count": 8,
      "outputs": [
        {
          "output_type": "stream",
          "name": "stdout",
          "text": [
            "                    mean   sum  count\n",
            "Income Level                         \n",
            "High          470.000000  1880      4\n",
            "Low           448.333333  2690      6\n",
            "Medium        435.000000  4350     10\n"
          ]
        }
      ]
    },
    {
      "cell_type": "code",
      "source": [
        "improvement_comments = df[df['Comments'].str.contains('improvement', case=False)]\n",
        "print(improvement_comments)\n"
      ],
      "metadata": {
        "colab": {
          "base_uri": "https://localhost:8080/"
        },
        "id": "eBXBDHvNZgAj",
        "outputId": "9928dff6-89a4-42df-ddb9-df1b5d89f71e"
      },
      "execution_count": 9,
      "outputs": [
        {
          "output_type": "stream",
          "name": "stdout",
          "text": [
            "   Customer ID  Age Gender  Total Spent  Converted  \\\n",
            "1            2   35      M          600          1   \n",
            "\n",
            "                        Comments Purchased Category  Stock Region  \\\n",
            "1  Needs improvement in delivery             Beauty     86   West   \n",
            "\n",
            "  Income Level  Discount Availed  Customer Tenure (Years)     Campaign  \\\n",
            "1          Low                61                       12  Summer Sale   \n",
            "\n",
            "   Return Rate (%)  Website Visit Frequency  Average Cart Value  \n",
            "1         1.833412                        6              315.52  \n"
          ]
        }
      ]
    },
    {
      "cell_type": "code",
      "source": [
        "df['Value Score'] = df['Total Spent'] * (1 + (df['Discount Availed'] / 100))\n",
        "top_customers = df.nlargest(10, 'Value Score')\n",
        "print(top_customers)\n"
      ],
      "metadata": {
        "colab": {
          "base_uri": "https://localhost:8080/"
        },
        "id": "o_MzxsySZkWM",
        "outputId": "d8c9fd25-b153-423f-8557-84fbd579c065"
      },
      "execution_count": 10,
      "outputs": [
        {
          "output_type": "stream",
          "name": "stdout",
          "text": [
            "    Customer ID  Age Gender  Total Spent  Converted  \\\n",
            "17           18   35      M          700          1   \n",
            "9            10   33      M          750          1   \n",
            "2             3   45      F          800          0   \n",
            "6             7   38      F          670          1   \n",
            "1             2   35      M          600          1   \n",
            "10           11   40      F          610          1   \n",
            "14           15   36      F          510          1   \n",
            "13           14   32      M          320          0   \n",
            "8             9   50      F          500          0   \n",
            "16           17   42      F          550          0   \n",
            "\n",
            "                           Comments Purchased Category  Stock Region  \\\n",
            "17  Satisfied with customer service           Clothing     87   West   \n",
            "9              High conversion rate           Clothing     45  South   \n",
            "2                  Regular customer              Books     24  North   \n",
            "6           Prefers online shopping         Home Goods     69  North   \n",
            "1     Needs improvement in delivery             Beauty     86   West   \n",
            "10                   Low engagement         Home Goods     68   East   \n",
            "14                 Enjoys discounts        Electronics     55   West   \n",
            "13             Unhappy with returns        Electronics     85   East   \n",
            "8                Loyal to the brand        Electronics     86   East   \n",
            "16           Needs more information              Books     92   West   \n",
            "\n",
            "   Income Level  Discount Availed  Customer Tenure (Years)      Campaign  \\\n",
            "17         High                89                        6           NaN   \n",
            "9        Medium                72                        1           NaN   \n",
            "2        Medium                50                       12  Black Friday   \n",
            "6           Low                50                        8   Winter Sale   \n",
            "1           Low                61                       12   Summer Sale   \n",
            "10          Low                38                        4   Winter Sale   \n",
            "14         High                59                        2           NaN   \n",
            "13         High                88                        4  Black Friday   \n",
            "8        Medium                20                       14   Winter Sale   \n",
            "16       Medium                 8                        6  Black Friday   \n",
            "\n",
            "    Return Rate (%)  Website Visit Frequency  Average Cart Value  Value Score  \n",
            "17         4.179233                        5              440.44       1323.0  \n",
            "9          6.775497                        4              237.93       1290.0  \n",
            "2          6.547401                        0              250.69       1200.0  \n",
            "6          2.738895                        1              290.23       1005.0  \n",
            "1          1.833412                        6              315.52        966.0  \n",
            "10         6.788665                        2              220.88        841.8  \n",
            "14         1.983693                        1              328.29        810.9  \n",
            "13         3.753045                        4              291.71        601.6  \n",
            "8          6.164246                        3              296.54        600.0  \n",
            "16         4.644536                        3              352.29        594.0  \n"
          ]
        }
      ]
    },
    {
      "cell_type": "code",
      "source": [
        "campaign_performance = df.groupby('Campaign')['Converted'].mean()\n",
        "print(campaign_performance)\n"
      ],
      "metadata": {
        "colab": {
          "base_uri": "https://localhost:8080/"
        },
        "id": "EzHwk7rgZpUc",
        "outputId": "95bc8d0d-8949-4f48-e2f5-ee20b2ce2865"
      },
      "execution_count": 11,
      "outputs": [
        {
          "output_type": "stream",
          "name": "stdout",
          "text": [
            "Campaign\n",
            "Black Friday    0.000000\n",
            "Summer Sale     0.500000\n",
            "Winter Sale     0.777778\n",
            "Name: Converted, dtype: float64\n"
          ]
        }
      ]
    },
    {
      "cell_type": "code",
      "source": [
        "region_returns = df.groupby('Region')['Return Rate (%)'].mean()\n",
        "print(region_returns)\n"
      ],
      "metadata": {
        "colab": {
          "base_uri": "https://localhost:8080/"
        },
        "id": "xyiUylo1Zr9F",
        "outputId": "6086a068-ee98-47a4-e5ae-495fc7a40525"
      },
      "execution_count": 12,
      "outputs": [
        {
          "output_type": "stream",
          "name": "stdout",
          "text": [
            "Region\n",
            "East     4.468599\n",
            "North    5.438612\n",
            "South    6.775497\n",
            "West     3.873187\n",
            "Name: Return Rate (%), dtype: float64\n"
          ]
        }
      ]
    },
    {
      "cell_type": "code",
      "source": [
        "import matplotlib.pyplot as plt\n",
        "\n",
        "age_spending = df.groupby('Age')['Total Spent'].mean()\n",
        "age_spending.plot(title='Average Spending by Age', xlabel='Age', ylabel='Average Spending')\n",
        "plt.show()\n"
      ],
      "metadata": {
        "colab": {
          "base_uri": "https://localhost:8080/",
          "height": 472
        },
        "id": "T68RwrZ0Zt3K",
        "outputId": "a9e49f33-c066-484c-8c23-2a527cbe5342"
      },
      "execution_count": 13,
      "outputs": [
        {
          "output_type": "display_data",
          "data": {
            "text/plain": [
              "<Figure size 640x480 with 1 Axes>"
            ],
            "image/png": "[encoded data removed]"
          },
          "metadata": {}
        }
      ]
    },
    {
      "cell_type": "code",
      "source": [
        "loyalty_analysis = df.groupby('Customer Tenure (Years)')['Total Spent'].mean()\n",
        "print(loyalty_analysis)\n"
      ],
      "metadata": {
        "colab": {
          "base_uri": "https://localhost:8080/"
        },
        "id": "9Od98bPiZvzD",
        "outputId": "a83130b2-d9af-481f-d050-1bdc9395745a"
      },
      "execution_count": 14,
      "outputs": [
        {
          "output_type": "stream",
          "name": "stdout",
          "text": [
            "Customer Tenure (Years)\n",
            "1     750.000000\n",
            "2     400.000000\n",
            "3     120.000000\n",
            "4     370.000000\n",
            "6     625.000000\n",
            "7     200.000000\n",
            "8     535.000000\n",
            "10    250.000000\n",
            "12    566.666667\n",
            "13    450.000000\n",
            "14    425.000000\n",
            "Name: Total Spent, dtype: float64\n"
          ]
        }
      ]
    },
    {
      "cell_type": "code",
      "source": [
        "visit_cart_correlation = df[['Website Visit Frequency', 'Average Cart Value']].corr()\n",
        "print(visit_cart_correlation)\n"
      ],
      "metadata": {
        "colab": {
          "base_uri": "https://localhost:8080/"
        },
        "id": "11sQ3u61ZxoW",
        "outputId": "33e6a657-94f0-4207-9d5c-c358625d515b"
      },
      "execution_count": 15,
      "outputs": [
        {
          "output_type": "stream",
          "name": "stdout",
          "text": [
            "                         Website Visit Frequency  Average Cart Value\n",
            "Website Visit Frequency                 1.000000            0.082099\n",
            "Average Cart Value                      0.082099            1.000000\n"
          ]
        }
      ]
    },
    {
      "cell_type": "code",
      "source": [
        "low_stock_categories = df.groupby('Purchased Category')['Stock'].mean().nsmallest(5)\n",
        "print(low_stock_categories)\n"
      ],
      "metadata": {
        "colab": {
          "base_uri": "https://localhost:8080/"
        },
        "id": "LmsP1Ut9ZzTg",
        "outputId": "15b6e6e4-57f4-49fe-b3a2-555345abd982"
      },
      "execution_count": 17,
      "outputs": [
        {
          "output_type": "stream",
          "name": "stdout",
          "text": [
            "Purchased Category\n",
            "Beauty         32.000000\n",
            "Clothing       45.333333\n",
            "Home Goods     48.600000\n",
            "Books          54.000000\n",
            "Electronics    59.750000\n",
            "Name: Stock, dtype: float64\n"
          ]
        }
      ]
    }
  ]
}