{
  "nbformat": 4,
  "nbformat_minor": 0,
  "metadata": {
    "colab": {
      "provenance": [],
      "mount_file_id": "1M0CI2zlizj3NXu6iDFrBSK-KeVVRvWZO",
      "authorship_tag": "ABX9TyMUF189r8IC9vu1d6nUgD+s",
      "include_colab_link": true
    },
    "kernelspec": {
      "name": "python3",
      "display_name": "Python 3"
    },
    "language_info": {
      "name": "python"
    }
  },
  "cells": [
    {
      "cell_type": "markdown",
      "metadata": {
        "id": "view-in-github",
        "colab_type": "text"
      },
      "source": [
        "<a href=\"https://colab.research.google.com/github/gfeyzakorkmaz/Tries/blob/main/conversion.ipynb\" target=\"_parent\"><img src=\"https://colab.research.google.com/assets/colab-badge.svg\" alt=\"Open In Colab\"/></a>"
      ]
    },
    {
      "cell_type": "code",
      "execution_count": 22,
      "metadata": {
        "id": "5t0P5OfzVTXA"
      },
      "outputs": [],
      "source": [
        "import pandas as pd\n",
        "\n",
        "path = '/content/drive/MyDrive/Dataset/Superstore 2018 2021.csv'\n",
        "\n",
        "df = pd.read_csv(path)\n",
        "\n",
        "df['Sales'] = df['Sales'].str.replace('[\\$,]', '', regex=True).astype(float)\n",
        "\n",
        "df['Order Date'] = pd.to_datetime(df['Order Date'], format='%m/%d/%Y')\n",
        "\n",
        "df['Category'] = df['Category'].str.lower().str.strip()\n",
        "\n",
        "df = df.convert_dtypes()"
      ]
    }
  ]
}