{
  "nbformat": 4,
  "nbformat_minor": 0,
  "metadata": {
    "colab": {
      "provenance": [],
      "mount_file_id": "18fS-XJ7VPaNV0GdUeBEcAGo73zWbgnZY",
      "authorship_tag": "ABX9TyPT6hX+mOcqpmk51TUJx1YT",
      "include_colab_link": true
    },
    "kernelspec": {
      "name": "python3",
      "display_name": "Python 3"
    },
    "language_info": {
      "name": "python"
    }
  },
  "cells": [
    {
      "cell_type": "markdown",
      "metadata": {
        "id": "view-in-github",
        "colab_type": "text"
      },
      "source": [
        "<a href=\"https://colab.research.google.com/github/gfeyzakorkmaz/Tries/blob/main/Pandas5.ipynb\" target=\"_parent\"><img src=\"https://colab.research.google.com/assets/colab-badge.svg\" alt=\"Open In Colab\"/></a>"
      ]
    },
    {
      "cell_type": "code",
      "execution_count": 1,
      "metadata": {
        "id": "gOhDHlFTE3A4"
      },
      "outputs": [],
      "source": [
        "import pandas as pd"
      ]
    },
    {
      "cell_type": "code",
      "source": [
        "from google.colab import drive\n",
        "drive.mount('/content/drive')"
      ],
      "metadata": {
        "colab": {
          "base_uri": "https://localhost:8080/"
        },
        "id": "_LEQUUynHCgQ",
        "outputId": "49a33ba9-d245-44ac-e594-04b35ceb1045"
      },
      "execution_count": 2,
      "outputs": [
        {
          "output_type": "stream",
          "name": "stdout",
          "text": [
            "Mounted at /content/drive\n"
          ]
        }
      ]
    },
    {
      "cell_type": "code",
      "source": [
        "path = '/content/drive/MyDrive/Dataset/complex_marketing_data_enriched.xlsx'"
      ],
      "metadata": {
        "id": "M9rfJv4iHQ1R"
      },
      "execution_count": 3,
      "outputs": []
    },
    {
      "cell_type": "code",
      "source": [
        "df = pd.read_excel(path)"
      ],
      "metadata": {
        "id": "kr3YXSd3HTOP"
      },
      "execution_count": 4,
      "outputs": []
    },
    {
      "cell_type": "code",
      "source": [
        "df['Total Spent Diff'] = df['Total Spent'].diff()\n",
        "print(\"1. Difference in Total Spent:\\n\", df[['Customer ID', 'Total Spent', 'Total Spent Diff']])"
      ],
      "metadata": {
        "colab": {
          "base_uri": "https://localhost:8080/"
        },
        "id": "wY9V9HG1HepR",
        "outputId": "e074c528-2b76-44b2-8608-acda0b264fa3"
      },
      "execution_count": 5,
      "outputs": [
        {
          "output_type": "stream",
          "name": "stdout",
          "text": [
            "1. Difference in Total Spent:\n",
            "     Customer ID  Total Spent  Total Spent Diff\n",
            "0             1          150               NaN\n",
            "1             2          600             450.0\n",
            "2             3          800             200.0\n",
            "3             4          200            -600.0\n",
            "4             5          300             100.0\n",
            "5             6          450             150.0\n",
            "6             7          670             220.0\n",
            "7             8          120            -550.0\n",
            "8             9          500             380.0\n",
            "9            10          750             250.0\n",
            "10           11          610            -140.0\n",
            "11           12          290            -320.0\n",
            "12           13          400             110.0\n",
            "13           14          320             -80.0\n",
            "14           15          510             190.0\n",
            "15           16          350            -160.0\n",
            "16           17          550             200.0\n",
            "17           18          700             150.0\n",
            "18           19          250            -450.0\n",
            "19           20          400             150.0\n"
          ]
        }
      ]
    },
    {
      "cell_type": "code",
      "source": [
        "df['Spending Rank'] = df['Total Spent'].rank(ascending=False)\n",
        "print(\"\\n2. Spending Rank:\\n\", df[['Customer ID', 'Total Spent', 'Spending Rank']])"
      ],
      "metadata": {
        "colab": {
          "base_uri": "https://localhost:8080/"
        },
        "id": "l7pm0jWvHkxe",
        "outputId": "2fa603c3-585f-41a3-dacf-f13d93e9448c"
      },
      "execution_count": 6,
      "outputs": [
        {
          "output_type": "stream",
          "name": "stdout",
          "text": [
            "\n",
            "2. Spending Rank:\n",
            "     Customer ID  Total Spent  Spending Rank\n",
            "0             1          150           19.0\n",
            "1             2          600            6.0\n",
            "2             3          800            1.0\n",
            "3             4          200           18.0\n",
            "4             5          300           15.0\n",
            "5             6          450           10.0\n",
            "6             7          670            4.0\n",
            "7             8          120           20.0\n",
            "8             9          500            9.0\n",
            "9            10          750            2.0\n",
            "10           11          610            5.0\n",
            "11           12          290           16.0\n",
            "12           13          400           11.5\n",
            "13           14          320           14.0\n",
            "14           15          510            8.0\n",
            "15           16          350           13.0\n",
            "16           17          550            7.0\n",
            "17           18          700            3.0\n",
            "18           19          250           17.0\n",
            "19           20          400           11.5\n"
          ]
        }
      ]
    },
    {
      "cell_type": "code",
      "source": [
        "df['Rolling Return Rate'] = df['Return Rate (%)'].rolling(window=3).mean()\n",
        "print(\"\\n3. Rolling Mean of Return Rate:\\n\", df[['Customer ID', 'Return Rate (%)', 'Rolling Return Rate']])"
      ],
      "metadata": {
        "colab": {
          "base_uri": "https://localhost:8080/"
        },
        "id": "xZSmK-PpHmc0",
        "outputId": "b3079f66-c5c0-4516-85bd-2e1ca7e0708c"
      },
      "execution_count": 7,
      "outputs": [
        {
          "output_type": "stream",
          "name": "stdout",
          "text": [
            "\n",
            "3. Rolling Mean of Return Rate:\n",
            "     Customer ID  Return Rate (%)  Rolling Return Rate\n",
            "0             1         2.981829                  NaN\n",
            "1             2         1.833412                  NaN\n",
            "2             3         6.547401             3.787547\n",
            "3             4         3.923717             4.101510\n",
            "4             5         2.306644             4.259254\n",
            "5             6         3.238817             3.156393\n",
            "6             7         2.738895             2.761452\n",
            "7             8         5.268858             3.748857\n",
            "8             9         6.164246             4.724000\n",
            "9            10         6.775497             6.069533\n",
            "10           11         6.788665             6.576136\n",
            "11           12         6.509996             6.691386\n",
            "12           13         4.585668             5.961443\n",
            "13           14         3.753045             4.949570\n",
            "14           15         1.983693             3.440802\n",
            "15           16         7.199294             4.312011\n",
            "16           17         4.644536             4.609174\n",
            "17           18         4.179233             5.341021\n",
            "18           19         7.359433             5.394401\n",
            "19           20         3.203584             4.914083\n"
          ]
        }
      ]
    },
    {
      "cell_type": "code",
      "source": [
        "converted_medium_income = df[(df['Converted'] == 1) & (df['Income Level'] == 'Medium')]\n",
        "print(\"\\n4. Filtered Data (Converted & Medium Income):\\n\", converted_medium_income)"
      ],
      "metadata": {
        "colab": {
          "base_uri": "https://localhost:8080/"
        },
        "id": "nW_tyO0cHqey",
        "outputId": "148c784b-6d58-406d-9be2-34d5958feeb6"
      },
      "execution_count": 8,
      "outputs": [
        {
          "output_type": "stream",
          "name": "stdout",
          "text": [
            "\n",
            "4. Filtered Data (Converted & Medium Income):\n",
            "     Customer ID  Age Gender  Total Spent  Converted  \\\n",
            "0             1   23      F          150          1   \n",
            "4             5   29      F          300          1   \n",
            "9            10   33      M          750          1   \n",
            "19           20   25      F          400          1   \n",
            "\n",
            "                      Comments Purchased Category  Stock Region Income Level  \\\n",
            "0   Satisfied with the service           Clothing      4   East       Medium   \n",
            "4                 High spender              Books     47   East       Medium   \n",
            "9         High conversion rate           Clothing     45  South       Medium   \n",
            "19            Likes the design         Home Goods     68   East       Medium   \n",
            "\n",
            "    Discount Availed  Customer Tenure (Years)     Campaign  Return Rate (%)  \\\n",
            "0                 46                        4  Winter Sale         2.981829   \n",
            "4                 63                       12  Winter Sale         2.306644   \n",
            "9                 72                        1          NaN         6.775497   \n",
            "19                 1                        4  Winter Sale         3.203584   \n",
            "\n",
            "    Website Visit Frequency  Average Cart Value  Total Spent Diff  \\\n",
            "0                         3              378.00               NaN   \n",
            "4                         4              298.68             100.0   \n",
            "9                         4              237.93             250.0   \n",
            "19                        3              234.56             150.0   \n",
            "\n",
            "    Spending Rank  Rolling Return Rate  \n",
            "0            19.0                  NaN  \n",
            "4            15.0             4.259254  \n",
            "9             2.0             6.069533  \n",
            "19           11.5             4.914083  \n"
          ]
        }
      ]
    },
    {
      "cell_type": "code",
      "source": [
        "df['High Spender'] = df['Total Spent'].apply(lambda x: 'Yes' if x > 500 else 'No')\n",
        "print(\"\\n5. High Spender Column:\\n\", df[['Customer ID', 'Total Spent', 'High Spender']])"
      ],
      "metadata": {
        "colab": {
          "base_uri": "https://localhost:8080/"
        },
        "id": "a1sYz5KPHtkX",
        "outputId": "ec3a05d9-e6a6-44a8-a748-d7453c2bf09f"
      },
      "execution_count": 9,
      "outputs": [
        {
          "output_type": "stream",
          "name": "stdout",
          "text": [
            "\n",
            "5. High Spender Column:\n",
            "     Customer ID  Total Spent High Spender\n",
            "0             1          150           No\n",
            "1             2          600          Yes\n",
            "2             3          800          Yes\n",
            "3             4          200           No\n",
            "4             5          300           No\n",
            "5             6          450           No\n",
            "6             7          670          Yes\n",
            "7             8          120           No\n",
            "8             9          500           No\n",
            "9            10          750          Yes\n",
            "10           11          610          Yes\n",
            "11           12          290           No\n",
            "12           13          400           No\n",
            "13           14          320           No\n",
            "14           15          510          Yes\n",
            "15           16          350           No\n",
            "16           17          550          Yes\n",
            "17           18          700          Yes\n",
            "18           19          250           No\n",
            "19           20          400           No\n"
          ]
        }
      ]
    },
    {
      "cell_type": "code",
      "source": [
        "region_stats = df.groupby('Region')[['Total Spent', 'Discount Availed']].mean()\n",
        "print(\"\\n6. Region Statistics:\\n\", region_stats)"
      ],
      "metadata": {
        "colab": {
          "base_uri": "https://localhost:8080/"
        },
        "id": "FTOuB5poHxq-",
        "outputId": "056724e1-e9d8-45c2-9010-ff2419a2e991"
      },
      "execution_count": 10,
      "outputs": [
        {
          "output_type": "stream",
          "name": "stdout",
          "text": [
            "\n",
            "6. Region Statistics:\n",
            "         Total Spent  Discount Availed\n",
            "Region                               \n",
            "East     352.222222         36.666667\n",
            "North    485.000000         29.750000\n",
            "South    750.000000         72.000000\n",
            "West     510.000000         45.166667\n"
          ]
        }
      ]
    },
    {
      "cell_type": "code",
      "source": [
        "pivot = df.pivot_table(values='Total Spent', index='Gender', columns='Region', aggfunc='mean')\n",
        "print(\"\\n7. Pivot Table (Average Spending by Gender & Region):\\n\", pivot)"
      ],
      "metadata": {
        "colab": {
          "base_uri": "https://localhost:8080/"
        },
        "id": "wu0HCh6aH7Po",
        "outputId": "6c2cd656-c1ad-4998-b01c-9e65b4fa96dc"
      },
      "execution_count": 11,
      "outputs": [
        {
          "output_type": "stream",
          "name": "stdout",
          "text": [
            "\n",
            "7. Pivot Table (Average Spending by Gender & Region):\n",
            " Region        East  North  South        West\n",
            "Gender                                      \n",
            "F       393.333333  735.0    NaN  436.666667\n",
            "M       270.000000  235.0  750.0  583.333333\n"
          ]
        }
      ]
    },
    {
      "cell_type": "code",
      "source": [
        "df['Customer Tenure Quarter'] = pd.cut(df['Customer Tenure (Years)'], bins=[0, 5, 10, 15], labels=['Q1', 'Q2', 'Q3'])\n",
        "print(\"\\n8. Customer Tenure Quarter:\\n\", df[['Customer ID', 'Customer Tenure (Years)', 'Customer Tenure Quarter']])"
      ],
      "metadata": {
        "colab": {
          "base_uri": "https://localhost:8080/"
        },
        "id": "Lz4XUnZNH-ol",
        "outputId": "7d3570b3-b1cb-4e1a-f167-65793f70ecce"
      },
      "execution_count": 12,
      "outputs": [
        {
          "output_type": "stream",
          "name": "stdout",
          "text": [
            "\n",
            "8. Customer Tenure Quarter:\n",
            "     Customer ID  Customer Tenure (Years) Customer Tenure Quarter\n",
            "0             1                        4                      Q1\n",
            "1             2                       12                      Q3\n",
            "2             3                       12                      Q3\n",
            "3             4                        7                      Q2\n",
            "4             5                       12                      Q3\n",
            "5             6                       13                      Q3\n",
            "6             7                        8                      Q2\n",
            "7             8                        3                      Q1\n",
            "8             9                       14                      Q3\n",
            "9            10                        1                      Q1\n",
            "10           11                        4                      Q1\n",
            "11           12                        2                      Q1\n",
            "12           13                        8                      Q2\n",
            "13           14                        4                      Q1\n",
            "14           15                        2                      Q1\n",
            "15           16                       14                      Q3\n",
            "16           17                        6                      Q2\n",
            "17           18                        6                      Q2\n",
            "18           19                       10                      Q2\n",
            "19           20                        4                      Q1\n"
          ]
        }
      ]
    },
    {
      "cell_type": "code",
      "source": [
        "df['Customer Word Count'] = df['Comments'].str.lower().str.count('customer')\n",
        "print(\"\\n9. Word Count for 'customer':\\n\", df[['Customer ID', 'Comments', 'Customer Word Count']])"
      ],
      "metadata": {
        "colab": {
          "base_uri": "https://localhost:8080/"
        },
        "id": "HM8Tr_YZIC60",
        "outputId": "d53205dd-5b31-49ee-888d-9f4f81bb86f1"
      },
      "execution_count": 13,
      "outputs": [
        {
          "output_type": "stream",
          "name": "stdout",
          "text": [
            "\n",
            "9. Word Count for 'customer':\n",
            "     Customer ID                         Comments  Customer Word Count\n",
            "0             1       Satisfied with the service                    0\n",
            "1             2    Needs improvement in delivery                    0\n",
            "2             3                 Regular customer                    1\n",
            "3             4                 Occasional buyer                    0\n",
            "4             5                     High spender                    0\n",
            "5             6               Average experience                    0\n",
            "6             7          Prefers online shopping                    0\n",
            "7             8                     New customer                    1\n",
            "8             9               Loyal to the brand                    0\n",
            "9            10             High conversion rate                    0\n",
            "10           11                   Low engagement                    0\n",
            "11           12   Satisfied with product quality                    0\n",
            "12           13                 Frequent shopper                    0\n",
            "13           14             Unhappy with returns                    0\n",
            "14           15                 Enjoys discounts                    0\n",
            "15           16               Enjoys the product                    0\n",
            "16           17           Needs more information                    0\n",
            "17           18  Satisfied with customer service                    1\n",
            "18           19                   Not interested                    0\n",
            "19           20                 Likes the design                    0\n"
          ]
        }
      ]
    },
    {
      "cell_type": "code",
      "source": [
        "output_path = path\n",
        "df.to_excel(output_path, index=False)\n",
        "print(\"\\n10. Data saved to:\", output_path)"
      ],
      "metadata": {
        "colab": {
          "base_uri": "https://localhost:8080/"
        },
        "id": "Mygk8KAEIFae",
        "outputId": "deabd328-f7a9-4949-ebbe-28d040ef6606"
      },
      "execution_count": 17,
      "outputs": [
        {
          "output_type": "stream",
          "name": "stdout",
          "text": [
            "\n",
            "10. Data saved to: /content/drive/MyDrive/Dataset/complex_marketing_data_enriched.xlsx\n"
          ]
        }
      ]
    },
    {
      "cell_type": "code",
      "source": [
        "df['Purchased Category'] = df['Purchased Category'].fillna('Unknown')\n",
        "print(\"\\n11. Filled Missing Values in 'Purchased Category':\\n\", df[['Customer ID', 'Purchased Category']])"
      ],
      "metadata": {
        "colab": {
          "base_uri": "https://localhost:8080/"
        },
        "id": "7h0FHA8gIZ5l",
        "outputId": "dbaea44c-1b5a-4435-a4d9-12b5a05a2b8a"
      },
      "execution_count": 18,
      "outputs": [
        {
          "output_type": "stream",
          "name": "stdout",
          "text": [
            "\n",
            "11. Filled Missing Values in 'Purchased Category':\n",
            "     Customer ID Purchased Category\n",
            "0             1           Clothing\n",
            "1             2             Beauty\n",
            "2             3              Books\n",
            "3             4             Beauty\n",
            "4             5              Books\n",
            "5             6              Books\n",
            "6             7         Home Goods\n",
            "7             8         Home Goods\n",
            "8             9        Electronics\n",
            "9            10           Clothing\n",
            "10           11         Home Goods\n",
            "11           12         Home Goods\n",
            "12           13             Beauty\n",
            "13           14        Electronics\n",
            "14           15        Electronics\n",
            "15           16        Electronics\n",
            "16           17              Books\n",
            "17           18           Clothing\n",
            "18           19              Books\n",
            "19           20         Home Goods\n"
          ]
        }
      ]
    },
    {
      "cell_type": "code",
      "source": [
        "campaign_counts = df['Campaign'].value_counts()\n",
        "print(\"\\n12. Campaign Counts:\\n\", campaign_counts)"
      ],
      "metadata": {
        "colab": {
          "base_uri": "https://localhost:8080/"
        },
        "id": "utOWW_WXIcn5",
        "outputId": "6f452a27-95b5-4f49-9eca-93a1ff808db3"
      },
      "execution_count": 19,
      "outputs": [
        {
          "output_type": "stream",
          "name": "stdout",
          "text": [
            "\n",
            "12. Campaign Counts:\n",
            " Campaign\n",
            "Winter Sale     9\n",
            "Black Friday    4\n",
            "Summer Sale     2\n",
            "Name: count, dtype: int64\n"
          ]
        }
      ]
    },
    {
      "cell_type": "code",
      "source": [
        "ratings_df = pd.DataFrame({\n",
        "    'Customer ID': [1, 2, 3, 4, 5],\n",
        "    'Rating': [4.5, 3.0, 4.0, 2.5, 5.0]\n",
        "    })\n",
        "df = pd.merge(df, ratings_df, on='Customer ID', how='left')\n",
        "print(\"\\n13. Merged DataFrame with Ratings:\\n\", df[['Customer ID', 'Rating']])"
      ],
      "metadata": {
        "colab": {
          "base_uri": "https://localhost:8080/"
        },
        "id": "IgBILJo_Ie2t",
        "outputId": "36c184f2-0d2d-456d-d620-2a5f2bf10076"
      },
      "execution_count": 21,
      "outputs": [
        {
          "output_type": "stream",
          "name": "stdout",
          "text": [
            "\n",
            "13. Merged DataFrame with Ratings:\n",
            "     Customer ID  Rating\n",
            "0             1     4.5\n",
            "1             2     3.0\n",
            "2             3     4.0\n",
            "3             4     2.5\n",
            "4             5     5.0\n",
            "5             6     NaN\n",
            "6             7     NaN\n",
            "7             8     NaN\n",
            "8             9     NaN\n",
            "9            10     NaN\n",
            "10           11     NaN\n",
            "11           12     NaN\n",
            "12           13     NaN\n",
            "13           14     NaN\n",
            "14           15     NaN\n",
            "15           16     NaN\n",
            "16           17     NaN\n",
            "17           18     NaN\n",
            "18           19     NaN\n",
            "19           20     NaN\n"
          ]
        }
      ]
    },
    {
      "cell_type": "code",
      "source": [
        "campaign_gender_spending = df.groupby(['Campaign', 'Gender'])['Total Spent'].sum()\n",
        "print(\"\\n14. Spending by Campaign and Gender:\\n\", campaign_gender_spending)"
      ],
      "metadata": {
        "colab": {
          "base_uri": "https://localhost:8080/"
        },
        "id": "TD39ogIKIor5",
        "outputId": "50ccb599-6d02-48c3-8a05-fff033a597f0"
      },
      "execution_count": 22,
      "outputs": [
        {
          "output_type": "stream",
          "name": "stdout",
          "text": [
            "\n",
            "14. Spending by Campaign and Gender:\n",
            " Campaign      Gender\n",
            "Black Friday  F         1350\n",
            "              M          610\n",
            "Summer Sale   F          250\n",
            "              M          600\n",
            "Winter Sale   F         2630\n",
            "              M          670\n",
            "Name: Total Spent, dtype: int64\n"
          ]
        }
      ]
    },
    {
      "cell_type": "code",
      "source": [
        "frequent_visitors = df.query('`Website Visit Frequency` > 5')\n",
        "print(\"\\n15. Frequent Visitors:\\n\", frequent_visitors[['Customer ID', 'Website Visit Frequency']])"
      ],
      "metadata": {
        "id": "Cfn33Z80IuNq",
        "outputId": "cff09a4f-81e4-4a1a-8c38-89d33efb8779",
        "colab": {
          "base_uri": "https://localhost:8080/"
        }
      },
      "execution_count": 23,
      "outputs": [
        {
          "output_type": "stream",
          "name": "stdout",
          "text": [
            "\n",
            "15. Frequent Visitors:\n",
            "    Customer ID  Website Visit Frequency\n",
            "1            2                        6\n",
            "7            8                        7\n"
          ]
        }
      ]
    }
  ]
}