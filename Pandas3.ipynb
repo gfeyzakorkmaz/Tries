{
  "nbformat": 4,
  "nbformat_minor": 0,
  "metadata": {
    "colab": {
      "provenance": [],
      "mount_file_id": "12N_J3imugCuRbU__JSYLqgYHRyXjS5wm",
      "authorship_tag": "ABX9TyPmrtmLpHt4v8OCfxj0LVDU",
      "include_colab_link": true
    },
    "kernelspec": {
      "name": "python3",
      "display_name": "Python 3"
    },
    "language_info": {
      "name": "python"
    }
  },
  "cells": [
    {
      "cell_type": "markdown",
      "metadata": {
        "id": "view-in-github",
        "colab_type": "text"
      },
      "source": [
        "<a href=\"https://colab.research.google.com/github/gfeyzakorkmaz/Tries/blob/main/Pandas3.ipynb\" target=\"_parent\"><img src=\"https://colab.research.google.com/assets/colab-badge.svg\" alt=\"Open In Colab\"/></a>"
      ]
    },
    {
      "cell_type": "code",
      "execution_count": 2,
      "metadata": {
        "id": "WLLQpiPgp9Uq"
      },
      "outputs": [],
      "source": [
        "import pandas as pd\n",
        "\n",
        "path = '/content/drive/MyDrive/Dataset/complex_marketing_data_enriched.xlsx'\n",
        "\n",
        "df = pd.read_excel(path)"
      ]
    },
    {
      "cell_type": "code",
      "source": [
        "top_campaigns = df.groupby('Campaign')['Converted'].mean().nlargest(3)\n",
        "print(top_campaigns)\n"
      ],
      "metadata": {
        "colab": {
          "base_uri": "https://localhost:8080/"
        },
        "id": "be4OWEexqSGl",
        "outputId": "19973a22-fb29-4ddb-86d1-f5aa91e2b1ce"
      },
      "execution_count": 3,
      "outputs": [
        {
          "output_type": "stream",
          "name": "stdout",
          "text": [
            "Campaign\n",
            "Winter Sale     0.777778\n",
            "Summer Sale     0.500000\n",
            "Black Friday    0.000000\n",
            "Name: Converted, dtype: float64\n"
          ]
        }
      ]
    },
    {
      "cell_type": "code",
      "source": [
        "gender_income_spending = df.groupby(['Income Level', 'Gender'])['Total Spent'].mean().unstack()\n",
        "print(gender_income_spending)\n"
      ],
      "metadata": {
        "colab": {
          "base_uri": "https://localhost:8080/"
        },
        "id": "atplH42rqqT6",
        "outputId": "f21fb93e-ae58-41db-f25a-9edb17c27c82"
      },
      "execution_count": 4,
      "outputs": [
        {
          "output_type": "stream",
          "name": "stdout",
          "text": [
            "Gender                 F           M\n",
            "Income Level                        \n",
            "High          510.000000  456.666667\n",
            "Low           560.000000  336.666667\n",
            "Medium        421.428571  466.666667\n"
          ]
        }
      ]
    },
    {
      "cell_type": "code",
      "source": [
        "correlation_discount_return = df[['Discount Availed', 'Return Rate (%)']].corr()\n",
        "print(correlation_discount_return)\n"
      ],
      "metadata": {
        "colab": {
          "base_uri": "https://localhost:8080/"
        },
        "id": "B1KxGvY1qsLr",
        "outputId": "72828de3-3f5a-4786-deb4-e57ee463a18b"
      },
      "execution_count": 5,
      "outputs": [
        {
          "output_type": "stream",
          "name": "stdout",
          "text": [
            "                  Discount Availed  Return Rate (%)\n",
            "Discount Availed          1.000000        -0.201527\n",
            "Return Rate (%)          -0.201527         1.000000\n"
          ]
        }
      ]
    },
    {
      "cell_type": "code",
      "source": [
        "from collections import Counter\n",
        "comment_keywords = Counter(\" \".join(df['Comments'].dropna()).split())\n",
        "print(comment_keywords.most_common(10))\n"
      ],
      "metadata": {
        "colab": {
          "base_uri": "https://localhost:8080/"
        },
        "id": "gohsWs9mquCN",
        "outputId": "83128d55-a74a-4d5d-faf7-496d160538d9"
      },
      "execution_count": 6,
      "outputs": [
        {
          "output_type": "stream",
          "name": "stdout",
          "text": [
            "[('with', 4), ('the', 4), ('Satisfied', 3), ('customer', 3), ('service', 2), ('Needs', 2), ('High', 2), ('product', 2), ('Enjoys', 2), ('improvement', 1)]\n"
          ]
        }
      ]
    },
    {
      "cell_type": "code",
      "source": [
        "retention_rate = df[df['Customer Tenure (Years)'] > 5].shape[0] / df.shape[0]\n",
        "print(f\"Retention Rate: {retention_rate:.2%}\")\n"
      ],
      "metadata": {
        "colab": {
          "base_uri": "https://localhost:8080/"
        },
        "id": "uh3CMV6dqwjK",
        "outputId": "dbfdcee9-5a34-43ff-a5f8-93bbaad9f6dd"
      },
      "execution_count": 7,
      "outputs": [
        {
          "output_type": "stream",
          "name": "stdout",
          "text": [
            "Retention Rate: 60.00%\n"
          ]
        }
      ]
    },
    {
      "cell_type": "code",
      "source": [
        "region_cart_value = df.groupby('Region')['Average Cart Value'].mean()\n",
        "print(region_cart_value)\n"
      ],
      "metadata": {
        "colab": {
          "base_uri": "https://localhost:8080/"
        },
        "id": "7Bk_Y8xBqzFL",
        "outputId": "d0062aff-c6ae-449b-8cf4-a5cd59738bf8"
      },
      "execution_count": 8,
      "outputs": [
        {
          "output_type": "stream",
          "name": "stdout",
          "text": [
            "Region\n",
            "East     261.086667\n",
            "North    252.950000\n",
            "South    237.930000\n",
            "West     303.413333\n",
            "Name: Average Cart Value, dtype: float64\n"
          ]
        }
      ]
    },
    {
      "cell_type": "code",
      "source": [
        "df['Negative Comment'] = df['Comments'].str.contains('improvement|bad|poor', case=False, na=False)\n",
        "dissatisfaction_category = df[df['Negative Comment']].groupby('Purchased Category').size().idxmax()\n",
        "print(dissatisfaction_category)\n"
      ],
      "metadata": {
        "colab": {
          "base_uri": "https://localhost:8080/"
        },
        "id": "xTItfDHRq0_O",
        "outputId": "03f39f70-a900-49e8-98ca-dc73f88bfe4f"
      },
      "execution_count": 10,
      "outputs": [
        {
          "output_type": "stream",
          "name": "stdout",
          "text": [
            "Beauty\n"
          ]
        }
      ]
    },
    {
      "cell_type": "markdown",
      "source": [
        "based on negative comments - the lowest satisfaction"
      ],
      "metadata": {
        "id": "mE0TwArSq8d2"
      }
    },
    {
      "cell_type": "code",
      "source": [
        "pivot_spent = df.pivot_table(values='Total Spent', index='Gender', columns='Income Level', aggfunc='sum')\n",
        "print(pivot_spent)\n"
      ],
      "metadata": {
        "colab": {
          "base_uri": "https://localhost:8080/"
        },
        "id": "Ydaz8iJrrDta",
        "outputId": "7b9ce185-9a1e-476c-cb1e-35d65bbb1a55"
      },
      "execution_count": 11,
      "outputs": [
        {
          "output_type": "stream",
          "name": "stdout",
          "text": [
            "Income Level  High   Low  Medium\n",
            "Gender                          \n",
            "F              510  1680    2950\n",
            "M             1370  1010    1400\n"
          ]
        }
      ]
    },
    {
      "cell_type": "code",
      "source": [
        "weighted_return_rate = df.groupby('Region').apply(lambda x: (x['Return Rate (%)'] * x['Total Spent']).sum() / x['Total Spent'].sum())\n",
        "print(weighted_return_rate)\n"
      ],
      "metadata": {
        "colab": {
          "base_uri": "https://localhost:8080/"
        },
        "id": "JXHS0n0WrFZV",
        "outputId": "f5c9894d-b8a5-45f7-d922-a6c481d44939"
      },
      "execution_count": 12,
      "outputs": [
        {
          "output_type": "stream",
          "name": "stdout",
          "text": [
            "Region\n",
            "East     4.842837\n",
            "North    5.270617\n",
            "South    6.775497\n",
            "West     3.558502\n",
            "dtype: float64\n"
          ]
        },
        {
          "output_type": "stream",
          "name": "stderr",
          "text": [
            "<ipython-input-12-94e6a1d277b1>:1: DeprecationWarning: DataFrameGroupBy.apply operated on the grouping columns. This behavior is deprecated, and in a future version of pandas the grouping columns will be excluded from the operation. Either pass `include_groups=False` to exclude the groupings or explicitly select the grouping columns after groupby to silence this warning.\n",
            "  weighted_return_rate = df.groupby('Region').apply(lambda x: (x['Return Rate (%)'] * x['Total Spent']).sum() / x['Total Spent'].sum())\n"
          ]
        }
      ]
    },
    {
      "cell_type": "code",
      "source": [
        "high_value_customers = df[(df['Total Spent'] > df['Total Spent'].mean()) &\n",
        "                          (df['Customer Tenure (Years)'] > df['Customer Tenure (Years)'].mean())]\n",
        "print(high_value_customers)\n"
      ],
      "metadata": {
        "colab": {
          "base_uri": "https://localhost:8080/"
        },
        "id": "GWDZMBY-rHHX",
        "outputId": "a0ae01e2-c3cd-4177-c259-0b842fd73324"
      },
      "execution_count": 13,
      "outputs": [
        {
          "output_type": "stream",
          "name": "stdout",
          "text": [
            "   Customer ID  Age Gender  Total Spent  Converted  \\\n",
            "1            2   35      M          600          1   \n",
            "2            3   45      F          800          0   \n",
            "5            6   41      M          450          0   \n",
            "6            7   38      F          670          1   \n",
            "8            9   50      F          500          0   \n",
            "\n",
            "                        Comments Purchased Category  Stock Region  \\\n",
            "1  Needs improvement in delivery             Beauty     86   West   \n",
            "2               Regular customer              Books     24  North   \n",
            "5             Average experience              Books     86   West   \n",
            "6        Prefers online shopping         Home Goods     69  North   \n",
            "8             Loyal to the brand        Electronics     86   East   \n",
            "\n",
            "  Income Level  Discount Availed  Customer Tenure (Years)      Campaign  \\\n",
            "1          Low                61                       12   Summer Sale   \n",
            "2       Medium                50                       12  Black Friday   \n",
            "5       Medium                 2                       13           NaN   \n",
            "6          Low                50                        8   Winter Sale   \n",
            "8       Medium                20                       14   Winter Sale   \n",
            "\n",
            "   Return Rate (%)  Website Visit Frequency  Average Cart Value  \\\n",
            "1         1.833412                        6              315.52   \n",
            "2         6.547401                        0              250.69   \n",
            "5         3.238817                        3              158.28   \n",
            "6         2.738895                        1              290.23   \n",
            "8         6.164246                        3              296.54   \n",
            "\n",
            "   Negative Comment  \n",
            "1              True  \n",
            "2             False  \n",
            "5             False  \n",
            "6             False  \n",
            "8             False  \n"
          ]
        }
      ]
    },
    {
      "cell_type": "code",
      "source": [
        "highest_discount_category = df.groupby('Purchased Category')['Discount Availed'].mean().idxmax()\n",
        "print(highest_discount_category)\n"
      ],
      "metadata": {
        "colab": {
          "base_uri": "https://localhost:8080/"
        },
        "id": "M6DtWznUrOHl",
        "outputId": "b27b8eab-a299-4fbd-d6bd-cee88a9a984a"
      },
      "execution_count": 15,
      "outputs": [
        {
          "output_type": "stream",
          "name": "stdout",
          "text": [
            "Clothing\n"
          ]
        }
      ]
    },
    {
      "cell_type": "markdown",
      "source": [
        "the highest discount"
      ],
      "metadata": {
        "id": "BCx7ydP2rdEJ"
      }
    },
    {
      "cell_type": "code",
      "source": [
        "import matplotlib.pyplot as plt\n",
        "\n",
        "age_bins = pd.cut(df['Age'], bins=[0, 20, 30, 40, 50, 60, 70], labels=['0-20', '21-30', '31-40', '41-50', '51-60', '61-70'])\n",
        "age_spending = df.groupby(age_bins)['Total Spent'].mean()\n",
        "age_spending.plot(kind='bar', title='Spending by Age Group', xlabel='Age Group', ylabel='Average Spending')\n",
        "plt.show()\n"
      ],
      "metadata": {
        "colab": {
          "base_uri": "https://localhost:8080/",
          "height": 553
        },
        "id": "sDmlY9dcrTYc",
        "outputId": "a02ba473-fbba-451d-c65a-e1aa1e00181c"
      },
      "execution_count": 17,
      "outputs": [
        {
          "output_type": "stream",
          "name": "stderr",
          "text": [
            "<ipython-input-17-f9143c66ded3>:4: FutureWarning: The default of observed=False is deprecated and will be changed to True in a future version of pandas. Pass observed=False to retain current behavior or observed=True to adopt the future default and silence this warning.\n",
            "  age_spending = df.groupby(age_bins)['Total Spent'].mean()\n"
          ]
        },
        {
          "output_type": "display_data",
          "data": {
            "text/plain": [
              "<Figure size 640x480 with 1 Axes>"
            ],
            "image/png": "[encoded data removed]"
          },
          "metadata": {}
        }
      ]
    },
    {
      "cell_type": "code",
      "source": [
        "conversion_by_visits = df.groupby('Website Visit Frequency')['Converted'].mean()\n",
        "print(conversion_by_visits)\n"
      ],
      "metadata": {
        "colab": {
          "base_uri": "https://localhost:8080/"
        },
        "id": "GLP0JpNOraDc",
        "outputId": "70b34021-0951-49b7-8212-8b2fe1a83ad3"
      },
      "execution_count": 18,
      "outputs": [
        {
          "output_type": "stream",
          "name": "stdout",
          "text": [
            "Website Visit Frequency\n",
            "0    0.00\n",
            "1    0.50\n",
            "2    1.00\n",
            "3    0.40\n",
            "4    0.75\n",
            "5    0.50\n",
            "6    1.00\n",
            "7    1.00\n",
            "Name: Converted, dtype: float64\n"
          ]
        }
      ]
    },
    {
      "cell_type": "code",
      "source": [
        "return_by_gender = df.groupby('Gender')['Return Rate (%)'].mean()\n",
        "print(return_by_gender)\n"
      ],
      "metadata": {
        "colab": {
          "base_uri": "https://localhost:8080/"
        },
        "id": "gFqBbaKYrgNk",
        "outputId": "d92ba045-7a7f-4176-d277-c0de64492627"
      },
      "execution_count": 19,
      "outputs": [
        {
          "output_type": "stream",
          "name": "stdout",
          "text": [
            "Gender\n",
            "F    4.482236\n",
            "M    4.742430\n",
            "Name: Return Rate (%), dtype: float64\n"
          ]
        }
      ]
    },
    {
      "cell_type": "code",
      "source": [
        "visits_by_income = df.groupby('Income Level')['Website Visit Frequency'].mean()\n",
        "print(visits_by_income)\n"
      ],
      "metadata": {
        "colab": {
          "base_uri": "https://localhost:8080/"
        },
        "id": "wF39vRy-rjGH",
        "outputId": "24e536df-53aa-49e2-e8ca-c54b93a80974"
      },
      "execution_count": 20,
      "outputs": [
        {
          "output_type": "stream",
          "name": "stdout",
          "text": [
            "Income Level\n",
            "High      3.0\n",
            "Low       3.5\n",
            "Medium    2.9\n",
            "Name: Website Visit Frequency, dtype: float64\n"
          ]
        }
      ]
    },
    {
      "cell_type": "code",
      "source": [
        "multi_category_customers = df.groupby('Customer ID')['Purchased Category'].nunique()\n",
        "customers_in_multiple_categories = multi_category_customers[multi_category_customers > 1]\n",
        "print(customers_in_multiple_categories)\n"
      ],
      "metadata": {
        "colab": {
          "base_uri": "https://localhost:8080/"
        },
        "id": "Peccw-EerlIy",
        "outputId": "4fbe215c-be54-4f4a-fec8-55c78cb88d6f"
      },
      "execution_count": 22,
      "outputs": [
        {
          "output_type": "stream",
          "name": "stdout",
          "text": [
            "Series([], Name: Purchased Category, dtype: int64)\n"
          ]
        }
      ]
    },
    {
      "cell_type": "code",
      "source": [
        "region_tenure = df.groupby('Region')['Customer Tenure (Years)'].mean().sort_values(ascending=False)\n",
        "print(region_tenure)\n"
      ],
      "metadata": {
        "colab": {
          "base_uri": "https://localhost:8080/"
        },
        "id": "XGVu1YTcrpwo",
        "outputId": "080fb469-b47b-4837-d464-c16b69f1455f"
      },
      "execution_count": 23,
      "outputs": [
        {
          "output_type": "stream",
          "name": "stdout",
          "text": [
            "Region\n",
            "North    9.250000\n",
            "West     8.166667\n",
            "East     6.555556\n",
            "South    1.000000\n",
            "Name: Customer Tenure (Years), dtype: float64\n"
          ]
        }
      ]
    },
    {
      "cell_type": "code",
      "source": [
        "cart_return_correlation = df[['Average Cart Value', 'Return Rate (%)']].corr()\n",
        "print(cart_return_correlation)\n"
      ],
      "metadata": {
        "colab": {
          "base_uri": "https://localhost:8080/"
        },
        "id": "3T9Le96krrz2",
        "outputId": "7a368074-3445-46e2-b2af-316f918e891b"
      },
      "execution_count": 24,
      "outputs": [
        {
          "output_type": "stream",
          "name": "stdout",
          "text": [
            "                    Average Cart Value  Return Rate (%)\n",
            "Average Cart Value            1.000000        -0.352785\n",
            "Return Rate (%)              -0.352785         1.000000\n"
          ]
        }
      ]
    },
    {
      "cell_type": "code",
      "source": [
        "age_group_conversion = df.groupby(age_bins)['Converted'].mean()\n",
        "print(age_group_conversion)\n"
      ],
      "metadata": {
        "colab": {
          "base_uri": "https://localhost:8080/"
        },
        "id": "ATuIM7NfruQv",
        "outputId": "714a1545-b415-44b2-e763-3db5ee10bb4c"
      },
      "execution_count": 25,
      "outputs": [
        {
          "output_type": "stream",
          "name": "stdout",
          "text": [
            "Age\n",
            "0-20          NaN\n",
            "21-30    0.833333\n",
            "31-40    0.857143\n",
            "41-50    0.166667\n",
            "51-60    0.000000\n",
            "61-70         NaN\n",
            "Name: Converted, dtype: float64\n"
          ]
        },
        {
          "output_type": "stream",
          "name": "stderr",
          "text": [
            "<ipython-input-25-608d5ed17a35>:1: FutureWarning: The default of observed=False is deprecated and will be changed to True in a future version of pandas. Pass observed=False to retain current behavior or observed=True to adopt the future default and silence this warning.\n",
            "  age_group_conversion = df.groupby(age_bins)['Converted'].mean()\n"
          ]
        }
      ]
    },
    {
      "cell_type": "code",
      "source": [
        "discount_per_campaign = df.groupby('Campaign')['Discount Availed'].mean()\n",
        "print(discount_per_campaign)\n"
      ],
      "metadata": {
        "colab": {
          "base_uri": "https://localhost:8080/"
        },
        "id": "9Be1Grgorv5y",
        "outputId": "12407dd4-7dd2-4a31-f292-20b8eaf191d1"
      },
      "execution_count": 26,
      "outputs": [
        {
          "output_type": "stream",
          "name": "stdout",
          "text": [
            "Campaign\n",
            "Black Friday    40.750000\n",
            "Summer Sale     56.500000\n",
            "Winter Sale     32.333333\n",
            "Name: Discount Availed, dtype: float64\n"
          ]
        }
      ]
    }
  ]
}